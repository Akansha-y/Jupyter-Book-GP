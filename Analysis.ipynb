{
 "cells": [
  {
   "cell_type": "markdown",
   "id": "9a146e45-0745-40c8-9fa2-b63e3335a3ab",
   "metadata": {},
   "source": [
    "# Analysis of the data"
   ]
  },
  {
   "cell_type": "code",
   "execution_count": 2,
   "id": "5947c47c-4579-4ce9-9828-2b993ce360c8",
   "metadata": {},
   "outputs": [],
   "source": [
    "import pandas as pd\n",
    "import numpy as np\n",
    "import matplotlib.pyplot as plt\n",
    "import plotly.express as px"
   ]
  },
  {
   "cell_type": "code",
   "execution_count": 3,
   "id": "7c737b30-a386-4531-9b3c-092166b15220",
   "metadata": {},
   "outputs": [
    {
     "data": {
      "text/html": [
       "<div>\n",
       "<style scoped>\n",
       "    .dataframe tbody tr th:only-of-type {\n",
       "        vertical-align: middle;\n",
       "    }\n",
       "\n",
       "    .dataframe tbody tr th {\n",
       "        vertical-align: top;\n",
       "    }\n",
       "\n",
       "    .dataframe thead th {\n",
       "        text-align: right;\n",
       "    }\n",
       "</style>\n",
       "<table border=\"1\" class=\"dataframe\">\n",
       "  <thead>\n",
       "    <tr style=\"text-align: right;\">\n",
       "      <th></th>\n",
       "      <th>College</th>\n",
       "      <th>State</th>\n",
       "      <th>OutStateTuition</th>\n",
       "      <th>Type</th>\n",
       "      <th>MathSAT</th>\n",
       "      <th>VerbalSAT</th>\n",
       "      <th>PercAccepted</th>\n",
       "      <th>PercEnrolled</th>\n",
       "      <th>NumberFTUGs</th>\n",
       "      <th>NumberPTUGs</th>\n",
       "      <th>RoomBoardCosts</th>\n",
       "      <th>BookCosts</th>\n",
       "      <th>FacultyPhDs</th>\n",
       "      <th>StuFacRatio</th>\n",
       "      <th>Expenditure</th>\n",
       "      <th>GradRate</th>\n",
       "      <th>id</th>\n",
       "    </tr>\n",
       "  </thead>\n",
       "  <tbody>\n",
       "    <tr>\n",
       "      <th>0</th>\n",
       "      <td>Alaska Pacific University</td>\n",
       "      <td>AK</td>\n",
       "      <td>7560</td>\n",
       "      <td>Private</td>\n",
       "      <td>6</td>\n",
       "      <td>6</td>\n",
       "      <td>0.756</td>\n",
       "      <td>0.377</td>\n",
       "      <td>249</td>\n",
       "      <td>869</td>\n",
       "      <td>4120</td>\n",
       "      <td>800</td>\n",
       "      <td>0.76</td>\n",
       "      <td>11.9</td>\n",
       "      <td>10922</td>\n",
       "      <td>0.15</td>\n",
       "      <td>1</td>\n",
       "    </tr>\n",
       "    <tr>\n",
       "      <th>1</th>\n",
       "      <td>Auburn University-Main Campus</td>\n",
       "      <td>AL</td>\n",
       "      <td>6300</td>\n",
       "      <td>Public</td>\n",
       "      <td>8</td>\n",
       "      <td>7</td>\n",
       "      <td>0.900</td>\n",
       "      <td>0.452</td>\n",
       "      <td>16262</td>\n",
       "      <td>1716</td>\n",
       "      <td>3933</td>\n",
       "      <td>600</td>\n",
       "      <td>0.85</td>\n",
       "      <td>16.7</td>\n",
       "      <td>6642</td>\n",
       "      <td>0.69</td>\n",
       "      <td>2</td>\n",
       "    </tr>\n",
       "    <tr>\n",
       "      <th>2</th>\n",
       "      <td>Birmingham-Southern College</td>\n",
       "      <td>AL</td>\n",
       "      <td>11660</td>\n",
       "      <td>Private</td>\n",
       "      <td>8</td>\n",
       "      <td>7</td>\n",
       "      <td>0.730</td>\n",
       "      <td>0.488</td>\n",
       "      <td>1376</td>\n",
       "      <td>207</td>\n",
       "      <td>4325</td>\n",
       "      <td>400</td>\n",
       "      <td>0.74</td>\n",
       "      <td>14.0</td>\n",
       "      <td>8649</td>\n",
       "      <td>0.72</td>\n",
       "      <td>3</td>\n",
       "    </tr>\n",
       "    <tr>\n",
       "      <th>3</th>\n",
       "      <td>Huntingdon College</td>\n",
       "      <td>AL</td>\n",
       "      <td>8080</td>\n",
       "      <td>Private</td>\n",
       "      <td>7</td>\n",
       "      <td>5</td>\n",
       "      <td>0.855</td>\n",
       "      <td>0.244</td>\n",
       "      <td>538</td>\n",
       "      <td>126</td>\n",
       "      <td>3920</td>\n",
       "      <td>500</td>\n",
       "      <td>0.63</td>\n",
       "      <td>11.4</td>\n",
       "      <td>7703</td>\n",
       "      <td>0.44</td>\n",
       "      <td>4</td>\n",
       "    </tr>\n",
       "    <tr>\n",
       "      <th>4</th>\n",
       "      <td>Spring Hill College</td>\n",
       "      <td>AL</td>\n",
       "      <td>11478</td>\n",
       "      <td>Private</td>\n",
       "      <td>7</td>\n",
       "      <td>6</td>\n",
       "      <td>0.898</td>\n",
       "      <td>0.331</td>\n",
       "      <td>942</td>\n",
       "      <td>224</td>\n",
       "      <td>4788</td>\n",
       "      <td>500</td>\n",
       "      <td>0.80</td>\n",
       "      <td>14.4</td>\n",
       "      <td>8594</td>\n",
       "      <td>0.70</td>\n",
       "      <td>5</td>\n",
       "    </tr>\n",
       "  </tbody>\n",
       "</table>\n",
       "</div>"
      ],
      "text/plain": [
       "                         College State  OutStateTuition     Type  MathSAT  \\\n",
       "0      Alaska Pacific University    AK             7560  Private        6   \n",
       "1  Auburn University-Main Campus    AL             6300   Public        8   \n",
       "2    Birmingham-Southern College    AL            11660  Private        8   \n",
       "3             Huntingdon College    AL             8080  Private        7   \n",
       "4            Spring Hill College    AL            11478  Private        7   \n",
       "\n",
       "   VerbalSAT  PercAccepted  PercEnrolled  NumberFTUGs  NumberPTUGs  \\\n",
       "0          6         0.756         0.377          249          869   \n",
       "1          7         0.900         0.452        16262         1716   \n",
       "2          7         0.730         0.488         1376          207   \n",
       "3          5         0.855         0.244          538          126   \n",
       "4          6         0.898         0.331          942          224   \n",
       "\n",
       "   RoomBoardCosts  BookCosts  FacultyPhDs  StuFacRatio  Expenditure  GradRate  \\\n",
       "0            4120        800         0.76         11.9        10922      0.15   \n",
       "1            3933        600         0.85         16.7         6642      0.69   \n",
       "2            4325        400         0.74         14.0         8649      0.72   \n",
       "3            3920        500         0.63         11.4         7703      0.44   \n",
       "4            4788        500         0.80         14.4         8594      0.70   \n",
       "\n",
       "   id  \n",
       "0   1  \n",
       "1   2  \n",
       "2   3  \n",
       "3   4  \n",
       "4   5  "
      ]
     },
     "execution_count": 3,
     "metadata": {},
     "output_type": "execute_result"
    }
   ],
   "source": [
    "data = pd.read_csv(\"CollegeRankingsData.csv\")\n",
    "data.head()"
   ]
  },
  {
   "cell_type": "code",
   "execution_count": 9,
   "id": "cbf020f5-9366-4076-816c-556f7d630fea",
   "metadata": {},
   "outputs": [
    {
     "ename": "TypeError",
     "evalue": "hist() got multiple values for argument 'x'",
     "output_type": "error",
     "traceback": [
      "\u001b[0;31m---------------------------------------------------------------------------\u001b[0m",
      "\u001b[0;31mTypeError\u001b[0m                                 Traceback (most recent call last)",
      "Input \u001b[0;32mIn [9]\u001b[0m, in \u001b[0;36m<cell line: 1>\u001b[0;34m()\u001b[0m\n\u001b[0;32m----> 1\u001b[0m \u001b[43mdata\u001b[49m\u001b[38;5;241;43m.\u001b[39;49m\u001b[43mhist\u001b[49m\u001b[43m(\u001b[49m\u001b[43mx\u001b[49m\u001b[38;5;241;43m=\u001b[39;49m\u001b[38;5;124;43m\"\u001b[39;49m\u001b[38;5;124;43mPercAccepted\u001b[39;49m\u001b[38;5;124;43m\"\u001b[39;49m\u001b[43m,\u001b[49m\u001b[43m \u001b[49m\u001b[43mtitle\u001b[49m\u001b[38;5;241;43m=\u001b[39;49m\u001b[38;5;124;43m\"\u001b[39;49m\u001b[38;5;124;43mDistribution of Accepted Applicants\u001b[39;49m\u001b[38;5;124;43m\"\u001b[39;49m\u001b[43m)\u001b[49m\n",
      "File \u001b[0;32m/usr/local/lib/python3.9/site-packages/pandas/plotting/_core.py:226\u001b[0m, in \u001b[0;36mhist_frame\u001b[0;34m(data, column, by, grid, xlabelsize, xrot, ylabelsize, yrot, ax, sharex, sharey, figsize, layout, bins, backend, legend, **kwargs)\u001b[0m\n\u001b[1;32m    135\u001b[0m \u001b[38;5;124;03m\"\"\"\u001b[39;00m\n\u001b[1;32m    136\u001b[0m \u001b[38;5;124;03mMake a histogram of the DataFrame's columns.\u001b[39;00m\n\u001b[1;32m    137\u001b[0m \n\u001b[0;32m   (...)\u001b[0m\n\u001b[1;32m    223\u001b[0m \u001b[38;5;124;03m    >>> hist = df.hist(bins=3)\u001b[39;00m\n\u001b[1;32m    224\u001b[0m \u001b[38;5;124;03m\"\"\"\u001b[39;00m\n\u001b[1;32m    225\u001b[0m plot_backend \u001b[38;5;241m=\u001b[39m _get_plot_backend(backend)\n\u001b[0;32m--> 226\u001b[0m \u001b[38;5;28;01mreturn\u001b[39;00m \u001b[43mplot_backend\u001b[49m\u001b[38;5;241;43m.\u001b[39;49m\u001b[43mhist_frame\u001b[49m\u001b[43m(\u001b[49m\n\u001b[1;32m    227\u001b[0m \u001b[43m    \u001b[49m\u001b[43mdata\u001b[49m\u001b[43m,\u001b[49m\n\u001b[1;32m    228\u001b[0m \u001b[43m    \u001b[49m\u001b[43mcolumn\u001b[49m\u001b[38;5;241;43m=\u001b[39;49m\u001b[43mcolumn\u001b[49m\u001b[43m,\u001b[49m\n\u001b[1;32m    229\u001b[0m \u001b[43m    \u001b[49m\u001b[43mby\u001b[49m\u001b[38;5;241;43m=\u001b[39;49m\u001b[43mby\u001b[49m\u001b[43m,\u001b[49m\n\u001b[1;32m    230\u001b[0m \u001b[43m    \u001b[49m\u001b[43mgrid\u001b[49m\u001b[38;5;241;43m=\u001b[39;49m\u001b[43mgrid\u001b[49m\u001b[43m,\u001b[49m\n\u001b[1;32m    231\u001b[0m \u001b[43m    \u001b[49m\u001b[43mxlabelsize\u001b[49m\u001b[38;5;241;43m=\u001b[39;49m\u001b[43mxlabelsize\u001b[49m\u001b[43m,\u001b[49m\n\u001b[1;32m    232\u001b[0m \u001b[43m    \u001b[49m\u001b[43mxrot\u001b[49m\u001b[38;5;241;43m=\u001b[39;49m\u001b[43mxrot\u001b[49m\u001b[43m,\u001b[49m\n\u001b[1;32m    233\u001b[0m \u001b[43m    \u001b[49m\u001b[43mylabelsize\u001b[49m\u001b[38;5;241;43m=\u001b[39;49m\u001b[43mylabelsize\u001b[49m\u001b[43m,\u001b[49m\n\u001b[1;32m    234\u001b[0m \u001b[43m    \u001b[49m\u001b[43myrot\u001b[49m\u001b[38;5;241;43m=\u001b[39;49m\u001b[43myrot\u001b[49m\u001b[43m,\u001b[49m\n\u001b[1;32m    235\u001b[0m \u001b[43m    \u001b[49m\u001b[43max\u001b[49m\u001b[38;5;241;43m=\u001b[39;49m\u001b[43max\u001b[49m\u001b[43m,\u001b[49m\n\u001b[1;32m    236\u001b[0m \u001b[43m    \u001b[49m\u001b[43msharex\u001b[49m\u001b[38;5;241;43m=\u001b[39;49m\u001b[43msharex\u001b[49m\u001b[43m,\u001b[49m\n\u001b[1;32m    237\u001b[0m \u001b[43m    \u001b[49m\u001b[43msharey\u001b[49m\u001b[38;5;241;43m=\u001b[39;49m\u001b[43msharey\u001b[49m\u001b[43m,\u001b[49m\n\u001b[1;32m    238\u001b[0m \u001b[43m    \u001b[49m\u001b[43mfigsize\u001b[49m\u001b[38;5;241;43m=\u001b[39;49m\u001b[43mfigsize\u001b[49m\u001b[43m,\u001b[49m\n\u001b[1;32m    239\u001b[0m \u001b[43m    \u001b[49m\u001b[43mlayout\u001b[49m\u001b[38;5;241;43m=\u001b[39;49m\u001b[43mlayout\u001b[49m\u001b[43m,\u001b[49m\n\u001b[1;32m    240\u001b[0m \u001b[43m    \u001b[49m\u001b[43mlegend\u001b[49m\u001b[38;5;241;43m=\u001b[39;49m\u001b[43mlegend\u001b[49m\u001b[43m,\u001b[49m\n\u001b[1;32m    241\u001b[0m \u001b[43m    \u001b[49m\u001b[43mbins\u001b[49m\u001b[38;5;241;43m=\u001b[39;49m\u001b[43mbins\u001b[49m\u001b[43m,\u001b[49m\n\u001b[1;32m    242\u001b[0m \u001b[43m    \u001b[49m\u001b[38;5;241;43m*\u001b[39;49m\u001b[38;5;241;43m*\u001b[39;49m\u001b[43mkwargs\u001b[49m\u001b[43m,\u001b[49m\n\u001b[1;32m    243\u001b[0m \u001b[43m\u001b[49m\u001b[43m)\u001b[49m\n",
      "File \u001b[0;32m/usr/local/lib/python3.9/site-packages/pandas/plotting/_matplotlib/hist.py:501\u001b[0m, in \u001b[0;36mhist_frame\u001b[0;34m(data, column, by, grid, xlabelsize, xrot, ylabelsize, yrot, ax, sharex, sharey, figsize, layout, bins, legend, **kwds)\u001b[0m\n\u001b[1;32m    499\u001b[0m \u001b[38;5;28;01mif\u001b[39;00m legend \u001b[38;5;129;01mand\u001b[39;00m can_set_label:\n\u001b[1;32m    500\u001b[0m     kwds[\u001b[38;5;124m\"\u001b[39m\u001b[38;5;124mlabel\u001b[39m\u001b[38;5;124m\"\u001b[39m] \u001b[38;5;241m=\u001b[39m col\n\u001b[0;32m--> 501\u001b[0m \u001b[43max\u001b[49m\u001b[38;5;241;43m.\u001b[39;49m\u001b[43mhist\u001b[49m\u001b[43m(\u001b[49m\u001b[43mdata\u001b[49m\u001b[43m[\u001b[49m\u001b[43mcol\u001b[49m\u001b[43m]\u001b[49m\u001b[38;5;241;43m.\u001b[39;49m\u001b[43mdropna\u001b[49m\u001b[43m(\u001b[49m\u001b[43m)\u001b[49m\u001b[38;5;241;43m.\u001b[39;49m\u001b[43mvalues\u001b[49m\u001b[43m,\u001b[49m\u001b[43m \u001b[49m\u001b[43mbins\u001b[49m\u001b[38;5;241;43m=\u001b[39;49m\u001b[43mbins\u001b[49m\u001b[43m,\u001b[49m\u001b[43m \u001b[49m\u001b[38;5;241;43m*\u001b[39;49m\u001b[38;5;241;43m*\u001b[39;49m\u001b[43mkwds\u001b[49m\u001b[43m)\u001b[49m\n\u001b[1;32m    502\u001b[0m ax\u001b[38;5;241m.\u001b[39mset_title(col)\n\u001b[1;32m    503\u001b[0m ax\u001b[38;5;241m.\u001b[39mgrid(grid)\n",
      "File \u001b[0;32m/usr/local/lib/python3.9/site-packages/matplotlib/__init__.py:1412\u001b[0m, in \u001b[0;36m_preprocess_data.<locals>.inner\u001b[0;34m(ax, data, *args, **kwargs)\u001b[0m\n\u001b[1;32m   1409\u001b[0m \u001b[38;5;129m@functools\u001b[39m\u001b[38;5;241m.\u001b[39mwraps(func)\n\u001b[1;32m   1410\u001b[0m \u001b[38;5;28;01mdef\u001b[39;00m \u001b[38;5;21minner\u001b[39m(ax, \u001b[38;5;241m*\u001b[39margs, data\u001b[38;5;241m=\u001b[39m\u001b[38;5;28;01mNone\u001b[39;00m, \u001b[38;5;241m*\u001b[39m\u001b[38;5;241m*\u001b[39mkwargs):\n\u001b[1;32m   1411\u001b[0m     \u001b[38;5;28;01mif\u001b[39;00m data \u001b[38;5;129;01mis\u001b[39;00m \u001b[38;5;28;01mNone\u001b[39;00m:\n\u001b[0;32m-> 1412\u001b[0m         \u001b[38;5;28;01mreturn\u001b[39;00m \u001b[43mfunc\u001b[49m\u001b[43m(\u001b[49m\u001b[43max\u001b[49m\u001b[43m,\u001b[49m\u001b[43m \u001b[49m\u001b[38;5;241;43m*\u001b[39;49m\u001b[38;5;28;43mmap\u001b[39;49m\u001b[43m(\u001b[49m\u001b[43msanitize_sequence\u001b[49m\u001b[43m,\u001b[49m\u001b[43m \u001b[49m\u001b[43margs\u001b[49m\u001b[43m)\u001b[49m\u001b[43m,\u001b[49m\u001b[43m \u001b[49m\u001b[38;5;241;43m*\u001b[39;49m\u001b[38;5;241;43m*\u001b[39;49m\u001b[43mkwargs\u001b[49m\u001b[43m)\u001b[49m\n\u001b[1;32m   1414\u001b[0m     bound \u001b[38;5;241m=\u001b[39m new_sig\u001b[38;5;241m.\u001b[39mbind(ax, \u001b[38;5;241m*\u001b[39margs, \u001b[38;5;241m*\u001b[39m\u001b[38;5;241m*\u001b[39mkwargs)\n\u001b[1;32m   1415\u001b[0m     auto_label \u001b[38;5;241m=\u001b[39m (bound\u001b[38;5;241m.\u001b[39marguments\u001b[38;5;241m.\u001b[39mget(label_namer)\n\u001b[1;32m   1416\u001b[0m                   \u001b[38;5;129;01mor\u001b[39;00m bound\u001b[38;5;241m.\u001b[39mkwargs\u001b[38;5;241m.\u001b[39mget(label_namer))\n",
      "\u001b[0;31mTypeError\u001b[0m: hist() got multiple values for argument 'x'"
     ]
    },
    {
     "data": {
      "image/png": "[encoded data removed]",
      "text/plain": [
       "<Figure size 432x288 with 16 Axes>"
      ]
     },
     "metadata": {
      "needs_background": "light"
     },
     "output_type": "display_data"
    }
   ],
   "source": [
    "data.hist(x=\"PercAccepted\", title=\"Distribution of Accepted Applicants\")"
   ]
  },
  {
   "cell_type": "markdown",
   "id": "302c8da8-23fc-489c-86f9-268dd3d73fa8",
   "metadata": {},
   "source": [
    "This distribution shows that colleges tend to accept most applicants."
   ]
  },
  {
   "cell_type": "code",
   "execution_count": 18,
   "id": "c42f143d-302e-459b-9cf4-59504a388f43",
   "metadata": {},
   "outputs": [
    {
     "data": {
      "application/vnd.plotly.v1+json": {
       "config": {
        "plotlyServerURL": "https://plot.ly"
       },
       "data": [
        {
         "hovertemplate": "Type=Private<br>OutStateTuition=%{x}<br>RoomBoardCosts=%{y}<br>Expenditure=%{z}<extra></extra>",
         "legendgroup": "Private",
         "marker": {
          "color": "#636efa",
          "symbol": "circle"
         },
         "mode": "markers",
         "name": "Private",
         "scene": "scene",
         "showlegend": true,
         "type": "scatter3d",
         "x": [
          7560,
          11660,
          8080,
          11478,
          8800,
          6398,
          5504,
          6870,
          11388,
          12950,
          11760,
          16624,
          17000,
          17230,
          17688,
          17238,
          11480,
          12790,
          12180,
          13540,
          12474,
          16560,
          6500,
          9900,
          10178,
          18200,
          9520,
          13332,
          13226,
          17230,
          16320,
          16249,
          13020,
          10560,
          13600,
          13592,
          10800,
          15192,
          13290,
          15000,
          10600,
          11070,
          14220,
          19130,
          7128,
          11412,
          6120,
          9890,
          11290,
          5188,
          13900,
          7800,
          15360,
          8025,
          13900,
          8550,
          16425,
          5590,
          5120,
          6200,
          7908,
          9592,
          4371,
          17600,
          6987,
          11985,
          7050,
          12900,
          5640,
          7000,
          11500,
          9700,
          8325,
          10260,
          13306,
          13925,
          15248,
          13420,
          9100,
          15688,
          13240,
          10430,
          11600,
          13500,
          10870,
          11214,
          8050,
          14550,
          14360,
          6900,
          15747,
          11500,
          11910,
          13000,
          11718,
          12580,
          16404,
          10100,
          10100,
          13130,
          15036,
          11800,
          10390,
          9420,
          8200,
          9950,
          11120,
          10440,
          9990,
          9210,
          8670,
          11200,
          10300,
          12730,
          10965,
          9456,
          16850,
          8280,
          8840,
          11850,
          6230,
          8000,
          10900,
          7800,
          9490,
          8950,
          11100,
          6900,
          19760,
          12500,
          18420,
          11800,
          18000,
          13600,
          8770,
          12200,
          11700,
          20100,
          19300,
          13380,
          15190,
          12700,
          16160,
          12170,
          18345,
          8994,
          18460,
          13472,
          15884,
          16900,
          9850,
          8400,
          11180,
          15588,
          13960,
          18800,
          12990,
          12850,
          15276,
          14510,
          19030,
          18930,
          7800,
          11450,
          9985,
          8850,
          9550,
          10230,
          11090,
          11130,
          11230,
          9450,
          11902,
          12247,
          12224,
          11844,
          11712,
          14125,
          13252,
          12247,
          14350,
          8950,
          9200,
          9250,
          8550,
          13900,
          9160,
          10720,
          10060,
          10535,
          11320,
          8650,
          8734,
          7420,
          9000,
          7550,
          9270,
          17295,
          18590,
          9100,
          8180,
          8330,
          13404,
          7550,
          10100,
          6950,
          8438,
          8242,
          8640,
          11020,
          10475,
          10375,
          7820,
          6272,
          19545,
          13320,
          10608,
          9990,
          12950,
          12292,
          8900,
          11400,
          10900,
          18432,
          9150,
          12480,
          19900,
          13250,
          12000,
          9408,
          16900,
          11010,
          11138,
          3120,
          12280,
          9000,
          9384,
          15960,
          19510,
          11790,
          18624,
          17926,
          8920,
          14990,
          14235,
          19700,
          17480,
          11600,
          9990,
          10690,
          9600,
          12370,
          14700,
          10700,
          11510,
          10200,
          7470,
          10850,
          17748,
          7950,
          11000,
          16200,
          10220,
          19300,
          18710,
          10800,
          10456,
          10570,
          18720,
          8650,
          12680,
          18920,
          13500,
          14900,
          12584,
          14710,
          11431,
          10995,
          9900,
          7344,
          9800,
          9650,
          16240,
          10850,
          13780,
          14067,
          11700,
          19240,
          9858,
          13240,
          19670,
          15990,
          16732,
          7600,
          11380,
          9600,
          15948,
          11520,
          15476,
          6400,
          10500,
          11750,
          7950,
          9200,
          9600,
          12500,
          13380,
          14210,
          19960,
          12040,
          7940,
          14800,
          15595,
          12850,
          18165,
          10518,
          17900,
          14340,
          13500,
          10335,
          11190,
          14190,
          10970,
          9476,
          5224,
          11000,
          10000,
          14850,
          10910,
          12600,
          13850,
          13900,
          11040,
          10300,
          16975,
          12350,
          12520,
          11690,
          9700,
          6540,
          12750,
          11172,
          17020,
          11584,
          14900,
          15925,
          12065,
          11428,
          4990,
          9690,
          8842,
          19528,
          12600,
          14400,
          14200,
          12520,
          7730,
          8300,
          9888,
          10425,
          10485,
          13440,
          10194,
          11859,
          4450,
          12680,
          7800,
          9300,
          5775,
          5500,
          4788,
          11200,
          7070,
          7700,
          15350,
          17865,
          11280,
          6900,
          5400,
          6300,
          5190,
          5400,
          8840,
          8840,
          6930,
          8530,
          8955,
          7536,
          11850,
          9428,
          8678,
          3605,
          7850,
          6400,
          12240,
          10760,
          8550,
          5100,
          9925,
          7150,
          8578,
          9400,
          13218,
          7161,
          13470,
          11200,
          11390,
          13840,
          13970,
          13425,
          10700,
          14500,
          7384,
          8730,
          21700,
          8300,
          11750,
          18375,
          13030,
          11010,
          13000,
          13312,
          12669,
          12825,
          11550,
          16230,
          16670,
          12660,
          16304,
          13125,
          11610,
          8950,
          9570,
          15200,
          12140,
          10468,
          15700,
          9400,
          5094,
          9500,
          4694,
          14200,
          10500
         ],
         "y": [
          4120,
          4325,
          3920,
          4788,
          3195,
          3672,
          3528,
          3100,
          4546,
          5300,
          4225,
          5895,
          6010,
          6690,
          5900,
          7350,
          5280,
          6100,
          3885,
          5050,
          5678,
          5140,
          3000,
          3670,
          4190,
          6770,
          4124,
          6354,
          6452,
          6482,
          5326,
          5699,
          5490,
          6200,
          5940,
          5916,
          4440,
          4695,
          5720,
          6200,
          5020,
          5780,
          6000,
          5600,
          3750,
          6430,
          2985,
          4674,
          5360,
          3396,
          4140,
          3750,
          4080,
          4865,
          5600,
          4740,
          5220,
          2900,
          3200,
          3270,
          4238,
          5879,
          2370,
          6000,
          3585,
          4081,
          5490,
          4340,
          3620,
          5565,
          4500,
          3744,
          5000,
          3597,
          3797,
          4390,
          4323,
          4770,
          3100,
          4618,
          3560,
          3620,
          3610,
          3335,
          4440,
          4932,
          3850,
          4620,
          4090,
          4851,
          4062,
          5330,
          4378,
          4100,
          7398,
          4345,
          5520,
          4140,
          3520,
          4650,
          4056,
          4340,
          4040,
          3730,
          3485,
          3920,
          4080,
          3850,
          3822,
          3782,
          3820,
          4250,
          4130,
          4514,
          4000,
          4350,
          4400,
          3260,
          2950,
          4270,
          3526,
          4150,
          4450,
          2950,
          3892,
          3490,
          5870,
          4200,
          5300,
          6200,
          6810,
          4765,
          6300,
          5450,
          3500,
          4070,
          5300,
          5975,
          5700,
          7425,
          6480,
          5800,
          6950,
          6172,
          5995,
          5500,
          5970,
          5528,
          5370,
          5620,
          6050,
          2812,
          5620,
          6174,
          6040,
          6740,
          6300,
          6200,
          5318,
          5340,
          5885,
          5590,
          4000,
          5045,
          5180,
          4450,
          4750,
          3710,
          4700,
          3996,
          6643,
          4385,
          4372,
          4221,
          4440,
          3696,
          4037,
          3600,
          4194,
          4081,
          3750,
          3800,
          4800,
          4550,
          5050,
          5200,
          4340,
          4050,
          2970,
          4365,
          4402,
          3815,
          3362,
          3440,
          4850,
          2790,
          4100,
          5070,
          5950,
          3883,
          4270,
          3770,
          5160,
          4050,
          4000,
          3550,
          3372,
          4230,
          3700,
          4970,
          6300,
          4575,
          3400,
          2762,
          6070,
          4630,
          4740,
          4900,
          5400,
          4934,
          4600,
          5400,
          5250,
          5616,
          3950,
          5290,
          5910,
          5420,
          6484,
          5520,
          5680,
          5400,
          4138,
          3382,
          6450,
          3100,
          4840,
          5580,
          5565,
          5770,
          6664,
          8124,
          4310,
          4980,
          6965,
          5050,
          4780,
          5920,
          3550,
          6790,
          4550,
          6800,
          6550,
          5925,
          6450,
          7000,
          4600,
          5150,
          7262,
          3810,
          5160,
          4200,
          3546,
          6694,
          5970,
          5100,
          4927,
          5600,
          5730,
          5700,
          4924,
          5950,
          5800,
          5550,
          4192,
          8020,
          4684,
          4410,
          3990,
          4410,
          4430,
          4400,
          4690,
          3670,
          4410,
          4560,
          5550,
          3690,
          3700,
          3914,
          5820,
          4080,
          5650,
          3800,
          4220,
          4202,
          4404,
          4960,
          3336,
          3150,
          3860,
          4160,
          3994,
          4000,
          3150,
          4130,
          4210,
          3994,
          5490,
          4100,
          4032,
          4620,
          4400,
          5400,
          6750,
          6250,
          5690,
          5285,
          5230,
          5015,
          4800,
          4400,
          4280,
          4820,
          3048,
          5550,
          5364,
          4460,
          5160,
          5610,
          4755,
          4300,
          4500,
          5080,
          4565,
          5370,
          3860,
          5062,
          4830,
          4326,
          6350,
          4958,
          7270,
          5986,
          5160,
          6507,
          3615,
          5084,
          3560,
          4785,
          4782,
          5926,
          6410,
          6200,
          6500,
          6050,
          3170,
          3080,
          4502,
          3975,
          3840,
          4048,
          2600,
          3635,
          2522,
          4150,
          3664,
          3260,
          3340,
          3340,
          3320,
          4208,
          3640,
          3400,
          4080,
          6525,
          4342,
          3800,
          3270,
          2980,
          2992,
          2340,
          4689,
          4240,
          3452,
          3644,
          5900,
          3736,
          4675,
          4070,
          3858,
          2430,
          3410,
          3484,
          5150,
          6230,
          4050,
          2791,
          4135,
          4350,
          4408,
          4200,
          4773,
          3518,
          5515,
          7400,
          5280,
          3735,
          6110,
          4425,
          4500,
          6000,
          3494,
          3600,
          4100,
          4850,
          2700,
          6075,
          5860,
          5208,
          4450,
          4488,
          4875,
          4375,
          4270,
          4500,
          4900,
          4500,
          3616,
          3775,
          4760,
          3119,
          3750,
          4100,
          4450,
          3380,
          5750,
          4450,
          4010,
          3540,
          3890,
          3775,
          4545
         ],
         "z": [
          10922,
          8649,
          7703,
          8594,
          8588,
          8118,
          6466,
          6219,
          9329,
          8985,
          10317,
          12692,
          18443,
          21569,
          14820,
          18372,
          10362,
          8966,
          8294,
          10139,
          10613,
          16196,
          5612,
          8095,
          7895,
          16185,
          8219,
          9619,
          10074,
          17007,
          13706,
          11778,
          6944,
          31012,
          10813,
          11677,
          8415,
          11762,
          8861,
          11220,
          7033,
          7120,
          10625,
          16262,
          18287,
          11806,
          6081,
          6243,
          9084,
          6817,
          8923,
          12878,
          15003,
          6339,
          12614,
          12523,
          11561,
          4839,
          3930,
          7774,
          9345,
          5935,
          4900,
          28457,
          9067,
          8995,
          8122,
          8568,
          7309,
          9988,
          11605,
          8614,
          6874,
          8355,
          6333,
          10141,
          10340,
          9473,
          5609,
          18979,
          8949,
          8767,
          7735,
          9727,
          7671,
          8322,
          7348,
          12851,
          9605,
          8812,
          13224,
          13009,
          8149,
          11087,
          8871,
          10889,
          26385,
          6880,
          7994,
          9511,
          14634,
          7780,
          11751,
          10270,
          9248,
          9466,
          6735,
          7940,
          7799,
          6562,
          7440,
          7360,
          9678,
          11165,
          8294,
          7603,
          13936,
          10049,
          6668,
          13118,
          8189,
          7058,
          10219,
          6864,
          7678,
          9685,
          9456,
          8323,
          21424,
          8707,
          16836,
          8952,
          12138,
          11992,
          6430,
          9226,
          8694,
          33541,
          18359,
          9563,
          14795,
          11758,
          14086,
          7495,
          21409,
          8409,
          22704,
          12113,
          10774,
          13311,
          17858,
          7976,
          7477,
          16623,
          12434,
          56233,
          9448,
          8536,
          10830,
          10026,
          20447,
          15954,
          4923,
          9718,
          4322,
          5001,
          6145,
          7786,
          12639,
          10891,
          13025,
          5568,
          7836,
          8847,
          7315,
          8996,
          8546,
          9907,
          10296,
          9853,
          12502,
          6639,
          3480,
          5925,
          4333,
          9995,
          6951,
          7925,
          7885,
          7438,
          11218,
          5862,
          6422,
          5930,
          7550,
          3739,
          8425,
          17581,
          27206,
          6329,
          5664,
          7949,
          9114,
          4947,
          8539,
          6786,
          11989,
          10090,
          7634,
          9315,
          9599,
          9332,
          7264,
          8064,
          29619,
          6418,
          5523,
          4948,
          6719,
          8643,
          7922,
          9583,
          9447,
          14907,
          7348,
          9492,
          28320,
          11299,
          10080,
          7669,
          12837,
          9637,
          8820,
          3190,
          10527,
          11178,
          7697,
          11659,
          15494,
          10015,
          30639,
          12580,
          6898,
          7502,
          10864,
          17761,
          11625,
          10093,
          8187,
          8107,
          7863,
          10062,
          11291,
          8408,
          10502,
          10622,
          6898,
          8797,
          21227,
          9685,
          10059,
          14329,
          7592,
          14779,
          14837,
          8189,
          9828,
          7908,
          14980,
          6534,
          8344,
          17089,
          9006,
          13935,
          22724,
          13578,
          9090,
          8086,
          9073,
          6897,
          6889,
          6336,
          14140,
          7505,
          9268,
          12165,
          7738,
          14067,
          4796,
          9333,
          16593,
          9979,
          12011,
          5096,
          8894,
          7164,
          10414,
          9189,
          42926,
          6578,
          8990,
          11743,
          7885,
          7269,
          5976,
          7136,
          8747,
          11216,
          15886,
          9060,
          7516,
          10779,
          11644,
          8954,
          17449,
          7117,
          24386,
          10961,
          16095,
          7729,
          8135,
          9815,
          7711,
          6786,
          4957,
          7483,
          7305,
          12067,
          7649,
          9084,
          8196,
          8024,
          9034,
          7762,
          10888,
          9603,
          11641,
          8028,
          7652,
          5266,
          8243,
          9186,
          25765,
          9131,
          12082,
          10458,
          8596,
          10291,
          4509,
          7940,
          7022,
          20440,
          8353,
          8135,
          9232,
          7957,
          5825,
          3365,
          8741,
          8693,
          7527,
          12940,
          5788,
          8354,
          5861,
          7875,
          7614,
          8129,
          8048,
          6078,
          4914,
          8317,
          6286,
          4933,
          18784,
          23850,
          11361,
          6875,
          7081,
          7054,
          5684,
          5438,
          6095,
          6863,
          6383,
          7114,
          8545,
          5309,
          12995,
          7037,
          7651,
          4800,
          7002,
          7936,
          14703,
          8731,
          7237,
          6271,
          6523,
          6259,
          8061,
          7967,
          12263,
          6791,
          13957,
          10819,
          8575,
          11080,
          16358,
          9405,
          9471,
          18953,
          6757,
          10922,
          16364,
          6936,
          6475,
          11767,
          10190,
          9586,
          9553,
          9431,
          10368,
          10175,
          9209,
          11217,
          13198,
          8328,
          12957,
          7364,
          9982,
          7016,
          7774,
          12472,
          8595,
          8991,
          10941,
          8813,
          6203,
          7683,
          3485,
          8080,
          7494
         ]
        },
        {
         "hovertemplate": "Type=Public<br>OutStateTuition=%{x}<br>RoomBoardCosts=%{y}<br>Expenditure=%{z}<extra></extra>",
         "legendgroup": "Public",
         "marker": {
          "color": "#EF553B",
          "symbol": "circle"
         },
         "mode": "markers",
         "name": "Public",
         "scene": "scene",
         "showlegend": true,
         "type": "scatter3d",
         "x": [
          6300,
          2883,
          4960,
          7434,
          6746,
          7434,
          8990,
          7380,
          9979,
          9096,
          8384,
          8964,
          8820,
          7830,
          11648,
          12024,
          7689,
          7699,
          7699,
          11218,
          7699,
          14320,
          7731,
          8412,
          5016,
          7100,
          5918,
          5962,
          5962,
          5962,
          11656,
          6700,
          6760,
          6618,
          6172,
          6597,
          6634,
          5604,
          2763,
          4023,
          4571,
          5697,
          4617,
          4650,
          4457,
          4460,
          2920,
          2093,
          5120,
          5962,
          7560,
          7244,
          4973,
          9766,
          9556,
          6892,
          5925,
          5154,
          9838,
          5542,
          5542,
          5542,
          5542,
          6797,
          6919,
          4869,
          5428,
          4136,
          5130,
          6800,
          5166,
          8723,
          8594,
          7014,
          6600,
          4800,
          7975,
          6360,
          10658,
          8127,
          15732,
          9843,
          4200,
          8949,
          9057,
          9057,
          4652,
          6073,
          5552,
          6311,
          6806,
          6806,
          5972,
          7248,
          6806,
          6360,
          8400,
          8400,
          7248,
          8677,
          6390,
          7558,
          5634,
          5595,
          11180,
          7870,
          4356,
          3946,
          3648,
          8832,
          2875,
          3135,
          7410,
          5391,
          7411,
          7410,
          4449,
          3040,
          6490,
          6550,
          6550,
          6550,
          6550,
          6550,
          6550,
          6550,
          6550,
          6550,
          6550,
          6550,
          6550,
          6840,
          6550,
          6550,
          7452,
          7854,
          7629,
          7650,
          8907,
          7441,
          5336,
          7890,
          8676,
          7352,
          4818,
          7844,
          8285,
          7352,
          7844,
          7844,
          7844,
          10096,
          10786,
          10645,
          7844,
          10330,
          8116,
          6120,
          4938,
          8074,
          5800,
          6400,
          5840,
          5800,
          5550,
          5764,
          5130,
          5390,
          4752,
          4104,
          4860,
          4860,
          4290,
          4860,
          7860,
          4860,
          4422,
          5130,
          4104,
          4104,
          5130,
          6857,
          11720,
          7860,
          7920,
          7994,
          9464,
          6684,
          10217,
          7168,
          7656,
          7656,
          15516,
          7974,
          8124,
          6297,
          6996
         ],
         "y": [
          3933,
          2570,
          3500,
          4850,
          3728,
          4216,
          3476,
          4877,
          4200,
          4500,
          5110,
          6776,
          4224,
          5189,
          6246,
          5302,
          5580,
          5430,
          6607,
          5990,
          6081,
          5304,
          4128,
          4180,
          3798,
          4380,
          3755,
          4444,
          4796,
          4316,
          5072,
          4060,
          3776,
          4234,
          3994,
          2494,
          4360,
          4192,
          3375,
          3219,
          2987,
          3600,
          2940,
          2973,
          2739,
          3038,
          4270,
          3069,
          3190,
          3540,
          4574,
          3608,
          3192,
          3990,
          3990,
          3706,
          2980,
          3116,
          4164,
          3991,
          4330,
          3514,
          3788,
          3900,
          4500,
          4075,
          4390,
          4640,
          4690,
          4730,
          4480,
          5146,
          4408,
          3580,
          3630,
          3395,
          4385,
          4031,
          3734,
          3978,
          4659,
          3180,
          2700,
          3744,
          3485,
          3600,
          2470,
          3400,
          3710,
          3957,
          1780,
          2540,
          3420,
          3240,
          2550,
          2760,
          6540,
          4200,
          3109,
          3505,
          2380,
          3680,
          2703,
          3145,
          3862,
          4157,
          4830,
          4800,
          4834,
          5376,
          3840,
          4170,
          4748,
          5411,
          4748,
          4748,
          4860,
          4351,
          4560,
          4355,
          4598,
          4712,
          4460,
          4040,
          4680,
          4420,
          4170,
          4240,
          4952,
          4810,
          4176,
          4660,
          4760,
          4731,
          3352,
          3666,
          4095,
          3844,
          4697,
          3719,
          3344,
          3444,
          3560,
          2906,
          3400,
          2948,
          2970,
          3620,
          3830,
          3504,
          4108,
          5282,
          4560,
          4060,
          2924,
          5558,
          3610,
          3460,
          2987,
          3522,
          3066,
          3392,
          3138,
          3000,
          2352,
          3262,
          3592,
          3380,
          3040,
          3579,
          3676,
          3610,
          3500,
          2784,
          3360,
          3688,
          2780,
          3309,
          2706,
          5376,
          3412,
          3975,
          4298,
          4750,
          3962,
          4544,
          4540,
          4110,
          4182,
          3689,
          4690,
          4690,
          4928,
          3914,
          4144,
          4600,
          2705
         ],
         "z": [
          6642,
          4295,
          8863,
          4602,
          6157,
          9683,
          6288,
          8453,
          8650,
          7530,
          7930,
          7651,
          5957,
          7304,
          13919,
          15934,
          20260,
          12528,
          17674,
          9475,
          10860,
          8837,
          6309,
          7850,
          3871,
          5389,
          4599,
          4900,
          5245,
          5719,
          10178,
          8717,
          11020,
          6742,
          8488,
          6722,
          6104,
          5667,
          5332,
          6208,
          4830,
          7881,
          5374,
          5687,
          4706,
          12833,
          11460,
          5705,
          6997,
          8805,
          8559,
          7449,
          4078,
          8686,
          8604,
          6996,
          6741,
          5260,
          7607,
          4666,
          6562,
          4386,
          4222,
          4469,
          7462,
          7848,
          5491,
          6867,
          5125,
          10357,
          5401,
          9021,
          7618,
          5191,
          6408,
          5632,
          7379,
          5955,
          10520,
          7473,
          14847,
          6716,
          5318,
          16122,
          10145,
          9699,
          5917,
          6112,
          6324,
          5862,
          7090,
          5854,
          7011,
          9002,
          6972,
          6443,
          9670,
          15893,
          6227,
          7392,
          6554,
          6005,
          9424,
          6813,
          7855,
          6195,
          7252,
          8367,
          6717,
          12529,
          6001,
          6391,
          11878,
          8504,
          10134,
          10474,
          7333,
          5599,
          10407,
          9075,
          8055,
          13705,
          6632,
          7511,
          5563,
          6442,
          5716,
          6608,
          6111,
          5280,
          6174,
          6436,
          8170,
          11177,
          6918,
          6397,
          8811,
          6025,
          13889,
          6124,
          6433,
          9383,
          7556,
          6760,
          10912,
          7041,
          6552,
          6374,
          7832,
          6719,
          6773,
          12231,
          13789,
          8992,
          5556,
          9158,
          7597,
          4776,
          6119,
          8246,
          5035,
          6729,
          5039,
          9825,
          4902,
          8612,
          4010,
          5073,
          5879,
          5657,
          4056,
          3997,
          5967,
          4242,
          3605,
          5449,
          4696,
          7837,
          4717,
          4329,
          8471,
          9275,
          9534,
          4639,
          5553,
          5212,
          6727,
          4519,
          11183,
          4417,
          6318,
          6564,
          12646,
          7451,
          7203,
          8355,
          6139
         ]
        }
       ],
       "layout": {
        "height": 700,
        "legend": {
         "title": {
          "text": "Type"
         },
         "tracegroupgap": 0
        },
        "margin": {
         "t": 60
        },
        "scene": {
         "aspectmode": "auto",
         "aspectratio": {
          "x": 1,
          "y": 1,
          "z": 1
         },
         "camera": {
          "center": {
           "x": 0.01472431798507952,
           "y": 0.2766694102389631,
           "z": -0.26564319098104405
          },
          "eye": {
           "x": 0.3278771153771128,
           "y": 1.9999409090771456,
           "z": -0.617113839513203
          },
          "projection": {
           "type": "perspective"
          },
          "up": {
           "x": -0.9035604811372826,
           "y": 0.23699627000551987,
           "z": 0.35694708981925205
          }
         },
         "domain": {
          "x": [
           0,
           1
          ],
          "y": [
           0,
           1
          ]
         },
         "xaxis": {
          "title": {
           "text": "OutStateTuition"
          },
          "type": "linear"
         },
         "yaxis": {
          "title": {
           "text": "RoomBoardCosts"
          },
          "type": "linear"
         },
         "zaxis": {
          "title": {
           "text": "Expenditure"
          },
          "type": "linear"
         }
        },
        "template": {
         "data": {
          "bar": [
           {
            "error_x": {
             "color": "#2a3f5f"
            },
            "error_y": {
             "color": "#2a3f5f"
            },
            "marker": {
             "line": {
              "color": "#E5ECF6",
              "width": 0.5
             },
             "pattern": {
              "fillmode": "overlay",
              "size": 10,
              "solidity": 0.2
             }
            },
            "type": "bar"
           }
          ],
          "barpolar": [
           {
            "marker": {
             "line": {
              "color": "#E5ECF6",
              "width": 0.5
             },
             "pattern": {
              "fillmode": "overlay",
              "size": 10,
              "solidity": 0.2
             }
            },
            "type": "barpolar"
           }
          ],
          "carpet": [
           {
            "aaxis": {
             "endlinecolor": "#2a3f5f",
             "gridcolor": "white",
             "linecolor": "white",
             "minorgridcolor": "white",
             "startlinecolor": "#2a3f5f"
            },
            "baxis": {
             "endlinecolor": "#2a3f5f",
             "gridcolor": "white",
             "linecolor": "white",
             "minorgridcolor": "white",
             "startlinecolor": "#2a3f5f"
            },
            "type": "carpet"
           }
          ],
          "choropleth": [
           {
            "colorbar": {
             "outlinewidth": 0,
             "ticks": ""
            },
            "type": "choropleth"
           }
          ],
          "contour": [
           {
            "colorbar": {
             "outlinewidth": 0,
             "ticks": ""
            },
            "colorscale": [
             [
              0,
              "#0d0887"
             ],
             [
              0.1111111111111111,
              "#46039f"
             ],
             [
              0.2222222222222222,
              "#7201a8"
             ],
             [
              0.3333333333333333,
              "#9c179e"
             ],
             [
              0.4444444444444444,
              "#bd3786"
             ],
             [
              0.5555555555555556,
              "#d8576b"
             ],
             [
              0.6666666666666666,
              "#ed7953"
             ],
             [
              0.7777777777777778,
              "#fb9f3a"
             ],
             [
              0.8888888888888888,
              "#fdca26"
             ],
             [
              1,
              "#f0f921"
             ]
            ],
            "type": "contour"
           }
          ],
          "contourcarpet": [
           {
            "colorbar": {
             "outlinewidth": 0,
             "ticks": ""
            },
            "type": "contourcarpet"
           }
          ],
          "heatmap": [
           {
            "colorbar": {
             "outlinewidth": 0,
             "ticks": ""
            },
            "colorscale": [
             [
              0,
              "#0d0887"
             ],
             [
              0.1111111111111111,
              "#46039f"
             ],
             [
              0.2222222222222222,
              "#7201a8"
             ],
             [
              0.3333333333333333,
              "#9c179e"
             ],
             [
              0.4444444444444444,
              "#bd3786"
             ],
             [
              0.5555555555555556,
              "#d8576b"
             ],
             [
              0.6666666666666666,
              "#ed7953"
             ],
             [
              0.7777777777777778,
              "#fb9f3a"
             ],
             [
              0.8888888888888888,
              "#fdca26"
             ],
             [
              1,
              "#f0f921"
             ]
            ],
            "type": "heatmap"
           }
          ],
          "heatmapgl": [
           {
            "colorbar": {
             "outlinewidth": 0,
             "ticks": ""
            },
            "colorscale": [
             [
              0,
              "#0d0887"
             ],
             [
              0.1111111111111111,
              "#46039f"
             ],
             [
              0.2222222222222222,
              "#7201a8"
             ],
             [
              0.3333333333333333,
              "#9c179e"
             ],
             [
              0.4444444444444444,
              "#bd3786"
             ],
             [
              0.5555555555555556,
              "#d8576b"
             ],
             [
              0.6666666666666666,
              "#ed7953"
             ],
             [
              0.7777777777777778,
              "#fb9f3a"
             ],
             [
              0.8888888888888888,
              "#fdca26"
             ],
             [
              1,
              "#f0f921"
             ]
            ],
            "type": "heatmapgl"
           }
          ],
          "histogram": [
           {
            "marker": {
             "pattern": {
              "fillmode": "overlay",
              "size": 10,
              "solidity": 0.2
             }
            },
            "type": "histogram"
           }
          ],
          "histogram2d": [
           {
            "colorbar": {
             "outlinewidth": 0,
             "ticks": ""
            },
            "colorscale": [
             [
              0,
              "#0d0887"
             ],
             [
              0.1111111111111111,
              "#46039f"
             ],
             [
              0.2222222222222222,
              "#7201a8"
             ],
             [
              0.3333333333333333,
              "#9c179e"
             ],
             [
              0.4444444444444444,
              "#bd3786"
             ],
             [
              0.5555555555555556,
              "#d8576b"
             ],
             [
              0.6666666666666666,
              "#ed7953"
             ],
             [
              0.7777777777777778,
              "#fb9f3a"
             ],
             [
              0.8888888888888888,
              "#fdca26"
             ],
             [
              1,
              "#f0f921"
             ]
            ],
            "type": "histogram2d"
           }
          ],
          "histogram2dcontour": [
           {
            "colorbar": {
             "outlinewidth": 0,
             "ticks": ""
            },
            "colorscale": [
             [
              0,
              "#0d0887"
             ],
             [
              0.1111111111111111,
              "#46039f"
             ],
             [
              0.2222222222222222,
              "#7201a8"
             ],
             [
              0.3333333333333333,
              "#9c179e"
             ],
             [
              0.4444444444444444,
              "#bd3786"
             ],
             [
              0.5555555555555556,
              "#d8576b"
             ],
             [
              0.6666666666666666,
              "#ed7953"
             ],
             [
              0.7777777777777778,
              "#fb9f3a"
             ],
             [
              0.8888888888888888,
              "#fdca26"
             ],
             [
              1,
              "#f0f921"
             ]
            ],
            "type": "histogram2dcontour"
           }
          ],
          "mesh3d": [
           {
            "colorbar": {
             "outlinewidth": 0,
             "ticks": ""
            },
            "type": "mesh3d"
           }
          ],
          "parcoords": [
           {
            "line": {
             "colorbar": {
              "outlinewidth": 0,
              "ticks": ""
             }
            },
            "type": "parcoords"
           }
          ],
          "pie": [
           {
            "automargin": true,
            "type": "pie"
           }
          ],
          "scatter": [
           {
            "fillpattern": {
             "fillmode": "overlay",
             "size": 10,
             "solidity": 0.2
            },
            "type": "scatter"
           }
          ],
          "scatter3d": [
           {
            "line": {
             "colorbar": {
              "outlinewidth": 0,
              "ticks": ""
             }
            },
            "marker": {
             "colorbar": {
              "outlinewidth": 0,
              "ticks": ""
             }
            },
            "type": "scatter3d"
           }
          ],
          "scattercarpet": [
           {
            "marker": {
             "colorbar": {
              "outlinewidth": 0,
              "ticks": ""
             }
            },
            "type": "scattercarpet"
           }
          ],
          "scattergeo": [
           {
            "marker": {
             "colorbar": {
              "outlinewidth": 0,
              "ticks": ""
             }
            },
            "type": "scattergeo"
           }
          ],
          "scattergl": [
           {
            "marker": {
             "colorbar": {
              "outlinewidth": 0,
              "ticks": ""
             }
            },
            "type": "scattergl"
           }
          ],
          "scattermapbox": [
           {
            "marker": {
             "colorbar": {
              "outlinewidth": 0,
              "ticks": ""
             }
            },
            "type": "scattermapbox"
           }
          ],
          "scatterpolar": [
           {
            "marker": {
             "colorbar": {
              "outlinewidth": 0,
              "ticks": ""
             }
            },
            "type": "scatterpolar"
           }
          ],
          "scatterpolargl": [
           {
            "marker": {
             "colorbar": {
              "outlinewidth": 0,
              "ticks": ""
             }
            },
            "type": "scatterpolargl"
           }
          ],
          "scatterternary": [
           {
            "marker": {
             "colorbar": {
              "outlinewidth": 0,
              "ticks": ""
             }
            },
            "type": "scatterternary"
           }
          ],
          "surface": [
           {
            "colorbar": {
             "outlinewidth": 0,
             "ticks": ""
            },
            "colorscale": [
             [
              0,
              "#0d0887"
             ],
             [
              0.1111111111111111,
              "#46039f"
             ],
             [
              0.2222222222222222,
              "#7201a8"
             ],
             [
              0.3333333333333333,
              "#9c179e"
             ],
             [
              0.4444444444444444,
              "#bd3786"
             ],
             [
              0.5555555555555556,
              "#d8576b"
             ],
             [
              0.6666666666666666,
              "#ed7953"
             ],
             [
              0.7777777777777778,
              "#fb9f3a"
             ],
             [
              0.8888888888888888,
              "#fdca26"
             ],
             [
              1,
              "#f0f921"
             ]
            ],
            "type": "surface"
           }
          ],
          "table": [
           {
            "cells": {
             "fill": {
              "color": "#EBF0F8"
             },
             "line": {
              "color": "white"
             }
            },
            "header": {
             "fill": {
              "color": "#C8D4E3"
             },
             "line": {
              "color": "white"
             }
            },
            "type": "table"
           }
          ]
         },
         "layout": {
          "annotationdefaults": {
           "arrowcolor": "#2a3f5f",
           "arrowhead": 0,
           "arrowwidth": 1
          },
          "autotypenumbers": "strict",
          "coloraxis": {
           "colorbar": {
            "outlinewidth": 0,
            "ticks": ""
           }
          },
          "colorscale": {
           "diverging": [
            [
             0,
             "#8e0152"
            ],
            [
             0.1,
             "#c51b7d"
            ],
            [
             0.2,
             "#de77ae"
            ],
            [
             0.3,
             "#f1b6da"
            ],
            [
             0.4,
             "#fde0ef"
            ],
            [
             0.5,
             "#f7f7f7"
            ],
            [
             0.6,
             "#e6f5d0"
            ],
            [
             0.7,
             "#b8e186"
            ],
            [
             0.8,
             "#7fbc41"
            ],
            [
             0.9,
             "#4d9221"
            ],
            [
             1,
             "#276419"
            ]
           ],
           "sequential": [
            [
             0,
             "#0d0887"
            ],
            [
             0.1111111111111111,
             "#46039f"
            ],
            [
             0.2222222222222222,
             "#7201a8"
            ],
            [
             0.3333333333333333,
             "#9c179e"
            ],
            [
             0.4444444444444444,
             "#bd3786"
            ],
            [
             0.5555555555555556,
             "#d8576b"
            ],
            [
             0.6666666666666666,
             "#ed7953"
            ],
            [
             0.7777777777777778,
             "#fb9f3a"
            ],
            [
             0.8888888888888888,
             "#fdca26"
            ],
            [
             1,
             "#f0f921"
            ]
           ],
           "sequentialminus": [
            [
             0,
             "#0d0887"
            ],
            [
             0.1111111111111111,
             "#46039f"
            ],
            [
             0.2222222222222222,
             "#7201a8"
            ],
            [
             0.3333333333333333,
             "#9c179e"
            ],
            [
             0.4444444444444444,
             "#bd3786"
            ],
            [
             0.5555555555555556,
             "#d8576b"
            ],
            [
             0.6666666666666666,
             "#ed7953"
            ],
            [
             0.7777777777777778,
             "#fb9f3a"
            ],
            [
             0.8888888888888888,
             "#fdca26"
            ],
            [
             1,
             "#f0f921"
            ]
           ]
          },
          "colorway": [
           "#636efa",
           "#EF553B",
           "#00cc96",
           "#ab63fa",
           "#FFA15A",
           "#19d3f3",
           "#FF6692",
           "#B6E880",
           "#FF97FF",
           "#FECB52"
          ],
          "font": {
           "color": "#2a3f5f"
          },
          "geo": {
           "bgcolor": "white",
           "lakecolor": "white",
           "landcolor": "#E5ECF6",
           "showlakes": true,
           "showland": true,
           "subunitcolor": "white"
          },
          "hoverlabel": {
           "align": "left"
          },
          "hovermode": "closest",
          "mapbox": {
           "style": "light"
          },
          "paper_bgcolor": "white",
          "plot_bgcolor": "#E5ECF6",
          "polar": {
           "angularaxis": {
            "gridcolor": "white",
            "linecolor": "white",
            "ticks": ""
           },
           "bgcolor": "#E5ECF6",
           "radialaxis": {
            "gridcolor": "white",
            "linecolor": "white",
            "ticks": ""
           }
          },
          "scene": {
           "xaxis": {
            "backgroundcolor": "#E5ECF6",
            "gridcolor": "white",
            "gridwidth": 2,
            "linecolor": "white",
            "showbackground": true,
            "ticks": "",
            "zerolinecolor": "white"
           },
           "yaxis": {
            "backgroundcolor": "#E5ECF6",
            "gridcolor": "white",
            "gridwidth": 2,
            "linecolor": "white",
            "showbackground": true,
            "ticks": "",
            "zerolinecolor": "white"
           },
           "zaxis": {
            "backgroundcolor": "#E5ECF6",
            "gridcolor": "white",
            "gridwidth": 2,
            "linecolor": "white",
            "showbackground": true,
            "ticks": "",
            "zerolinecolor": "white"
           }
          },
          "shapedefaults": {
           "line": {
            "color": "#2a3f5f"
           }
          },
          "ternary": {
           "aaxis": {
            "gridcolor": "white",
            "linecolor": "white",
            "ticks": ""
           },
           "baxis": {
            "gridcolor": "white",
            "linecolor": "white",
            "ticks": ""
           },
           "bgcolor": "#E5ECF6",
           "caxis": {
            "gridcolor": "white",
            "linecolor": "white",
            "ticks": ""
           }
          },
          "title": {
           "x": 0.05
          },
          "xaxis": {
           "automargin": true,
           "gridcolor": "white",
           "linecolor": "white",
           "ticks": "",
           "title": {
            "standoff": 15
           },
           "zerolinecolor": "white",
           "zerolinewidth": 2
          },
          "yaxis": {
           "automargin": true,
           "gridcolor": "white",
           "linecolor": "white",
           "ticks": "",
           "title": {
            "standoff": 15
           },
           "zerolinecolor": "white",
           "zerolinewidth": 2
          }
         }
        },
        "width": 800
       }
      },
      "image/png": "[encoded data removed]",
      "text/html": [
       "<div>                            <div id=\"5fad14ab-cd9d-4ac2-8e0f-81a404382d8d\" class=\"plotly-graph-div\" style=\"height:700px; width:800px;\"></div>            <script type=\"text/javascript\">                require([\"plotly\"], function(Plotly) {                    window.PLOTLYENV=window.PLOTLYENV || {};                                    if (document.getElementById(\"5fad14ab-cd9d-4ac2-8e0f-81a404382d8d\")) {                    Plotly.newPlot(                        \"5fad14ab-cd9d-4ac2-8e0f-81a404382d8d\",                        [{\"hovertemplate\":\"Type=Private<br>OutStateTuition=%{x}<br>RoomBoardCosts=%{y}<br>Expenditure=%{z}<extra></extra>\",\"legendgroup\":\"Private\",\"marker\":{\"color\":\"#636efa\",\"symbol\":\"circle\"},\"mode\":\"markers\",\"name\":\"Private\",\"scene\":\"scene\",\"showlegend\":true,\"x\":[7560,11660,8080,11478,8800,6398,5504,6870,11388,12950,11760,16624,17000,17230,17688,17238,11480,12790,12180,13540,12474,16560,6500,9900,10178,18200,9520,13332,13226,17230,16320,16249,13020,10560,13600,13592,10800,15192,13290,15000,10600,11070,14220,19130,7128,11412,6120,9890,11290,5188,13900,7800,15360,8025,13900,8550,16425,5590,5120,6200,7908,9592,4371,17600,6987,11985,7050,12900,5640,7000,11500,9700,8325,10260,13306,13925,15248,13420,9100,15688,13240,10430,11600,13500,10870,11214,8050,14550,14360,6900,15747,11500,11910,13000,11718,12580,16404,10100,10100,13130,15036,11800,10390,9420,8200,9950,11120,10440,9990,9210,8670,11200,10300,12730,10965,9456,16850,8280,8840,11850,6230,8000,10900,7800,9490,8950,11100,6900,19760,12500,18420,11800,18000,13600,8770,12200,11700,20100,19300,13380,15190,12700,16160,12170,18345,8994,18460,13472,15884,16900,9850,8400,11180,15588,13960,18800,12990,12850,15276,14510,19030,18930,7800,11450,9985,8850,9550,10230,11090,11130,11230,9450,11902,12247,12224,11844,11712,14125,13252,12247,14350,8950,9200,9250,8550,13900,9160,10720,10060,10535,11320,8650,8734,7420,9000,7550,9270,17295,18590,9100,8180,8330,13404,7550,10100,6950,8438,8242,8640,11020,10475,10375,7820,6272,19545,13320,10608,9990,12950,12292,8900,11400,10900,18432,9150,12480,19900,13250,12000,9408,16900,11010,11138,3120,12280,9000,9384,15960,19510,11790,18624,17926,8920,14990,14235,19700,17480,11600,9990,10690,9600,12370,14700,10700,11510,10200,7470,10850,17748,7950,11000,16200,10220,19300,18710,10800,10456,10570,18720,8650,12680,18920,13500,14900,12584,14710,11431,10995,9900,7344,9800,9650,16240,10850,13780,14067,11700,19240,9858,13240,19670,15990,16732,7600,11380,9600,15948,11520,15476,6400,10500,11750,7950,9200,9600,12500,13380,14210,19960,12040,7940,14800,15595,12850,18165,10518,17900,14340,13500,10335,11190,14190,10970,9476,5224,11000,10000,14850,10910,12600,13850,13900,11040,10300,16975,12350,12520,11690,9700,6540,12750,11172,17020,11584,14900,15925,12065,11428,4990,9690,8842,19528,12600,14400,14200,12520,7730,8300,9888,10425,10485,13440,10194,11859,4450,12680,7800,9300,5775,5500,4788,11200,7070,7700,15350,17865,11280,6900,5400,6300,5190,5400,8840,8840,6930,8530,8955,7536,11850,9428,8678,3605,7850,6400,12240,10760,8550,5100,9925,7150,8578,9400,13218,7161,13470,11200,11390,13840,13970,13425,10700,14500,7384,8730,21700,8300,11750,18375,13030,11010,13000,13312,12669,12825,11550,16230,16670,12660,16304,13125,11610,8950,9570,15200,12140,10468,15700,9400,5094,9500,4694,14200,10500],\"y\":[4120,4325,3920,4788,3195,3672,3528,3100,4546,5300,4225,5895,6010,6690,5900,7350,5280,6100,3885,5050,5678,5140,3000,3670,4190,6770,4124,6354,6452,6482,5326,5699,5490,6200,5940,5916,4440,4695,5720,6200,5020,5780,6000,5600,3750,6430,2985,4674,5360,3396,4140,3750,4080,4865,5600,4740,5220,2900,3200,3270,4238,5879,2370,6000,3585,4081,5490,4340,3620,5565,4500,3744,5000,3597,3797,4390,4323,4770,3100,4618,3560,3620,3610,3335,4440,4932,3850,4620,4090,4851,4062,5330,4378,4100,7398,4345,5520,4140,3520,4650,4056,4340,4040,3730,3485,3920,4080,3850,3822,3782,3820,4250,4130,4514,4000,4350,4400,3260,2950,4270,3526,4150,4450,2950,3892,3490,5870,4200,5300,6200,6810,4765,6300,5450,3500,4070,5300,5975,5700,7425,6480,5800,6950,6172,5995,5500,5970,5528,5370,5620,6050,2812,5620,6174,6040,6740,6300,6200,5318,5340,5885,5590,4000,5045,5180,4450,4750,3710,4700,3996,6643,4385,4372,4221,4440,3696,4037,3600,4194,4081,3750,3800,4800,4550,5050,5200,4340,4050,2970,4365,4402,3815,3362,3440,4850,2790,4100,5070,5950,3883,4270,3770,5160,4050,4000,3550,3372,4230,3700,4970,6300,4575,3400,2762,6070,4630,4740,4900,5400,4934,4600,5400,5250,5616,3950,5290,5910,5420,6484,5520,5680,5400,4138,3382,6450,3100,4840,5580,5565,5770,6664,8124,4310,4980,6965,5050,4780,5920,3550,6790,4550,6800,6550,5925,6450,7000,4600,5150,7262,3810,5160,4200,3546,6694,5970,5100,4927,5600,5730,5700,4924,5950,5800,5550,4192,8020,4684,4410,3990,4410,4430,4400,4690,3670,4410,4560,5550,3690,3700,3914,5820,4080,5650,3800,4220,4202,4404,4960,3336,3150,3860,4160,3994,4000,3150,4130,4210,3994,5490,4100,4032,4620,4400,5400,6750,6250,5690,5285,5230,5015,4800,4400,4280,4820,3048,5550,5364,4460,5160,5610,4755,4300,4500,5080,4565,5370,3860,5062,4830,4326,6350,4958,7270,5986,5160,6507,3615,5084,3560,4785,4782,5926,6410,6200,6500,6050,3170,3080,4502,3975,3840,4048,2600,3635,2522,4150,3664,3260,3340,3340,3320,4208,3640,3400,4080,6525,4342,3800,3270,2980,2992,2340,4689,4240,3452,3644,5900,3736,4675,4070,3858,2430,3410,3484,5150,6230,4050,2791,4135,4350,4408,4200,4773,3518,5515,7400,5280,3735,6110,4425,4500,6000,3494,3600,4100,4850,2700,6075,5860,5208,4450,4488,4875,4375,4270,4500,4900,4500,3616,3775,4760,3119,3750,4100,4450,3380,5750,4450,4010,3540,3890,3775,4545],\"z\":[10922,8649,7703,8594,8588,8118,6466,6219,9329,8985,10317,12692,18443,21569,14820,18372,10362,8966,8294,10139,10613,16196,5612,8095,7895,16185,8219,9619,10074,17007,13706,11778,6944,31012,10813,11677,8415,11762,8861,11220,7033,7120,10625,16262,18287,11806,6081,6243,9084,6817,8923,12878,15003,6339,12614,12523,11561,4839,3930,7774,9345,5935,4900,28457,9067,8995,8122,8568,7309,9988,11605,8614,6874,8355,6333,10141,10340,9473,5609,18979,8949,8767,7735,9727,7671,8322,7348,12851,9605,8812,13224,13009,8149,11087,8871,10889,26385,6880,7994,9511,14634,7780,11751,10270,9248,9466,6735,7940,7799,6562,7440,7360,9678,11165,8294,7603,13936,10049,6668,13118,8189,7058,10219,6864,7678,9685,9456,8323,21424,8707,16836,8952,12138,11992,6430,9226,8694,33541,18359,9563,14795,11758,14086,7495,21409,8409,22704,12113,10774,13311,17858,7976,7477,16623,12434,56233,9448,8536,10830,10026,20447,15954,4923,9718,4322,5001,6145,7786,12639,10891,13025,5568,7836,8847,7315,8996,8546,9907,10296,9853,12502,6639,3480,5925,4333,9995,6951,7925,7885,7438,11218,5862,6422,5930,7550,3739,8425,17581,27206,6329,5664,7949,9114,4947,8539,6786,11989,10090,7634,9315,9599,9332,7264,8064,29619,6418,5523,4948,6719,8643,7922,9583,9447,14907,7348,9492,28320,11299,10080,7669,12837,9637,8820,3190,10527,11178,7697,11659,15494,10015,30639,12580,6898,7502,10864,17761,11625,10093,8187,8107,7863,10062,11291,8408,10502,10622,6898,8797,21227,9685,10059,14329,7592,14779,14837,8189,9828,7908,14980,6534,8344,17089,9006,13935,22724,13578,9090,8086,9073,6897,6889,6336,14140,7505,9268,12165,7738,14067,4796,9333,16593,9979,12011,5096,8894,7164,10414,9189,42926,6578,8990,11743,7885,7269,5976,7136,8747,11216,15886,9060,7516,10779,11644,8954,17449,7117,24386,10961,16095,7729,8135,9815,7711,6786,4957,7483,7305,12067,7649,9084,8196,8024,9034,7762,10888,9603,11641,8028,7652,5266,8243,9186,25765,9131,12082,10458,8596,10291,4509,7940,7022,20440,8353,8135,9232,7957,5825,3365,8741,8693,7527,12940,5788,8354,5861,7875,7614,8129,8048,6078,4914,8317,6286,4933,18784,23850,11361,6875,7081,7054,5684,5438,6095,6863,6383,7114,8545,5309,12995,7037,7651,4800,7002,7936,14703,8731,7237,6271,6523,6259,8061,7967,12263,6791,13957,10819,8575,11080,16358,9405,9471,18953,6757,10922,16364,6936,6475,11767,10190,9586,9553,9431,10368,10175,9209,11217,13198,8328,12957,7364,9982,7016,7774,12472,8595,8991,10941,8813,6203,7683,3485,8080,7494],\"type\":\"scatter3d\"},{\"hovertemplate\":\"Type=Public<br>OutStateTuition=%{x}<br>RoomBoardCosts=%{y}<br>Expenditure=%{z}<extra></extra>\",\"legendgroup\":\"Public\",\"marker\":{\"color\":\"#EF553B\",\"symbol\":\"circle\"},\"mode\":\"markers\",\"name\":\"Public\",\"scene\":\"scene\",\"showlegend\":true,\"x\":[6300,2883,4960,7434,6746,7434,8990,7380,9979,9096,8384,8964,8820,7830,11648,12024,7689,7699,7699,11218,7699,14320,7731,8412,5016,7100,5918,5962,5962,5962,11656,6700,6760,6618,6172,6597,6634,5604,2763,4023,4571,5697,4617,4650,4457,4460,2920,2093,5120,5962,7560,7244,4973,9766,9556,6892,5925,5154,9838,5542,5542,5542,5542,6797,6919,4869,5428,4136,5130,6800,5166,8723,8594,7014,6600,4800,7975,6360,10658,8127,15732,9843,4200,8949,9057,9057,4652,6073,5552,6311,6806,6806,5972,7248,6806,6360,8400,8400,7248,8677,6390,7558,5634,5595,11180,7870,4356,3946,3648,8832,2875,3135,7410,5391,7411,7410,4449,3040,6490,6550,6550,6550,6550,6550,6550,6550,6550,6550,6550,6550,6550,6840,6550,6550,7452,7854,7629,7650,8907,7441,5336,7890,8676,7352,4818,7844,8285,7352,7844,7844,7844,10096,10786,10645,7844,10330,8116,6120,4938,8074,5800,6400,5840,5800,5550,5764,5130,5390,4752,4104,4860,4860,4290,4860,7860,4860,4422,5130,4104,4104,5130,6857,11720,7860,7920,7994,9464,6684,10217,7168,7656,7656,15516,7974,8124,6297,6996],\"y\":[3933,2570,3500,4850,3728,4216,3476,4877,4200,4500,5110,6776,4224,5189,6246,5302,5580,5430,6607,5990,6081,5304,4128,4180,3798,4380,3755,4444,4796,4316,5072,4060,3776,4234,3994,2494,4360,4192,3375,3219,2987,3600,2940,2973,2739,3038,4270,3069,3190,3540,4574,3608,3192,3990,3990,3706,2980,3116,4164,3991,4330,3514,3788,3900,4500,4075,4390,4640,4690,4730,4480,5146,4408,3580,3630,3395,4385,4031,3734,3978,4659,3180,2700,3744,3485,3600,2470,3400,3710,3957,1780,2540,3420,3240,2550,2760,6540,4200,3109,3505,2380,3680,2703,3145,3862,4157,4830,4800,4834,5376,3840,4170,4748,5411,4748,4748,4860,4351,4560,4355,4598,4712,4460,4040,4680,4420,4170,4240,4952,4810,4176,4660,4760,4731,3352,3666,4095,3844,4697,3719,3344,3444,3560,2906,3400,2948,2970,3620,3830,3504,4108,5282,4560,4060,2924,5558,3610,3460,2987,3522,3066,3392,3138,3000,2352,3262,3592,3380,3040,3579,3676,3610,3500,2784,3360,3688,2780,3309,2706,5376,3412,3975,4298,4750,3962,4544,4540,4110,4182,3689,4690,4690,4928,3914,4144,4600,2705],\"z\":[6642,4295,8863,4602,6157,9683,6288,8453,8650,7530,7930,7651,5957,7304,13919,15934,20260,12528,17674,9475,10860,8837,6309,7850,3871,5389,4599,4900,5245,5719,10178,8717,11020,6742,8488,6722,6104,5667,5332,6208,4830,7881,5374,5687,4706,12833,11460,5705,6997,8805,8559,7449,4078,8686,8604,6996,6741,5260,7607,4666,6562,4386,4222,4469,7462,7848,5491,6867,5125,10357,5401,9021,7618,5191,6408,5632,7379,5955,10520,7473,14847,6716,5318,16122,10145,9699,5917,6112,6324,5862,7090,5854,7011,9002,6972,6443,9670,15893,6227,7392,6554,6005,9424,6813,7855,6195,7252,8367,6717,12529,6001,6391,11878,8504,10134,10474,7333,5599,10407,9075,8055,13705,6632,7511,5563,6442,5716,6608,6111,5280,6174,6436,8170,11177,6918,6397,8811,6025,13889,6124,6433,9383,7556,6760,10912,7041,6552,6374,7832,6719,6773,12231,13789,8992,5556,9158,7597,4776,6119,8246,5035,6729,5039,9825,4902,8612,4010,5073,5879,5657,4056,3997,5967,4242,3605,5449,4696,7837,4717,4329,8471,9275,9534,4639,5553,5212,6727,4519,11183,4417,6318,6564,12646,7451,7203,8355,6139],\"type\":\"scatter3d\"}],                        {\"template\":{\"data\":{\"histogram2dcontour\":[{\"type\":\"histogram2dcontour\",\"colorbar\":{\"outlinewidth\":0,\"ticks\":\"\"},\"colorscale\":[[0.0,\"#0d0887\"],[0.1111111111111111,\"#46039f\"],[0.2222222222222222,\"#7201a8\"],[0.3333333333333333,\"#9c179e\"],[0.4444444444444444,\"#bd3786\"],[0.5555555555555556,\"#d8576b\"],[0.6666666666666666,\"#ed7953\"],[0.7777777777777778,\"#fb9f3a\"],[0.8888888888888888,\"#fdca26\"],[1.0,\"#f0f921\"]]}],\"choropleth\":[{\"type\":\"choropleth\",\"colorbar\":{\"outlinewidth\":0,\"ticks\":\"\"}}],\"histogram2d\":[{\"type\":\"histogram2d\",\"colorbar\":{\"outlinewidth\":0,\"ticks\":\"\"},\"colorscale\":[[0.0,\"#0d0887\"],[0.1111111111111111,\"#46039f\"],[0.2222222222222222,\"#7201a8\"],[0.3333333333333333,\"#9c179e\"],[0.4444444444444444,\"#bd3786\"],[0.5555555555555556,\"#d8576b\"],[0.6666666666666666,\"#ed7953\"],[0.7777777777777778,\"#fb9f3a\"],[0.8888888888888888,\"#fdca26\"],[1.0,\"#f0f921\"]]}],\"heatmap\":[{\"type\":\"heatmap\",\"colorbar\":{\"outlinewidth\":0,\"ticks\":\"\"},\"colorscale\":[[0.0,\"#0d0887\"],[0.1111111111111111,\"#46039f\"],[0.2222222222222222,\"#7201a8\"],[0.3333333333333333,\"#9c179e\"],[0.4444444444444444,\"#bd3786\"],[0.5555555555555556,\"#d8576b\"],[0.6666666666666666,\"#ed7953\"],[0.7777777777777778,\"#fb9f3a\"],[0.8888888888888888,\"#fdca26\"],[1.0,\"#f0f921\"]]}],\"heatmapgl\":[{\"type\":\"heatmapgl\",\"colorbar\":{\"outlinewidth\":0,\"ticks\":\"\"},\"colorscale\":[[0.0,\"#0d0887\"],[0.1111111111111111,\"#46039f\"],[0.2222222222222222,\"#7201a8\"],[0.3333333333333333,\"#9c179e\"],[0.4444444444444444,\"#bd3786\"],[0.5555555555555556,\"#d8576b\"],[0.6666666666666666,\"#ed7953\"],[0.7777777777777778,\"#fb9f3a\"],[0.8888888888888888,\"#fdca26\"],[1.0,\"#f0f921\"]]}],\"contourcarpet\":[{\"type\":\"contourcarpet\",\"colorbar\":{\"outlinewidth\":0,\"ticks\":\"\"}}],\"contour\":[{\"type\":\"contour\",\"colorbar\":{\"outlinewidth\":0,\"ticks\":\"\"},\"colorscale\":[[0.0,\"#0d0887\"],[0.1111111111111111,\"#46039f\"],[0.2222222222222222,\"#7201a8\"],[0.3333333333333333,\"#9c179e\"],[0.4444444444444444,\"#bd3786\"],[0.5555555555555556,\"#d8576b\"],[0.6666666666666666,\"#ed7953\"],[0.7777777777777778,\"#fb9f3a\"],[0.8888888888888888,\"#fdca26\"],[1.0,\"#f0f921\"]]}],\"surface\":[{\"type\":\"surface\",\"colorbar\":{\"outlinewidth\":0,\"ticks\":\"\"},\"colorscale\":[[0.0,\"#0d0887\"],[0.1111111111111111,\"#46039f\"],[0.2222222222222222,\"#7201a8\"],[0.3333333333333333,\"#9c179e\"],[0.4444444444444444,\"#bd3786\"],[0.5555555555555556,\"#d8576b\"],[0.6666666666666666,\"#ed7953\"],[0.7777777777777778,\"#fb9f3a\"],[0.8888888888888888,\"#fdca26\"],[1.0,\"#f0f921\"]]}],\"mesh3d\":[{\"type\":\"mesh3d\",\"colorbar\":{\"outlinewidth\":0,\"ticks\":\"\"}}],\"scatter\":[{\"fillpattern\":{\"fillmode\":\"overlay\",\"size\":10,\"solidity\":0.2},\"type\":\"scatter\"}],\"parcoords\":[{\"type\":\"parcoords\",\"line\":{\"colorbar\":{\"outlinewidth\":0,\"ticks\":\"\"}}}],\"scatterpolargl\":[{\"type\":\"scatterpolargl\",\"marker\":{\"colorbar\":{\"outlinewidth\":0,\"ticks\":\"\"}}}],\"bar\":[{\"error_x\":{\"color\":\"#2a3f5f\"},\"error_y\":{\"color\":\"#2a3f5f\"},\"marker\":{\"line\":{\"color\":\"#E5ECF6\",\"width\":0.5},\"pattern\":{\"fillmode\":\"overlay\",\"size\":10,\"solidity\":0.2}},\"type\":\"bar\"}],\"scattergeo\":[{\"type\":\"scattergeo\",\"marker\":{\"colorbar\":{\"outlinewidth\":0,\"ticks\":\"\"}}}],\"scatterpolar\":[{\"type\":\"scatterpolar\",\"marker\":{\"colorbar\":{\"outlinewidth\":0,\"ticks\":\"\"}}}],\"histogram\":[{\"marker\":{\"pattern\":{\"fillmode\":\"overlay\",\"size\":10,\"solidity\":0.2}},\"type\":\"histogram\"}],\"scattergl\":[{\"type\":\"scattergl\",\"marker\":{\"colorbar\":{\"outlinewidth\":0,\"ticks\":\"\"}}}],\"scatter3d\":[{\"type\":\"scatter3d\",\"line\":{\"colorbar\":{\"outlinewidth\":0,\"ticks\":\"\"}},\"marker\":{\"colorbar\":{\"outlinewidth\":0,\"ticks\":\"\"}}}],\"scattermapbox\":[{\"type\":\"scattermapbox\",\"marker\":{\"colorbar\":{\"outlinewidth\":0,\"ticks\":\"\"}}}],\"scatterternary\":[{\"type\":\"scatterternary\",\"marker\":{\"colorbar\":{\"outlinewidth\":0,\"ticks\":\"\"}}}],\"scattercarpet\":[{\"type\":\"scattercarpet\",\"marker\":{\"colorbar\":{\"outlinewidth\":0,\"ticks\":\"\"}}}],\"carpet\":[{\"aaxis\":{\"endlinecolor\":\"#2a3f5f\",\"gridcolor\":\"white\",\"linecolor\":\"white\",\"minorgridcolor\":\"white\",\"startlinecolor\":\"#2a3f5f\"},\"baxis\":{\"endlinecolor\":\"#2a3f5f\",\"gridcolor\":\"white\",\"linecolor\":\"white\",\"minorgridcolor\":\"white\",\"startlinecolor\":\"#2a3f5f\"},\"type\":\"carpet\"}],\"table\":[{\"cells\":{\"fill\":{\"color\":\"#EBF0F8\"},\"line\":{\"color\":\"white\"}},\"header\":{\"fill\":{\"color\":\"#C8D4E3\"},\"line\":{\"color\":\"white\"}},\"type\":\"table\"}],\"barpolar\":[{\"marker\":{\"line\":{\"color\":\"#E5ECF6\",\"width\":0.5},\"pattern\":{\"fillmode\":\"overlay\",\"size\":10,\"solidity\":0.2}},\"type\":\"barpolar\"}],\"pie\":[{\"automargin\":true,\"type\":\"pie\"}]},\"layout\":{\"autotypenumbers\":\"strict\",\"colorway\":[\"#636efa\",\"#EF553B\",\"#00cc96\",\"#ab63fa\",\"#FFA15A\",\"#19d3f3\",\"#FF6692\",\"#B6E880\",\"#FF97FF\",\"#FECB52\"],\"font\":{\"color\":\"#2a3f5f\"},\"hovermode\":\"closest\",\"hoverlabel\":{\"align\":\"left\"},\"paper_bgcolor\":\"white\",\"plot_bgcolor\":\"#E5ECF6\",\"polar\":{\"bgcolor\":\"#E5ECF6\",\"angularaxis\":{\"gridcolor\":\"white\",\"linecolor\":\"white\",\"ticks\":\"\"},\"radialaxis\":{\"gridcolor\":\"white\",\"linecolor\":\"white\",\"ticks\":\"\"}},\"ternary\":{\"bgcolor\":\"#E5ECF6\",\"aaxis\":{\"gridcolor\":\"white\",\"linecolor\":\"white\",\"ticks\":\"\"},\"baxis\":{\"gridcolor\":\"white\",\"linecolor\":\"white\",\"ticks\":\"\"},\"caxis\":{\"gridcolor\":\"white\",\"linecolor\":\"white\",\"ticks\":\"\"}},\"coloraxis\":{\"colorbar\":{\"outlinewidth\":0,\"ticks\":\"\"}},\"colorscale\":{\"sequential\":[[0.0,\"#0d0887\"],[0.1111111111111111,\"#46039f\"],[0.2222222222222222,\"#7201a8\"],[0.3333333333333333,\"#9c179e\"],[0.4444444444444444,\"#bd3786\"],[0.5555555555555556,\"#d8576b\"],[0.6666666666666666,\"#ed7953\"],[0.7777777777777778,\"#fb9f3a\"],[0.8888888888888888,\"#fdca26\"],[1.0,\"#f0f921\"]],\"sequentialminus\":[[0.0,\"#0d0887\"],[0.1111111111111111,\"#46039f\"],[0.2222222222222222,\"#7201a8\"],[0.3333333333333333,\"#9c179e\"],[0.4444444444444444,\"#bd3786\"],[0.5555555555555556,\"#d8576b\"],[0.6666666666666666,\"#ed7953\"],[0.7777777777777778,\"#fb9f3a\"],[0.8888888888888888,\"#fdca26\"],[1.0,\"#f0f921\"]],\"diverging\":[[0,\"#8e0152\"],[0.1,\"#c51b7d\"],[0.2,\"#de77ae\"],[0.3,\"#f1b6da\"],[0.4,\"#fde0ef\"],[0.5,\"#f7f7f7\"],[0.6,\"#e6f5d0\"],[0.7,\"#b8e186\"],[0.8,\"#7fbc41\"],[0.9,\"#4d9221\"],[1,\"#276419\"]]},\"xaxis\":{\"gridcolor\":\"white\",\"linecolor\":\"white\",\"ticks\":\"\",\"title\":{\"standoff\":15},\"zerolinecolor\":\"white\",\"automargin\":true,\"zerolinewidth\":2},\"yaxis\":{\"gridcolor\":\"white\",\"linecolor\":\"white\",\"ticks\":\"\",\"title\":{\"standoff\":15},\"zerolinecolor\":\"white\",\"automargin\":true,\"zerolinewidth\":2},\"scene\":{\"xaxis\":{\"backgroundcolor\":\"#E5ECF6\",\"gridcolor\":\"white\",\"linecolor\":\"white\",\"showbackground\":true,\"ticks\":\"\",\"zerolinecolor\":\"white\",\"gridwidth\":2},\"yaxis\":{\"backgroundcolor\":\"#E5ECF6\",\"gridcolor\":\"white\",\"linecolor\":\"white\",\"showbackground\":true,\"ticks\":\"\",\"zerolinecolor\":\"white\",\"gridwidth\":2},\"zaxis\":{\"backgroundcolor\":\"#E5ECF6\",\"gridcolor\":\"white\",\"linecolor\":\"white\",\"showbackground\":true,\"ticks\":\"\",\"zerolinecolor\":\"white\",\"gridwidth\":2}},\"shapedefaults\":{\"line\":{\"color\":\"#2a3f5f\"}},\"annotationdefaults\":{\"arrowcolor\":\"#2a3f5f\",\"arrowhead\":0,\"arrowwidth\":1},\"geo\":{\"bgcolor\":\"white\",\"landcolor\":\"#E5ECF6\",\"subunitcolor\":\"white\",\"showland\":true,\"showlakes\":true,\"lakecolor\":\"white\"},\"title\":{\"x\":0.05},\"mapbox\":{\"style\":\"light\"}}},\"scene\":{\"domain\":{\"x\":[0.0,1.0],\"y\":[0.0,1.0]},\"xaxis\":{\"title\":{\"text\":\"OutStateTuition\"}},\"yaxis\":{\"title\":{\"text\":\"RoomBoardCosts\"}},\"zaxis\":{\"title\":{\"text\":\"Expenditure\"}}},\"legend\":{\"title\":{\"text\":\"Type\"},\"tracegroupgap\":0},\"margin\":{\"t\":60},\"height\":700,\"width\":800},                        {\"responsive\": true}                    ).then(function(){\n",
       "                            \n",
       "var gd = document.getElementById('5fad14ab-cd9d-4ac2-8e0f-81a404382d8d');\n",
       "var x = new MutationObserver(function (mutations, observer) {{\n",
       "        var display = window.getComputedStyle(gd).display;\n",
       "        if (!display || display === 'none') {{\n",
       "            console.log([gd, 'removed!']);\n",
       "            Plotly.purge(gd);\n",
       "            observer.disconnect();\n",
       "        }}\n",
       "}});\n",
       "\n",
       "// Listen for the removal of the full notebook cells\n",
       "var notebookContainer = gd.closest('#notebook-container');\n",
       "if (notebookContainer) {{\n",
       "    x.observe(notebookContainer, {childList: true});\n",
       "}}\n",
       "\n",
       "// Listen for the clearing of the current output cell\n",
       "var outputEl = gd.closest('.output');\n",
       "if (outputEl) {{\n",
       "    x.observe(outputEl, {childList: true});\n",
       "}}\n",
       "\n",
       "                        })                };                });            </script>        </div>"
      ]
     },
     "metadata": {},
     "output_type": "display_data"
    }
   ],
   "source": [
    "fig = px.scatter_3d(data, x = \"OutStateTuition\", y = \"RoomBoardCosts\",\n",
    "                    z = \"Expenditure\", color=\"Type\", width=800, height=700)\n",
    "fig.show()"
   ]
  },
  {
   "cell_type": "markdown",
   "id": "08fe828c-6edc-46ae-8ca0-3d8c89944d28",
   "metadata": {},
   "source": [
    "3D scatter plots are always cool to look at, and with Jupyter Book you can perform your analysis and share it with the world! This particular scatter plot shows us there may be some relationship between `OutStateTuition` and `Expenditure`."
   ]
  },
  {
   "cell_type": "code",
   "execution_count": 30,
   "id": "ba56565c-e027-4ee7-be40-108c5c2e4485",
   "metadata": {},
   "outputs": [
    {
     "data": {
      "application/vnd.plotly.v1+json": {
       "config": {
        "plotlyServerURL": "https://plot.ly"
       },
       "data": [
        {
         "hovertemplate": "Type=Private<br>OutStateTuition=%{x}<br>Expenditure=%{y}<extra></extra>",
         "legendgroup": "Private",
         "marker": {
          "color": "#636efa",
          "symbol": "circle"
         },
         "mode": "markers",
         "name": "Private",
         "orientation": "v",
         "showlegend": true,
         "type": "scatter",
         "x": [
          7560,
          11660,
          8080,
          11478,
          8800,
          6398,
          5504,
          6870,
          11388,
          12950,
          11760,
          16624,
          17000,
          17230,
          17688,
          17238,
          11480,
          12790,
          12180,
          13540,
          12474,
          16560,
          6500,
          9900,
          10178,
          18200,
          9520,
          13332,
          13226,
          17230,
          16320,
          16249,
          13020,
          10560,
          13600,
          13592,
          10800,
          15192,
          13290,
          15000,
          10600,
          11070,
          14220,
          19130,
          7128,
          11412,
          6120,
          9890,
          11290,
          5188,
          13900,
          7800,
          15360,
          8025,
          13900,
          8550,
          16425,
          5590,
          5120,
          6200,
          7908,
          9592,
          4371,
          17600,
          6987,
          11985,
          7050,
          12900,
          5640,
          7000,
          11500,
          9700,
          8325,
          10260,
          13306,
          13925,
          15248,
          13420,
          9100,
          15688,
          13240,
          10430,
          11600,
          13500,
          10870,
          11214,
          8050,
          14550,
          14360,
          6900,
          15747,
          11500,
          11910,
          13000,
          11718,
          12580,
          16404,
          10100,
          10100,
          13130,
          15036,
          11800,
          10390,
          9420,
          8200,
          9950,
          11120,
          10440,
          9990,
          9210,
          8670,
          11200,
          10300,
          12730,
          10965,
          9456,
          16850,
          8280,
          8840,
          11850,
          6230,
          8000,
          10900,
          7800,
          9490,
          8950,
          11100,
          6900,
          19760,
          12500,
          18420,
          11800,
          18000,
          13600,
          8770,
          12200,
          11700,
          20100,
          19300,
          13380,
          15190,
          12700,
          16160,
          12170,
          18345,
          8994,
          18460,
          13472,
          15884,
          16900,
          9850,
          8400,
          11180,
          15588,
          13960,
          18800,
          12990,
          12850,
          15276,
          14510,
          19030,
          18930,
          7800,
          11450,
          9985,
          8850,
          9550,
          10230,
          11090,
          11130,
          11230,
          9450,
          11902,
          12247,
          12224,
          11844,
          11712,
          14125,
          13252,
          12247,
          14350,
          8950,
          9200,
          9250,
          8550,
          13900,
          9160,
          10720,
          10060,
          10535,
          11320,
          8650,
          8734,
          7420,
          9000,
          7550,
          9270,
          17295,
          18590,
          9100,
          8180,
          8330,
          13404,
          7550,
          10100,
          6950,
          8438,
          8242,
          8640,
          11020,
          10475,
          10375,
          7820,
          6272,
          19545,
          13320,
          10608,
          9990,
          12950,
          12292,
          8900,
          11400,
          10900,
          18432,
          9150,
          12480,
          19900,
          13250,
          12000,
          9408,
          16900,
          11010,
          11138,
          3120,
          12280,
          9000,
          9384,
          15960,
          19510,
          11790,
          18624,
          17926,
          8920,
          14990,
          14235,
          19700,
          17480,
          11600,
          9990,
          10690,
          9600,
          12370,
          14700,
          10700,
          11510,
          10200,
          7470,
          10850,
          17748,
          7950,
          11000,
          16200,
          10220,
          19300,
          18710,
          10800,
          10456,
          10570,
          18720,
          8650,
          12680,
          18920,
          13500,
          14900,
          12584,
          14710,
          11431,
          10995,
          9900,
          7344,
          9800,
          9650,
          16240,
          10850,
          13780,
          14067,
          11700,
          19240,
          9858,
          13240,
          19670,
          15990,
          16732,
          7600,
          11380,
          9600,
          15948,
          11520,
          15476,
          6400,
          10500,
          11750,
          7950,
          9200,
          9600,
          12500,
          13380,
          14210,
          19960,
          12040,
          7940,
          14800,
          15595,
          12850,
          18165,
          10518,
          17900,
          14340,
          13500,
          10335,
          11190,
          14190,
          10970,
          9476,
          5224,
          11000,
          10000,
          14850,
          10910,
          12600,
          13850,
          13900,
          11040,
          10300,
          16975,
          12350,
          12520,
          11690,
          9700,
          6540,
          12750,
          11172,
          17020,
          11584,
          14900,
          15925,
          12065,
          11428,
          4990,
          9690,
          8842,
          19528,
          12600,
          14400,
          14200,
          12520,
          7730,
          8300,
          9888,
          10425,
          10485,
          13440,
          10194,
          11859,
          4450,
          12680,
          7800,
          9300,
          5775,
          5500,
          4788,
          11200,
          7070,
          7700,
          15350,
          17865,
          11280,
          6900,
          5400,
          6300,
          5190,
          5400,
          8840,
          8840,
          6930,
          8530,
          8955,
          7536,
          11850,
          9428,
          8678,
          3605,
          7850,
          6400,
          12240,
          10760,
          8550,
          5100,
          9925,
          7150,
          8578,
          9400,
          13218,
          7161,
          13470,
          11200,
          11390,
          13840,
          13970,
          13425,
          10700,
          14500,
          7384,
          8730,
          21700,
          8300,
          11750,
          18375,
          13030,
          11010,
          13000,
          13312,
          12669,
          12825,
          11550,
          16230,
          16670,
          12660,
          16304,
          13125,
          11610,
          8950,
          9570,
          15200,
          12140,
          10468,
          15700,
          9400,
          5094,
          9500,
          4694,
          14200,
          10500
         ],
         "xaxis": "x",
         "y": [
          10922,
          8649,
          7703,
          8594,
          8588,
          8118,
          6466,
          6219,
          9329,
          8985,
          10317,
          12692,
          18443,
          21569,
          14820,
          18372,
          10362,
          8966,
          8294,
          10139,
          10613,
          16196,
          5612,
          8095,
          7895,
          16185,
          8219,
          9619,
          10074,
          17007,
          13706,
          11778,
          6944,
          31012,
          10813,
          11677,
          8415,
          11762,
          8861,
          11220,
          7033,
          7120,
          10625,
          16262,
          18287,
          11806,
          6081,
          6243,
          9084,
          6817,
          8923,
          12878,
          15003,
          6339,
          12614,
          12523,
          11561,
          4839,
          3930,
          7774,
          9345,
          5935,
          4900,
          28457,
          9067,
          8995,
          8122,
          8568,
          7309,
          9988,
          11605,
          8614,
          6874,
          8355,
          6333,
          10141,
          10340,
          9473,
          5609,
          18979,
          8949,
          8767,
          7735,
          9727,
          7671,
          8322,
          7348,
          12851,
          9605,
          8812,
          13224,
          13009,
          8149,
          11087,
          8871,
          10889,
          26385,
          6880,
          7994,
          9511,
          14634,
          7780,
          11751,
          10270,
          9248,
          9466,
          6735,
          7940,
          7799,
          6562,
          7440,
          7360,
          9678,
          11165,
          8294,
          7603,
          13936,
          10049,
          6668,
          13118,
          8189,
          7058,
          10219,
          6864,
          7678,
          9685,
          9456,
          8323,
          21424,
          8707,
          16836,
          8952,
          12138,
          11992,
          6430,
          9226,
          8694,
          33541,
          18359,
          9563,
          14795,
          11758,
          14086,
          7495,
          21409,
          8409,
          22704,
          12113,
          10774,
          13311,
          17858,
          7976,
          7477,
          16623,
          12434,
          56233,
          9448,
          8536,
          10830,
          10026,
          20447,
          15954,
          4923,
          9718,
          4322,
          5001,
          6145,
          7786,
          12639,
          10891,
          13025,
          5568,
          7836,
          8847,
          7315,
          8996,
          8546,
          9907,
          10296,
          9853,
          12502,
          6639,
          3480,
          5925,
          4333,
          9995,
          6951,
          7925,
          7885,
          7438,
          11218,
          5862,
          6422,
          5930,
          7550,
          3739,
          8425,
          17581,
          27206,
          6329,
          5664,
          7949,
          9114,
          4947,
          8539,
          6786,
          11989,
          10090,
          7634,
          9315,
          9599,
          9332,
          7264,
          8064,
          29619,
          6418,
          5523,
          4948,
          6719,
          8643,
          7922,
          9583,
          9447,
          14907,
          7348,
          9492,
          28320,
          11299,
          10080,
          7669,
          12837,
          9637,
          8820,
          3190,
          10527,
          11178,
          7697,
          11659,
          15494,
          10015,
          30639,
          12580,
          6898,
          7502,
          10864,
          17761,
          11625,
          10093,
          8187,
          8107,
          7863,
          10062,
          11291,
          8408,
          10502,
          10622,
          6898,
          8797,
          21227,
          9685,
          10059,
          14329,
          7592,
          14779,
          14837,
          8189,
          9828,
          7908,
          14980,
          6534,
          8344,
          17089,
          9006,
          13935,
          22724,
          13578,
          9090,
          8086,
          9073,
          6897,
          6889,
          6336,
          14140,
          7505,
          9268,
          12165,
          7738,
          14067,
          4796,
          9333,
          16593,
          9979,
          12011,
          5096,
          8894,
          7164,
          10414,
          9189,
          42926,
          6578,
          8990,
          11743,
          7885,
          7269,
          5976,
          7136,
          8747,
          11216,
          15886,
          9060,
          7516,
          10779,
          11644,
          8954,
          17449,
          7117,
          24386,
          10961,
          16095,
          7729,
          8135,
          9815,
          7711,
          6786,
          4957,
          7483,
          7305,
          12067,
          7649,
          9084,
          8196,
          8024,
          9034,
          7762,
          10888,
          9603,
          11641,
          8028,
          7652,
          5266,
          8243,
          9186,
          25765,
          9131,
          12082,
          10458,
          8596,
          10291,
          4509,
          7940,
          7022,
          20440,
          8353,
          8135,
          9232,
          7957,
          5825,
          3365,
          8741,
          8693,
          7527,
          12940,
          5788,
          8354,
          5861,
          7875,
          7614,
          8129,
          8048,
          6078,
          4914,
          8317,
          6286,
          4933,
          18784,
          23850,
          11361,
          6875,
          7081,
          7054,
          5684,
          5438,
          6095,
          6863,
          6383,
          7114,
          8545,
          5309,
          12995,
          7037,
          7651,
          4800,
          7002,
          7936,
          14703,
          8731,
          7237,
          6271,
          6523,
          6259,
          8061,
          7967,
          12263,
          6791,
          13957,
          10819,
          8575,
          11080,
          16358,
          9405,
          9471,
          18953,
          6757,
          10922,
          16364,
          6936,
          6475,
          11767,
          10190,
          9586,
          9553,
          9431,
          10368,
          10175,
          9209,
          11217,
          13198,
          8328,
          12957,
          7364,
          9982,
          7016,
          7774,
          12472,
          8595,
          8991,
          10941,
          8813,
          6203,
          7683,
          3485,
          8080,
          7494
         ],
         "yaxis": "y"
        },
        {
         "hovertemplate": "Type=Public<br>OutStateTuition=%{x}<br>Expenditure=%{y}<extra></extra>",
         "legendgroup": "Public",
         "marker": {
          "color": "#EF553B",
          "symbol": "circle"
         },
         "mode": "markers",
         "name": "Public",
         "orientation": "v",
         "showlegend": true,
         "type": "scatter",
         "x": [
          6300,
          2883,
          4960,
          7434,
          6746,
          7434,
          8990,
          7380,
          9979,
          9096,
          8384,
          8964,
          8820,
          7830,
          11648,
          12024,
          7689,
          7699,
          7699,
          11218,
          7699,
          14320,
          7731,
          8412,
          5016,
          7100,
          5918,
          5962,
          5962,
          5962,
          11656,
          6700,
          6760,
          6618,
          6172,
          6597,
          6634,
          5604,
          2763,
          4023,
          4571,
          5697,
          4617,
          4650,
          4457,
          4460,
          2920,
          2093,
          5120,
          5962,
          7560,
          7244,
          4973,
          9766,
          9556,
          6892,
          5925,
          5154,
          9838,
          5542,
          5542,
          5542,
          5542,
          6797,
          6919,
          4869,
          5428,
          4136,
          5130,
          6800,
          5166,
          8723,
          8594,
          7014,
          6600,
          4800,
          7975,
          6360,
          10658,
          8127,
          15732,
          9843,
          4200,
          8949,
          9057,
          9057,
          4652,
          6073,
          5552,
          6311,
          6806,
          6806,
          5972,
          7248,
          6806,
          6360,
          8400,
          8400,
          7248,
          8677,
          6390,
          7558,
          5634,
          5595,
          11180,
          7870,
          4356,
          3946,
          3648,
          8832,
          2875,
          3135,
          7410,
          5391,
          7411,
          7410,
          4449,
          3040,
          6490,
          6550,
          6550,
          6550,
          6550,
          6550,
          6550,
          6550,
          6550,
          6550,
          6550,
          6550,
          6550,
          6840,
          6550,
          6550,
          7452,
          7854,
          7629,
          7650,
          8907,
          7441,
          5336,
          7890,
          8676,
          7352,
          4818,
          7844,
          8285,
          7352,
          7844,
          7844,
          7844,
          10096,
          10786,
          10645,
          7844,
          10330,
          8116,
          6120,
          4938,
          8074,
          5800,
          6400,
          5840,
          5800,
          5550,
          5764,
          5130,
          5390,
          4752,
          4104,
          4860,
          4860,
          4290,
          4860,
          7860,
          4860,
          4422,
          5130,
          4104,
          4104,
          5130,
          6857,
          11720,
          7860,
          7920,
          7994,
          9464,
          6684,
          10217,
          7168,
          7656,
          7656,
          15516,
          7974,
          8124,
          6297,
          6996
         ],
         "xaxis": "x",
         "y": [
          6642,
          4295,
          8863,
          4602,
          6157,
          9683,
          6288,
          8453,
          8650,
          7530,
          7930,
          7651,
          5957,
          7304,
          13919,
          15934,
          20260,
          12528,
          17674,
          9475,
          10860,
          8837,
          6309,
          7850,
          3871,
          5389,
          4599,
          4900,
          5245,
          5719,
          10178,
          8717,
          11020,
          6742,
          8488,
          6722,
          6104,
          5667,
          5332,
          6208,
          4830,
          7881,
          5374,
          5687,
          4706,
          12833,
          11460,
          5705,
          6997,
          8805,
          8559,
          7449,
          4078,
          8686,
          8604,
          6996,
          6741,
          5260,
          7607,
          4666,
          6562,
          4386,
          4222,
          4469,
          7462,
          7848,
          5491,
          6867,
          5125,
          10357,
          5401,
          9021,
          7618,
          5191,
          6408,
          5632,
          7379,
          5955,
          10520,
          7473,
          14847,
          6716,
          5318,
          16122,
          10145,
          9699,
          5917,
          6112,
          6324,
          5862,
          7090,
          5854,
          7011,
          9002,
          6972,
          6443,
          9670,
          15893,
          6227,
          7392,
          6554,
          6005,
          9424,
          6813,
          7855,
          6195,
          7252,
          8367,
          6717,
          12529,
          6001,
          6391,
          11878,
          8504,
          10134,
          10474,
          7333,
          5599,
          10407,
          9075,
          8055,
          13705,
          6632,
          7511,
          5563,
          6442,
          5716,
          6608,
          6111,
          5280,
          6174,
          6436,
          8170,
          11177,
          6918,
          6397,
          8811,
          6025,
          13889,
          6124,
          6433,
          9383,
          7556,
          6760,
          10912,
          7041,
          6552,
          6374,
          7832,
          6719,
          6773,
          12231,
          13789,
          8992,
          5556,
          9158,
          7597,
          4776,
          6119,
          8246,
          5035,
          6729,
          5039,
          9825,
          4902,
          8612,
          4010,
          5073,
          5879,
          5657,
          4056,
          3997,
          5967,
          4242,
          3605,
          5449,
          4696,
          7837,
          4717,
          4329,
          8471,
          9275,
          9534,
          4639,
          5553,
          5212,
          6727,
          4519,
          11183,
          4417,
          6318,
          6564,
          12646,
          7451,
          7203,
          8355,
          6139
         ],
         "yaxis": "y"
        },
        {
         "hovertemplate": "<b>OLS trendline</b><br>Expenditure = 0.812818 * OutStateTuition + 1085.61<br>R<sup>2</sup>=0.439061<br><br>OutStateTuition=%{x}<br>Expenditure=%{y} <b>(trend)</b><extra></extra>",
         "legendgroup": "Overall Trendline",
         "line": {
          "color": "black"
         },
         "mode": "lines",
         "name": "Overall Trendline",
         "showlegend": true,
         "type": "scatter",
         "x": [
          2093,
          2763,
          2875,
          2883,
          2920,
          3040,
          3120,
          3135,
          3605,
          3648,
          3946,
          4023,
          4104,
          4104,
          4104,
          4136,
          4200,
          4290,
          4356,
          4371,
          4422,
          4449,
          4450,
          4457,
          4460,
          4571,
          4617,
          4650,
          4652,
          4694,
          4752,
          4788,
          4800,
          4818,
          4860,
          4860,
          4860,
          4860,
          4869,
          4938,
          4960,
          4973,
          4990,
          5016,
          5094,
          5100,
          5120,
          5120,
          5130,
          5130,
          5130,
          5130,
          5154,
          5166,
          5188,
          5190,
          5224,
          5336,
          5390,
          5391,
          5400,
          5400,
          5428,
          5500,
          5504,
          5542,
          5542,
          5542,
          5542,
          5550,
          5552,
          5590,
          5595,
          5604,
          5634,
          5640,
          5697,
          5764,
          5775,
          5800,
          5800,
          5840,
          5918,
          5925,
          5962,
          5962,
          5962,
          5962,
          5972,
          6073,
          6120,
          6120,
          6172,
          6200,
          6230,
          6272,
          6297,
          6300,
          6300,
          6311,
          6360,
          6360,
          6390,
          6398,
          6400,
          6400,
          6400,
          6490,
          6500,
          6540,
          6550,
          6550,
          6550,
          6550,
          6550,
          6550,
          6550,
          6550,
          6550,
          6550,
          6550,
          6550,
          6550,
          6550,
          6597,
          6600,
          6618,
          6634,
          6684,
          6700,
          6746,
          6760,
          6797,
          6800,
          6806,
          6806,
          6806,
          6840,
          6857,
          6870,
          6892,
          6900,
          6900,
          6900,
          6919,
          6930,
          6950,
          6987,
          6996,
          7000,
          7014,
          7050,
          7070,
          7100,
          7128,
          7150,
          7161,
          7168,
          7244,
          7248,
          7248,
          7344,
          7352,
          7352,
          7380,
          7384,
          7410,
          7410,
          7411,
          7420,
          7434,
          7434,
          7441,
          7452,
          7470,
          7536,
          7550,
          7550,
          7558,
          7560,
          7560,
          7600,
          7629,
          7650,
          7656,
          7656,
          7689,
          7699,
          7699,
          7699,
          7700,
          7730,
          7731,
          7800,
          7800,
          7800,
          7800,
          7820,
          7830,
          7844,
          7844,
          7844,
          7844,
          7844,
          7850,
          7854,
          7860,
          7860,
          7870,
          7890,
          7908,
          7920,
          7940,
          7950,
          7950,
          7974,
          7975,
          7994,
          8000,
          8025,
          8050,
          8074,
          8080,
          8116,
          8124,
          8127,
          8180,
          8200,
          8242,
          8280,
          8285,
          8300,
          8300,
          8325,
          8330,
          8384,
          8400,
          8400,
          8400,
          8412,
          8438,
          8530,
          8550,
          8550,
          8550,
          8578,
          8594,
          8640,
          8650,
          8650,
          8670,
          8676,
          8677,
          8678,
          8723,
          8730,
          8734,
          8770,
          8800,
          8820,
          8832,
          8840,
          8840,
          8840,
          8842,
          8850,
          8900,
          8907,
          8920,
          8949,
          8950,
          8950,
          8950,
          8955,
          8964,
          8990,
          8994,
          9000,
          9000,
          9057,
          9057,
          9096,
          9100,
          9100,
          9150,
          9160,
          9200,
          9200,
          9210,
          9250,
          9270,
          9300,
          9384,
          9400,
          9400,
          9408,
          9420,
          9428,
          9450,
          9456,
          9464,
          9476,
          9490,
          9500,
          9520,
          9550,
          9556,
          9570,
          9592,
          9600,
          9600,
          9600,
          9650,
          9690,
          9700,
          9700,
          9766,
          9800,
          9838,
          9843,
          9850,
          9858,
          9888,
          9890,
          9900,
          9900,
          9925,
          9950,
          9979,
          9985,
          9990,
          9990,
          9990,
          10000,
          10060,
          10096,
          10100,
          10100,
          10100,
          10178,
          10194,
          10200,
          10217,
          10220,
          10230,
          10260,
          10300,
          10300,
          10330,
          10335,
          10375,
          10390,
          10425,
          10430,
          10440,
          10456,
          10468,
          10475,
          10485,
          10500,
          10500,
          10518,
          10535,
          10560,
          10570,
          10600,
          10608,
          10645,
          10658,
          10690,
          10700,
          10700,
          10720,
          10760,
          10786,
          10800,
          10800,
          10850,
          10850,
          10870,
          10900,
          10900,
          10910,
          10965,
          10970,
          10995,
          11000,
          11000,
          11010,
          11010,
          11020,
          11040,
          11070,
          11090,
          11100,
          11120,
          11130,
          11138,
          11172,
          11180,
          11180,
          11190,
          11200,
          11200,
          11200,
          11214,
          11218,
          11230,
          11280,
          11290,
          11320,
          11380,
          11388,
          11390,
          11400,
          11412,
          11428,
          11431,
          11450,
          11478,
          11480,
          11500,
          11500,
          11510,
          11520,
          11550,
          11584,
          11600,
          11600,
          11610,
          11648,
          11656,
          11660,
          11690,
          11700,
          11700,
          11712,
          11718,
          11720,
          11750,
          11750,
          11760,
          11790,
          11800,
          11800,
          11844,
          11850,
          11850,
          11859,
          11902,
          11910,
          11985,
          12000,
          12024,
          12040,
          12065,
          12140,
          12170,
          12180,
          12200,
          12224,
          12240,
          12247,
          12247,
          12280,
          12292,
          12350,
          12370,
          12474,
          12480,
          12500,
          12500,
          12520,
          12520,
          12580,
          12584,
          12600,
          12600,
          12660,
          12669,
          12680,
          12680,
          12700,
          12730,
          12750,
          12790,
          12825,
          12850,
          12850,
          12900,
          12950,
          12950,
          12990,
          13000,
          13000,
          13020,
          13030,
          13125,
          13130,
          13218,
          13226,
          13240,
          13240,
          13250,
          13252,
          13290,
          13306,
          13312,
          13320,
          13332,
          13380,
          13380,
          13404,
          13420,
          13425,
          13440,
          13470,
          13472,
          13500,
          13500,
          13500,
          13540,
          13592,
          13600,
          13600,
          13780,
          13840,
          13850,
          13900,
          13900,
          13900,
          13900,
          13925,
          13960,
          13970,
          14067,
          14125,
          14190,
          14200,
          14200,
          14210,
          14220,
          14235,
          14320,
          14340,
          14350,
          14360,
          14400,
          14500,
          14510,
          14550,
          14700,
          14710,
          14800,
          14850,
          14900,
          14900,
          14990,
          15000,
          15036,
          15190,
          15192,
          15200,
          15248,
          15276,
          15350,
          15360,
          15476,
          15516,
          15588,
          15595,
          15688,
          15700,
          15732,
          15747,
          15884,
          15925,
          15948,
          15960,
          15990,
          16160,
          16200,
          16230,
          16240,
          16249,
          16304,
          16320,
          16404,
          16425,
          16560,
          16624,
          16670,
          16732,
          16850,
          16900,
          16900,
          16975,
          17000,
          17020,
          17230,
          17230,
          17238,
          17295,
          17480,
          17600,
          17688,
          17748,
          17865,
          17900,
          17926,
          18000,
          18165,
          18200,
          18345,
          18375,
          18420,
          18432,
          18460,
          18590,
          18624,
          18710,
          18720,
          18800,
          18920,
          18930,
          19030,
          19130,
          19240,
          19300,
          19300,
          19510,
          19528,
          19545,
          19670,
          19700,
          19760,
          19900,
          19960,
          20100,
          21700
         ],
         "xaxis": "x",
         "y": [
          2786.834401654204,
          3331.422380699199,
          3422.4579831664223,
          3428.9605261997954,
          3459.034787729146,
          3556.572933229742,
          3621.598363563473,
          3633.7906317510474,
          4015.815034961716,
          4050.766203766096,
          4292.985931759244,
          4355.572908455459,
          4421.411156668361,
          4421.411156668361,
          4421.411156668361,
          4447.421328801854,
          4499.441673068839,
          4572.595282194286,
          4626.241262219613,
          4638.433530407188,
          4679.887242244941,
          4701.8333249825755,
          4702.646142861748,
          4708.335868015949,
          4710.774321653464,
          4800.997106241515,
          4838.38672868341,
          4865.209718696075,
          4866.835354454417,
          4900.973705379625,
          4948.1171423715805,
          4977.3785860217595,
          4987.13240057182,
          5001.763122396909,
          5035.901473322117,
          5035.901473322117,
          5035.901473322117,
          5035.901473322117,
          5043.216834234662,
          5099.301267897505,
          5117.183261239281,
          5127.7498936685115,
          5141.56779761443,
          5162.701062472892,
          5226.100857048279,
          5230.97776432331,
          5247.234121906742,
          5247.234121906742,
          5255.362300698458,
          5255.362300698458,
          5255.362300698458,
          5255.362300698458,
          5274.869929798579,
          5284.623744348637,
          5302.505737690413,
          5304.131373448758,
          5331.767181340592,
          5422.802783807816,
          5466.6949492830845,
          5467.507767162255,
          5474.8231280748005,
          5474.8231280748005,
          5497.582028691606,
          5556.104915991964,
          5559.356187508651,
          5590.243266917172,
          5590.243266917172,
          5590.243266917172,
          5590.243266917172,
          5596.745809950546,
          5598.371445708888,
          5629.258525117411,
          5633.3226145132685,
          5640.637975425814,
          5665.022511800962,
          5669.899419075993,
          5716.230038188776,
          5770.688836093275,
          5779.629832764163,
          5799.950279743454,
          5799.950279743454,
          5832.46299491032,
          5895.862789485707,
          5901.552514639909,
          5931.626776169258,
          5931.626776169258,
          5931.626776169258,
          5931.626776169258,
          5939.754954960976,
          6021.8495607573095,
          6060.052001078377,
          6060.052001078377,
          6102.318530795303,
          6125.077431412108,
          6149.461967787256,
          6183.600318712466,
          6203.920765691757,
          6206.359219329272,
          6206.359219329272,
          6215.30021600016,
          6255.128292079569,
          6255.128292079569,
          6279.512828454719,
          6286.015371488091,
          6287.641007246435,
          6287.641007246435,
          6287.641007246435,
          6360.7946163718825,
          6368.9227951635985,
          6401.435510330464,
          6409.56368912218,
          6409.56368912218,
          6409.56368912218,
          6409.56368912218,
          6409.56368912218,
          6409.56368912218,
          6409.56368912218,
          6409.56368912218,
          6409.56368912218,
          6409.56368912218,
          6409.56368912218,
          6409.56368912218,
          6409.56368912218,
          6409.56368912218,
          6447.766129443247,
          6450.204583080762,
          6464.835304905851,
          6477.840390972597,
          6518.481284931178,
          6531.486370997925,
          6568.87599343982,
          6580.255443748223,
          6610.329705277574,
          6612.768158915089,
          6617.645066190118,
          6617.645066190118,
          6617.645066190118,
          6645.280874081955,
          6659.098778027872,
          6669.665410457103,
          6687.547403798879,
          6694.049946832252,
          6694.049946832252,
          6694.049946832252,
          6709.493486536514,
          6718.4344832074,
          6734.690840790834,
          6764.765102320185,
          6772.080463232729,
          6775.331734749416,
          6786.7111850578185,
          6815.9726287079975,
          6832.2289862914295,
          6856.613522666579,
          6879.372423283385,
          6897.254416625161,
          6906.195413296049,
          6911.88513845025,
          6973.659297267295,
          6976.91056878398,
          6976.91056878398,
          7054.941085184459,
          7061.44362821783,
          7061.44362821783,
          7084.202528834638,
          7087.453800351323,
          7108.587065209786,
          7108.587065209786,
          7109.399883088958,
          7116.715244001502,
          7128.094694309904,
          7128.094694309904,
          7133.784419464106,
          7142.725416134994,
          7157.356137960083,
          7211.002117985412,
          7222.381568293815,
          7222.381568293815,
          7228.884111327188,
          7230.509747085531,
          7230.509747085531,
          7263.0224622523965,
          7286.594180748374,
          7303.663356210978,
          7308.5402634860075,
          7308.5402634860075,
          7335.363253498672,
          7343.491432290388,
          7343.491432290388,
          7343.491432290388,
          7344.30425016956,
          7368.68878654471,
          7369.50160442388,
          7425.586038086723,
          7425.586038086723,
          7425.586038086723,
          7425.586038086723,
          7441.842395670155,
          7449.970574461873,
          7461.350024770276,
          7461.350024770276,
          7461.350024770276,
          7461.350024770276,
          7461.350024770276,
          7466.226932045305,
          7469.478203561992,
          7474.355110837021,
          7474.355110837021,
          7482.483289628737,
          7498.739647212171,
          7513.37036903726,
          7523.124183587319,
          7539.380541170753,
          7547.508719962469,
          7547.508719962469,
          7567.016349062587,
          7567.8291669417595,
          7583.272706646021,
          7588.14961392105,
          7608.470060900341,
          7628.790507879632,
          7648.298136979751,
          7653.175044254782,
          7682.436487904961,
          7688.9390309383325,
          7691.377484575847,
          7734.456832171945,
          7750.713189755377,
          7784.8515406805855,
          7815.738620089109,
          7819.802709484966,
          7831.994977672541,
          7831.994977672541,
          7852.315424651832,
          7856.3795140476905,
          7900.271679522959,
          7913.276765589704,
          7913.276765589704,
          7913.276765589704,
          7923.030580139764,
          7944.163844998226,
          8018.943089882017,
          8035.199447465449,
          8035.199447465449,
          8035.199447465449,
          8057.958348082255,
          8070.963434149002,
          8108.353056590897,
          8116.481235382613,
          8116.481235382613,
          8132.737592966045,
          8137.614500241076,
          8138.427318120246,
          8139.240135999418,
          8175.816940562143,
          8181.506665716344,
          8184.757937233031,
          8214.019380883208,
          8238.403917258358,
          8254.66027484179,
          8264.41408939185,
          8270.916632425224,
          8270.916632425224,
          8270.916632425224,
          8272.542268183566,
          8279.04481121694,
          8319.685705175521,
          8325.375430329723,
          8335.942062758953,
          8359.513781254931,
          8360.326599134103,
          8360.326599134103,
          8360.326599134103,
          8364.390688529962,
          8371.706049442506,
          8392.839314300969,
          8396.090585817656,
          8400.967493092685,
          8400.967493092685,
          8447.298112205468,
          8447.298112205468,
          8478.998009493162,
          8482.249281009848,
          8482.249281009848,
          8522.89017496843,
          8531.018353760146,
          8563.531068927012,
          8563.531068927012,
          8571.659247718728,
          8604.171962885594,
          8620.428320469027,
          8644.812856844175,
          8713.089558694594,
          8726.094644761339,
          8726.094644761339,
          8732.597187794712,
          8742.351002344772,
          8748.853545378144,
          8766.73553871992,
          8771.61244599495,
          8778.114989028323,
          8787.868803578383,
          8799.248253886786,
          8807.376432678502,
          8823.632790261936,
          8848.017326637084,
          8852.894233912113,
          8864.273684220518,
          8882.155677562292,
          8888.658220595666,
          8888.658220595666,
          8888.658220595666,
          8929.299114554247,
          8961.811829721113,
          8969.940008512829,
          8969.940008512829,
          9023.585988538158,
          9051.221796429993,
          9082.108875838516,
          9086.172965234373,
          9091.862690388574,
          9098.365233421948,
          9122.749769797098,
          9124.37540555544,
          9132.503584347156,
          9132.503584347156,
          9152.824031326447,
          9173.144478305738,
          9196.716196801715,
          9201.593104076745,
          9205.657193472603,
          9205.657193472603,
          9205.657193472603,
          9213.78537226432,
          9262.554445014617,
          9291.815888664796,
          9295.067160181483,
          9295.067160181483,
          9295.067160181483,
          9358.46695475687,
          9371.472040823617,
          9376.348948098646,
          9390.166852044564,
          9392.605305682078,
          9400.733484473796,
          9425.118020848944,
          9457.63073601581,
          9457.63073601581,
          9482.01527239096,
          9486.079361786817,
          9518.592076953682,
          9530.784345141257,
          9559.232970912264,
          9563.297060308123,
          9571.425239099839,
          9584.430325166584,
          9594.184139716644,
          9599.873864870846,
          9608.002043662562,
          9620.194311850137,
          9620.194311850137,
          9634.825033675226,
          9648.642937621144,
          9668.963384600434,
          9677.09156339215,
          9701.4760997673,
          9707.978642800674,
          9738.052904330023,
          9748.619536759255,
          9774.629708892748,
          9782.757887684464,
          9782.757887684464,
          9799.014245267896,
          9831.526960434761,
          9852.660225293224,
          9864.039675601627,
          9864.039675601627,
          9904.680569560209,
          9904.680569560209,
          9920.93692714364,
          9945.32146351879,
          9945.32146351879,
          9953.449642310507,
          9998.154625664947,
          10002.218715060804,
          10022.539162040095,
          10026.603251435954,
          10026.603251435954,
          10034.73143022767,
          10034.73143022767,
          10042.859609019386,
          10059.11596660282,
          10083.500502977968,
          10099.756860561401,
          10107.885039353117,
          10124.14139693655,
          10132.269575728267,
          10138.772118761639,
          10166.407926653475,
          10172.910469686849,
          10172.910469686849,
          10181.038648478565,
          10189.166827270281,
          10189.166827270281,
          10189.166827270281,
          10200.546277578684,
          10203.79754909537,
          10213.55136364543,
          10254.192257604012,
          10262.320436395728,
          10286.704972770876,
          10335.474045521176,
          10341.976588554548,
          10343.602224312892,
          10351.730403104608,
          10361.484217654668,
          10374.489303721413,
          10376.927757358928,
          10392.37129706319,
          10415.130197679995,
          10416.75583343834,
          10433.012191021771,
          10433.012191021771,
          10441.140369813487,
          10449.268548605203,
          10473.653084980353,
          10501.28889287219,
          10514.293978938935,
          10514.293978938935,
          10522.42215773065,
          10553.309237139174,
          10559.811780172546,
          10563.063051689232,
          10587.447588064382,
          10595.575766856098,
          10595.575766856098,
          10605.329581406158,
          10610.206488681188,
          10611.83212443953,
          10636.21666081468,
          10636.21666081468,
          10644.344839606396,
          10668.729375981546,
          10676.857554773262,
          10676.857554773262,
          10712.621541456814,
          10717.498448731843,
          10717.498448731843,
          10724.813809644389,
          10759.76497844877,
          10766.267521482141,
          10827.228862420014,
          10839.421130607589,
          10858.928759707707,
          10871.933845774454,
          10892.254292753745,
          10953.215633691618,
          10977.600170066768,
          10985.728348858484,
          11001.984706441915,
          11021.492335542034,
          11034.497421608781,
          11040.187146762983,
          11040.187146762983,
          11067.010136775647,
          11076.763951325705,
          11123.90738831766,
          11140.163745901094,
          11224.696805334943,
          11229.573712609974,
          11245.830070193406,
          11245.830070193406,
          11262.08642777684,
          11262.08642777684,
          11310.855500527137,
          11314.106772043824,
          11327.11185811057,
          11327.11185811057,
          11375.880930860867,
          11383.196291773413,
          11392.1372884443,
          11392.1372884443,
          11408.393646027733,
          11432.778182402883,
          11449.034539986314,
          11481.54725515318,
          11509.995880924187,
          11530.316327903478,
          11530.316327903478,
          11570.95722186206,
          11611.598115820641,
          11611.598115820641,
          11644.110830987507,
          11652.239009779223,
          11652.239009779223,
          11668.495367362657,
          11676.623546154373,
          11753.841244675677,
          11757.905334071536,
          11829.43330743864,
          11835.935850472013,
          11847.315300780416,
          11847.315300780416,
          11855.443479572132,
          11857.069115330476,
          11887.956194738998,
          11900.961280805745,
          11905.838188080774,
          11912.340731114147,
          11922.094545664206,
          11961.109803864445,
          11961.109803864445,
          11980.617432964564,
          11993.62251903131,
          11997.686608427168,
          12009.878876614743,
          12034.263412989892,
          12035.889048748235,
          12058.64794936504,
          12058.64794936504,
          12058.64794936504,
          12091.160664531906,
          12133.427194248832,
          12139.929737282204,
          12139.929737282204,
          12286.236955533099,
          12335.006028283397,
          12343.134207075112,
          12383.775101033694,
          12383.775101033694,
          12383.775101033694,
          12383.775101033694,
          12404.095548012985,
          12432.544173783992,
          12440.67235257571,
          12519.515686855359,
          12566.659123847312,
          12619.492285993469,
          12627.620464785185,
          12627.620464785185,
          12635.748643576902,
          12643.876822368618,
          12656.069090556193,
          12725.158610285782,
          12741.414967869214,
          12749.54314666093,
          12757.671325452648,
          12790.184040619512,
          12871.465828536675,
          12879.594007328393,
          12912.106722495257,
          13034.029404371002,
          13042.15758316272,
          13115.311192288165,
          13155.952086246747,
          13196.592980205329,
          13196.592980205329,
          13269.746589330776,
          13277.874768122492,
          13307.136211772671,
          13432.310165165103,
          13433.935800923447,
          13440.43834395682,
          13479.453602157058,
          13502.212502773864,
          13562.361025832564,
          13570.489204624282,
          13664.77607860819,
          13697.288793775057,
          13755.811681075415,
          13761.501406229616,
          13837.093468992578,
          13846.847283542636,
          13872.857455676129,
          13885.049723863704,
          13996.405773310218,
          14029.731306356254,
          14048.426117577203,
          14058.179932127263,
          14082.56446850241,
          14220.74350796159,
          14253.256223128456,
          14277.640759503603,
          14285.76893829532,
          14293.084299207865,
          14337.789282562304,
          14350.794368629051,
          14419.071070479467,
          14436.140245942073,
          14545.870659630244,
          14597.891003897228,
          14635.280626339123,
          14685.675334847765,
          14781.587844590018,
          14822.2287385486,
          14822.2287385486,
          14883.190079486472,
          14903.510526465763,
          14919.766884049195,
          15090.458638675238,
          15090.458638675238,
          15096.961181708612,
          15143.291800821395,
          15293.663108468147,
          15391.201253968744,
          15462.729227335847,
          15511.498300086145,
          15606.597991949226,
          15635.046617720234,
          15656.179882578695,
          15716.328405637398,
          15850.443355700716,
          15878.891981471725,
          15996.750573951611,
          16021.13511032676,
          16057.711914889484,
          16067.465729439544,
          16090.22463005635,
          16195.890954348662,
          16223.526762240497,
          16293.429099849258,
          16301.557278640974,
          16366.582708974705,
          16464.120854475303,
          16472.249033267017,
          16553.53082118418,
          16634.812609101344,
          16724.222575810225,
          16772.991648560524,
          16772.991648560524,
          16943.683403186566,
          16958.314125011657,
          16972.132028957574,
          17073.73426385403,
          17098.11880022918,
          17146.887872979474,
          17260.682376063505,
          17309.4514488138,
          17423.245951897832,
          18723.754558572447
         ],
         "yaxis": "y"
        }
       ],
       "layout": {
        "height": 700,
        "legend": {
         "title": {
          "text": "Type"
         },
         "tracegroupgap": 0
        },
        "margin": {
         "t": 60
        },
        "template": {
         "data": {
          "bar": [
           {
            "error_x": {
             "color": "#2a3f5f"
            },
            "error_y": {
             "color": "#2a3f5f"
            },
            "marker": {
             "line": {
              "color": "#E5ECF6",
              "width": 0.5
             },
             "pattern": {
              "fillmode": "overlay",
              "size": 10,
              "solidity": 0.2
             }
            },
            "type": "bar"
           }
          ],
          "barpolar": [
           {
            "marker": {
             "line": {
              "color": "#E5ECF6",
              "width": 0.5
             },
             "pattern": {
              "fillmode": "overlay",
              "size": 10,
              "solidity": 0.2
             }
            },
            "type": "barpolar"
           }
          ],
          "carpet": [
           {
            "aaxis": {
             "endlinecolor": "#2a3f5f",
             "gridcolor": "white",
             "linecolor": "white",
             "minorgridcolor": "white",
             "startlinecolor": "#2a3f5f"
            },
            "baxis": {
             "endlinecolor": "#2a3f5f",
             "gridcolor": "white",
             "linecolor": "white",
             "minorgridcolor": "white",
             "startlinecolor": "#2a3f5f"
            },
            "type": "carpet"
           }
          ],
          "choropleth": [
           {
            "colorbar": {
             "outlinewidth": 0,
             "ticks": ""
            },
            "type": "choropleth"
           }
          ],
          "contour": [
           {
            "colorbar": {
             "outlinewidth": 0,
             "ticks": ""
            },
            "colorscale": [
             [
              0,
              "#0d0887"
             ],
             [
              0.1111111111111111,
              "#46039f"
             ],
             [
              0.2222222222222222,
              "#7201a8"
             ],
             [
              0.3333333333333333,
              "#9c179e"
             ],
             [
              0.4444444444444444,
              "#bd3786"
             ],
             [
              0.5555555555555556,
              "#d8576b"
             ],
             [
              0.6666666666666666,
              "#ed7953"
             ],
             [
              0.7777777777777778,
              "#fb9f3a"
             ],
             [
              0.8888888888888888,
              "#fdca26"
             ],
             [
              1,
              "#f0f921"
             ]
            ],
            "type": "contour"
           }
          ],
          "contourcarpet": [
           {
            "colorbar": {
             "outlinewidth": 0,
             "ticks": ""
            },
            "type": "contourcarpet"
           }
          ],
          "heatmap": [
           {
            "colorbar": {
             "outlinewidth": 0,
             "ticks": ""
            },
            "colorscale": [
             [
              0,
              "#0d0887"
             ],
             [
              0.1111111111111111,
              "#46039f"
             ],
             [
              0.2222222222222222,
              "#7201a8"
             ],
             [
              0.3333333333333333,
              "#9c179e"
             ],
             [
              0.4444444444444444,
              "#bd3786"
             ],
             [
              0.5555555555555556,
              "#d8576b"
             ],
             [
              0.6666666666666666,
              "#ed7953"
             ],
             [
              0.7777777777777778,
              "#fb9f3a"
             ],
             [
              0.8888888888888888,
              "#fdca26"
             ],
             [
              1,
              "#f0f921"
             ]
            ],
            "type": "heatmap"
           }
          ],
          "heatmapgl": [
           {
            "colorbar": {
             "outlinewidth": 0,
             "ticks": ""
            },
            "colorscale": [
             [
              0,
              "#0d0887"
             ],
             [
              0.1111111111111111,
              "#46039f"
             ],
             [
              0.2222222222222222,
              "#7201a8"
             ],
             [
              0.3333333333333333,
              "#9c179e"
             ],
             [
              0.4444444444444444,
              "#bd3786"
             ],
             [
              0.5555555555555556,
              "#d8576b"
             ],
             [
              0.6666666666666666,
              "#ed7953"
             ],
             [
              0.7777777777777778,
              "#fb9f3a"
             ],
             [
              0.8888888888888888,
              "#fdca26"
             ],
             [
              1,
              "#f0f921"
             ]
            ],
            "type": "heatmapgl"
           }
          ],
          "histogram": [
           {
            "marker": {
             "pattern": {
              "fillmode": "overlay",
              "size": 10,
              "solidity": 0.2
             }
            },
            "type": "histogram"
           }
          ],
          "histogram2d": [
           {
            "colorbar": {
             "outlinewidth": 0,
             "ticks": ""
            },
            "colorscale": [
             [
              0,
              "#0d0887"
             ],
             [
              0.1111111111111111,
              "#46039f"
             ],
             [
              0.2222222222222222,
              "#7201a8"
             ],
             [
              0.3333333333333333,
              "#9c179e"
             ],
             [
              0.4444444444444444,
              "#bd3786"
             ],
             [
              0.5555555555555556,
              "#d8576b"
             ],
             [
              0.6666666666666666,
              "#ed7953"
             ],
             [
              0.7777777777777778,
              "#fb9f3a"
             ],
             [
              0.8888888888888888,
              "#fdca26"
             ],
             [
              1,
              "#f0f921"
             ]
            ],
            "type": "histogram2d"
           }
          ],
          "histogram2dcontour": [
           {
            "colorbar": {
             "outlinewidth": 0,
             "ticks": ""
            },
            "colorscale": [
             [
              0,
              "#0d0887"
             ],
             [
              0.1111111111111111,
              "#46039f"
             ],
             [
              0.2222222222222222,
              "#7201a8"
             ],
             [
              0.3333333333333333,
              "#9c179e"
             ],
             [
              0.4444444444444444,
              "#bd3786"
             ],
             [
              0.5555555555555556,
              "#d8576b"
             ],
             [
              0.6666666666666666,
              "#ed7953"
             ],
             [
              0.7777777777777778,
              "#fb9f3a"
             ],
             [
              0.8888888888888888,
              "#fdca26"
             ],
             [
              1,
              "#f0f921"
             ]
            ],
            "type": "histogram2dcontour"
           }
          ],
          "mesh3d": [
           {
            "colorbar": {
             "outlinewidth": 0,
             "ticks": ""
            },
            "type": "mesh3d"
           }
          ],
          "parcoords": [
           {
            "line": {
             "colorbar": {
              "outlinewidth": 0,
              "ticks": ""
             }
            },
            "type": "parcoords"
           }
          ],
          "pie": [
           {
            "automargin": true,
            "type": "pie"
           }
          ],
          "scatter": [
           {
            "fillpattern": {
             "fillmode": "overlay",
             "size": 10,
             "solidity": 0.2
            },
            "type": "scatter"
           }
          ],
          "scatter3d": [
           {
            "line": {
             "colorbar": {
              "outlinewidth": 0,
              "ticks": ""
             }
            },
            "marker": {
             "colorbar": {
              "outlinewidth": 0,
              "ticks": ""
             }
            },
            "type": "scatter3d"
           }
          ],
          "scattercarpet": [
           {
            "marker": {
             "colorbar": {
              "outlinewidth": 0,
              "ticks": ""
             }
            },
            "type": "scattercarpet"
           }
          ],
          "scattergeo": [
           {
            "marker": {
             "colorbar": {
              "outlinewidth": 0,
              "ticks": ""
             }
            },
            "type": "scattergeo"
           }
          ],
          "scattergl": [
           {
            "marker": {
             "colorbar": {
              "outlinewidth": 0,
              "ticks": ""
             }
            },
            "type": "scattergl"
           }
          ],
          "scattermapbox": [
           {
            "marker": {
             "colorbar": {
              "outlinewidth": 0,
              "ticks": ""
             }
            },
            "type": "scattermapbox"
           }
          ],
          "scatterpolar": [
           {
            "marker": {
             "colorbar": {
              "outlinewidth": 0,
              "ticks": ""
             }
            },
            "type": "scatterpolar"
           }
          ],
          "scatterpolargl": [
           {
            "marker": {
             "colorbar": {
              "outlinewidth": 0,
              "ticks": ""
             }
            },
            "type": "scatterpolargl"
           }
          ],
          "scatterternary": [
           {
            "marker": {
             "colorbar": {
              "outlinewidth": 0,
              "ticks": ""
             }
            },
            "type": "scatterternary"
           }
          ],
          "surface": [
           {
            "colorbar": {
             "outlinewidth": 0,
             "ticks": ""
            },
            "colorscale": [
             [
              0,
              "#0d0887"
             ],
             [
              0.1111111111111111,
              "#46039f"
             ],
             [
              0.2222222222222222,
              "#7201a8"
             ],
             [
              0.3333333333333333,
              "#9c179e"
             ],
             [
              0.4444444444444444,
              "#bd3786"
             ],
             [
              0.5555555555555556,
              "#d8576b"
             ],
             [
              0.6666666666666666,
              "#ed7953"
             ],
             [
              0.7777777777777778,
              "#fb9f3a"
             ],
             [
              0.8888888888888888,
              "#fdca26"
             ],
             [
              1,
              "#f0f921"
             ]
            ],
            "type": "surface"
           }
          ],
          "table": [
           {
            "cells": {
             "fill": {
              "color": "#EBF0F8"
             },
             "line": {
              "color": "white"
             }
            },
            "header": {
             "fill": {
              "color": "#C8D4E3"
             },
             "line": {
              "color": "white"
             }
            },
            "type": "table"
           }
          ]
         },
         "layout": {
          "annotationdefaults": {
           "arrowcolor": "#2a3f5f",
           "arrowhead": 0,
           "arrowwidth": 1
          },
          "autotypenumbers": "strict",
          "coloraxis": {
           "colorbar": {
            "outlinewidth": 0,
            "ticks": ""
           }
          },
          "colorscale": {
           "diverging": [
            [
             0,
             "#8e0152"
            ],
            [
             0.1,
             "#c51b7d"
            ],
            [
             0.2,
             "#de77ae"
            ],
            [
             0.3,
             "#f1b6da"
            ],
            [
             0.4,
             "#fde0ef"
            ],
            [
             0.5,
             "#f7f7f7"
            ],
            [
             0.6,
             "#e6f5d0"
            ],
            [
             0.7,
             "#b8e186"
            ],
            [
             0.8,
             "#7fbc41"
            ],
            [
             0.9,
             "#4d9221"
            ],
            [
             1,
             "#276419"
            ]
           ],
           "sequential": [
            [
             0,
             "#0d0887"
            ],
            [
             0.1111111111111111,
             "#46039f"
            ],
            [
             0.2222222222222222,
             "#7201a8"
            ],
            [
             0.3333333333333333,
             "#9c179e"
            ],
            [
             0.4444444444444444,
             "#bd3786"
            ],
            [
             0.5555555555555556,
             "#d8576b"
            ],
            [
             0.6666666666666666,
             "#ed7953"
            ],
            [
             0.7777777777777778,
             "#fb9f3a"
            ],
            [
             0.8888888888888888,
             "#fdca26"
            ],
            [
             1,
             "#f0f921"
            ]
           ],
           "sequentialminus": [
            [
             0,
             "#0d0887"
            ],
            [
             0.1111111111111111,
             "#46039f"
            ],
            [
             0.2222222222222222,
             "#7201a8"
            ],
            [
             0.3333333333333333,
             "#9c179e"
            ],
            [
             0.4444444444444444,
             "#bd3786"
            ],
            [
             0.5555555555555556,
             "#d8576b"
            ],
            [
             0.6666666666666666,
             "#ed7953"
            ],
            [
             0.7777777777777778,
             "#fb9f3a"
            ],
            [
             0.8888888888888888,
             "#fdca26"
            ],
            [
             1,
             "#f0f921"
            ]
           ]
          },
          "colorway": [
           "#636efa",
           "#EF553B",
           "#00cc96",
           "#ab63fa",
           "#FFA15A",
           "#19d3f3",
           "#FF6692",
           "#B6E880",
           "#FF97FF",
           "#FECB52"
          ],
          "font": {
           "color": "#2a3f5f"
          },
          "geo": {
           "bgcolor": "white",
           "lakecolor": "white",
           "landcolor": "#E5ECF6",
           "showlakes": true,
           "showland": true,
           "subunitcolor": "white"
          },
          "hoverlabel": {
           "align": "left"
          },
          "hovermode": "closest",
          "mapbox": {
           "style": "light"
          },
          "paper_bgcolor": "white",
          "plot_bgcolor": "#E5ECF6",
          "polar": {
           "angularaxis": {
            "gridcolor": "white",
            "linecolor": "white",
            "ticks": ""
           },
           "bgcolor": "#E5ECF6",
           "radialaxis": {
            "gridcolor": "white",
            "linecolor": "white",
            "ticks": ""
           }
          },
          "scene": {
           "xaxis": {
            "backgroundcolor": "#E5ECF6",
            "gridcolor": "white",
            "gridwidth": 2,
            "linecolor": "white",
            "showbackground": true,
            "ticks": "",
            "zerolinecolor": "white"
           },
           "yaxis": {
            "backgroundcolor": "#E5ECF6",
            "gridcolor": "white",
            "gridwidth": 2,
            "linecolor": "white",
            "showbackground": true,
            "ticks": "",
            "zerolinecolor": "white"
           },
           "zaxis": {
            "backgroundcolor": "#E5ECF6",
            "gridcolor": "white",
            "gridwidth": 2,
            "linecolor": "white",
            "showbackground": true,
            "ticks": "",
            "zerolinecolor": "white"
           }
          },
          "shapedefaults": {
           "line": {
            "color": "#2a3f5f"
           }
          },
          "ternary": {
           "aaxis": {
            "gridcolor": "white",
            "linecolor": "white",
            "ticks": ""
           },
           "baxis": {
            "gridcolor": "white",
            "linecolor": "white",
            "ticks": ""
           },
           "bgcolor": "#E5ECF6",
           "caxis": {
            "gridcolor": "white",
            "linecolor": "white",
            "ticks": ""
           }
          },
          "title": {
           "x": 0.05
          },
          "xaxis": {
           "automargin": true,
           "gridcolor": "white",
           "linecolor": "white",
           "ticks": "",
           "title": {
            "standoff": 15
           },
           "zerolinecolor": "white",
           "zerolinewidth": 2
          },
          "yaxis": {
           "automargin": true,
           "gridcolor": "white",
           "linecolor": "white",
           "ticks": "",
           "title": {
            "standoff": 15
           },
           "zerolinecolor": "white",
           "zerolinewidth": 2
          }
         }
        },
        "width": 800,
        "xaxis": {
         "anchor": "y",
         "autorange": true,
         "domain": [
          0,
          1
         ],
         "range": [
          836.1410256410256,
          22956.858974358973
         ],
         "title": {
          "text": "OutStateTuition"
         },
         "type": "linear"
        },
        "yaxis": {
         "anchor": "x",
         "autorange": true,
         "domain": [
          0,
          1
         ],
         "range": [
          -204.65512708878896,
          59625.13544777107
         ],
         "title": {
          "text": "Expenditure"
         },
         "type": "linear"
        }
       }
      },
      "image/png": "[encoded data removed]",
      "text/html": [
       "<div>                            <div id=\"155c63e9-08d7-401b-a500-3e16ffa6f46a\" class=\"plotly-graph-div\" style=\"height:700px; width:800px;\"></div>            <script type=\"text/javascript\">                require([\"plotly\"], function(Plotly) {                    window.PLOTLYENV=window.PLOTLYENV || {};                                    if (document.getElementById(\"155c63e9-08d7-401b-a500-3e16ffa6f46a\")) {                    Plotly.newPlot(                        \"155c63e9-08d7-401b-a500-3e16ffa6f46a\",                        [{\"hovertemplate\":\"Type=Private<br>OutStateTuition=%{x}<br>Expenditure=%{y}<extra></extra>\",\"legendgroup\":\"Private\",\"marker\":{\"color\":\"#636efa\",\"symbol\":\"circle\"},\"mode\":\"markers\",\"name\":\"Private\",\"orientation\":\"v\",\"showlegend\":true,\"x\":[7560,11660,8080,11478,8800,6398,5504,6870,11388,12950,11760,16624,17000,17230,17688,17238,11480,12790,12180,13540,12474,16560,6500,9900,10178,18200,9520,13332,13226,17230,16320,16249,13020,10560,13600,13592,10800,15192,13290,15000,10600,11070,14220,19130,7128,11412,6120,9890,11290,5188,13900,7800,15360,8025,13900,8550,16425,5590,5120,6200,7908,9592,4371,17600,6987,11985,7050,12900,5640,7000,11500,9700,8325,10260,13306,13925,15248,13420,9100,15688,13240,10430,11600,13500,10870,11214,8050,14550,14360,6900,15747,11500,11910,13000,11718,12580,16404,10100,10100,13130,15036,11800,10390,9420,8200,9950,11120,10440,9990,9210,8670,11200,10300,12730,10965,9456,16850,8280,8840,11850,6230,8000,10900,7800,9490,8950,11100,6900,19760,12500,18420,11800,18000,13600,8770,12200,11700,20100,19300,13380,15190,12700,16160,12170,18345,8994,18460,13472,15884,16900,9850,8400,11180,15588,13960,18800,12990,12850,15276,14510,19030,18930,7800,11450,9985,8850,9550,10230,11090,11130,11230,9450,11902,12247,12224,11844,11712,14125,13252,12247,14350,8950,9200,9250,8550,13900,9160,10720,10060,10535,11320,8650,8734,7420,9000,7550,9270,17295,18590,9100,8180,8330,13404,7550,10100,6950,8438,8242,8640,11020,10475,10375,7820,6272,19545,13320,10608,9990,12950,12292,8900,11400,10900,18432,9150,12480,19900,13250,12000,9408,16900,11010,11138,3120,12280,9000,9384,15960,19510,11790,18624,17926,8920,14990,14235,19700,17480,11600,9990,10690,9600,12370,14700,10700,11510,10200,7470,10850,17748,7950,11000,16200,10220,19300,18710,10800,10456,10570,18720,8650,12680,18920,13500,14900,12584,14710,11431,10995,9900,7344,9800,9650,16240,10850,13780,14067,11700,19240,9858,13240,19670,15990,16732,7600,11380,9600,15948,11520,15476,6400,10500,11750,7950,9200,9600,12500,13380,14210,19960,12040,7940,14800,15595,12850,18165,10518,17900,14340,13500,10335,11190,14190,10970,9476,5224,11000,10000,14850,10910,12600,13850,13900,11040,10300,16975,12350,12520,11690,9700,6540,12750,11172,17020,11584,14900,15925,12065,11428,4990,9690,8842,19528,12600,14400,14200,12520,7730,8300,9888,10425,10485,13440,10194,11859,4450,12680,7800,9300,5775,5500,4788,11200,7070,7700,15350,17865,11280,6900,5400,6300,5190,5400,8840,8840,6930,8530,8955,7536,11850,9428,8678,3605,7850,6400,12240,10760,8550,5100,9925,7150,8578,9400,13218,7161,13470,11200,11390,13840,13970,13425,10700,14500,7384,8730,21700,8300,11750,18375,13030,11010,13000,13312,12669,12825,11550,16230,16670,12660,16304,13125,11610,8950,9570,15200,12140,10468,15700,9400,5094,9500,4694,14200,10500],\"xaxis\":\"x\",\"y\":[10922,8649,7703,8594,8588,8118,6466,6219,9329,8985,10317,12692,18443,21569,14820,18372,10362,8966,8294,10139,10613,16196,5612,8095,7895,16185,8219,9619,10074,17007,13706,11778,6944,31012,10813,11677,8415,11762,8861,11220,7033,7120,10625,16262,18287,11806,6081,6243,9084,6817,8923,12878,15003,6339,12614,12523,11561,4839,3930,7774,9345,5935,4900,28457,9067,8995,8122,8568,7309,9988,11605,8614,6874,8355,6333,10141,10340,9473,5609,18979,8949,8767,7735,9727,7671,8322,7348,12851,9605,8812,13224,13009,8149,11087,8871,10889,26385,6880,7994,9511,14634,7780,11751,10270,9248,9466,6735,7940,7799,6562,7440,7360,9678,11165,8294,7603,13936,10049,6668,13118,8189,7058,10219,6864,7678,9685,9456,8323,21424,8707,16836,8952,12138,11992,6430,9226,8694,33541,18359,9563,14795,11758,14086,7495,21409,8409,22704,12113,10774,13311,17858,7976,7477,16623,12434,56233,9448,8536,10830,10026,20447,15954,4923,9718,4322,5001,6145,7786,12639,10891,13025,5568,7836,8847,7315,8996,8546,9907,10296,9853,12502,6639,3480,5925,4333,9995,6951,7925,7885,7438,11218,5862,6422,5930,7550,3739,8425,17581,27206,6329,5664,7949,9114,4947,8539,6786,11989,10090,7634,9315,9599,9332,7264,8064,29619,6418,5523,4948,6719,8643,7922,9583,9447,14907,7348,9492,28320,11299,10080,7669,12837,9637,8820,3190,10527,11178,7697,11659,15494,10015,30639,12580,6898,7502,10864,17761,11625,10093,8187,8107,7863,10062,11291,8408,10502,10622,6898,8797,21227,9685,10059,14329,7592,14779,14837,8189,9828,7908,14980,6534,8344,17089,9006,13935,22724,13578,9090,8086,9073,6897,6889,6336,14140,7505,9268,12165,7738,14067,4796,9333,16593,9979,12011,5096,8894,7164,10414,9189,42926,6578,8990,11743,7885,7269,5976,7136,8747,11216,15886,9060,7516,10779,11644,8954,17449,7117,24386,10961,16095,7729,8135,9815,7711,6786,4957,7483,7305,12067,7649,9084,8196,8024,9034,7762,10888,9603,11641,8028,7652,5266,8243,9186,25765,9131,12082,10458,8596,10291,4509,7940,7022,20440,8353,8135,9232,7957,5825,3365,8741,8693,7527,12940,5788,8354,5861,7875,7614,8129,8048,6078,4914,8317,6286,4933,18784,23850,11361,6875,7081,7054,5684,5438,6095,6863,6383,7114,8545,5309,12995,7037,7651,4800,7002,7936,14703,8731,7237,6271,6523,6259,8061,7967,12263,6791,13957,10819,8575,11080,16358,9405,9471,18953,6757,10922,16364,6936,6475,11767,10190,9586,9553,9431,10368,10175,9209,11217,13198,8328,12957,7364,9982,7016,7774,12472,8595,8991,10941,8813,6203,7683,3485,8080,7494],\"yaxis\":\"y\",\"type\":\"scatter\"},{\"hovertemplate\":\"Type=Public<br>OutStateTuition=%{x}<br>Expenditure=%{y}<extra></extra>\",\"legendgroup\":\"Public\",\"marker\":{\"color\":\"#EF553B\",\"symbol\":\"circle\"},\"mode\":\"markers\",\"name\":\"Public\",\"orientation\":\"v\",\"showlegend\":true,\"x\":[6300,2883,4960,7434,6746,7434,8990,7380,9979,9096,8384,8964,8820,7830,11648,12024,7689,7699,7699,11218,7699,14320,7731,8412,5016,7100,5918,5962,5962,5962,11656,6700,6760,6618,6172,6597,6634,5604,2763,4023,4571,5697,4617,4650,4457,4460,2920,2093,5120,5962,7560,7244,4973,9766,9556,6892,5925,5154,9838,5542,5542,5542,5542,6797,6919,4869,5428,4136,5130,6800,5166,8723,8594,7014,6600,4800,7975,6360,10658,8127,15732,9843,4200,8949,9057,9057,4652,6073,5552,6311,6806,6806,5972,7248,6806,6360,8400,8400,7248,8677,6390,7558,5634,5595,11180,7870,4356,3946,3648,8832,2875,3135,7410,5391,7411,7410,4449,3040,6490,6550,6550,6550,6550,6550,6550,6550,6550,6550,6550,6550,6550,6840,6550,6550,7452,7854,7629,7650,8907,7441,5336,7890,8676,7352,4818,7844,8285,7352,7844,7844,7844,10096,10786,10645,7844,10330,8116,6120,4938,8074,5800,6400,5840,5800,5550,5764,5130,5390,4752,4104,4860,4860,4290,4860,7860,4860,4422,5130,4104,4104,5130,6857,11720,7860,7920,7994,9464,6684,10217,7168,7656,7656,15516,7974,8124,6297,6996],\"xaxis\":\"x\",\"y\":[6642,4295,8863,4602,6157,9683,6288,8453,8650,7530,7930,7651,5957,7304,13919,15934,20260,12528,17674,9475,10860,8837,6309,7850,3871,5389,4599,4900,5245,5719,10178,8717,11020,6742,8488,6722,6104,5667,5332,6208,4830,7881,5374,5687,4706,12833,11460,5705,6997,8805,8559,7449,4078,8686,8604,6996,6741,5260,7607,4666,6562,4386,4222,4469,7462,7848,5491,6867,5125,10357,5401,9021,7618,5191,6408,5632,7379,5955,10520,7473,14847,6716,5318,16122,10145,9699,5917,6112,6324,5862,7090,5854,7011,9002,6972,6443,9670,15893,6227,7392,6554,6005,9424,6813,7855,6195,7252,8367,6717,12529,6001,6391,11878,8504,10134,10474,7333,5599,10407,9075,8055,13705,6632,7511,5563,6442,5716,6608,6111,5280,6174,6436,8170,11177,6918,6397,8811,6025,13889,6124,6433,9383,7556,6760,10912,7041,6552,6374,7832,6719,6773,12231,13789,8992,5556,9158,7597,4776,6119,8246,5035,6729,5039,9825,4902,8612,4010,5073,5879,5657,4056,3997,5967,4242,3605,5449,4696,7837,4717,4329,8471,9275,9534,4639,5553,5212,6727,4519,11183,4417,6318,6564,12646,7451,7203,8355,6139],\"yaxis\":\"y\",\"type\":\"scatter\"},{\"hovertemplate\":\"<b>OLS trendline</b><br>Expenditure = 0.812818 * OutStateTuition + 1085.61<br>R<sup>2</sup>=0.439061<br><br>OutStateTuition=%{x}<br>Expenditure=%{y} <b>(trend)</b><extra></extra>\",\"legendgroup\":\"Overall Trendline\",\"line\":{\"color\":\"black\"},\"mode\":\"lines\",\"name\":\"Overall Trendline\",\"showlegend\":true,\"x\":[2093,2763,2875,2883,2920,3040,3120,3135,3605,3648,3946,4023,4104,4104,4104,4136,4200,4290,4356,4371,4422,4449,4450,4457,4460,4571,4617,4650,4652,4694,4752,4788,4800,4818,4860,4860,4860,4860,4869,4938,4960,4973,4990,5016,5094,5100,5120,5120,5130,5130,5130,5130,5154,5166,5188,5190,5224,5336,5390,5391,5400,5400,5428,5500,5504,5542,5542,5542,5542,5550,5552,5590,5595,5604,5634,5640,5697,5764,5775,5800,5800,5840,5918,5925,5962,5962,5962,5962,5972,6073,6120,6120,6172,6200,6230,6272,6297,6300,6300,6311,6360,6360,6390,6398,6400,6400,6400,6490,6500,6540,6550,6550,6550,6550,6550,6550,6550,6550,6550,6550,6550,6550,6550,6550,6597,6600,6618,6634,6684,6700,6746,6760,6797,6800,6806,6806,6806,6840,6857,6870,6892,6900,6900,6900,6919,6930,6950,6987,6996,7000,7014,7050,7070,7100,7128,7150,7161,7168,7244,7248,7248,7344,7352,7352,7380,7384,7410,7410,7411,7420,7434,7434,7441,7452,7470,7536,7550,7550,7558,7560,7560,7600,7629,7650,7656,7656,7689,7699,7699,7699,7700,7730,7731,7800,7800,7800,7800,7820,7830,7844,7844,7844,7844,7844,7850,7854,7860,7860,7870,7890,7908,7920,7940,7950,7950,7974,7975,7994,8000,8025,8050,8074,8080,8116,8124,8127,8180,8200,8242,8280,8285,8300,8300,8325,8330,8384,8400,8400,8400,8412,8438,8530,8550,8550,8550,8578,8594,8640,8650,8650,8670,8676,8677,8678,8723,8730,8734,8770,8800,8820,8832,8840,8840,8840,8842,8850,8900,8907,8920,8949,8950,8950,8950,8955,8964,8990,8994,9000,9000,9057,9057,9096,9100,9100,9150,9160,9200,9200,9210,9250,9270,9300,9384,9400,9400,9408,9420,9428,9450,9456,9464,9476,9490,9500,9520,9550,9556,9570,9592,9600,9600,9600,9650,9690,9700,9700,9766,9800,9838,9843,9850,9858,9888,9890,9900,9900,9925,9950,9979,9985,9990,9990,9990,10000,10060,10096,10100,10100,10100,10178,10194,10200,10217,10220,10230,10260,10300,10300,10330,10335,10375,10390,10425,10430,10440,10456,10468,10475,10485,10500,10500,10518,10535,10560,10570,10600,10608,10645,10658,10690,10700,10700,10720,10760,10786,10800,10800,10850,10850,10870,10900,10900,10910,10965,10970,10995,11000,11000,11010,11010,11020,11040,11070,11090,11100,11120,11130,11138,11172,11180,11180,11190,11200,11200,11200,11214,11218,11230,11280,11290,11320,11380,11388,11390,11400,11412,11428,11431,11450,11478,11480,11500,11500,11510,11520,11550,11584,11600,11600,11610,11648,11656,11660,11690,11700,11700,11712,11718,11720,11750,11750,11760,11790,11800,11800,11844,11850,11850,11859,11902,11910,11985,12000,12024,12040,12065,12140,12170,12180,12200,12224,12240,12247,12247,12280,12292,12350,12370,12474,12480,12500,12500,12520,12520,12580,12584,12600,12600,12660,12669,12680,12680,12700,12730,12750,12790,12825,12850,12850,12900,12950,12950,12990,13000,13000,13020,13030,13125,13130,13218,13226,13240,13240,13250,13252,13290,13306,13312,13320,13332,13380,13380,13404,13420,13425,13440,13470,13472,13500,13500,13500,13540,13592,13600,13600,13780,13840,13850,13900,13900,13900,13900,13925,13960,13970,14067,14125,14190,14200,14200,14210,14220,14235,14320,14340,14350,14360,14400,14500,14510,14550,14700,14710,14800,14850,14900,14900,14990,15000,15036,15190,15192,15200,15248,15276,15350,15360,15476,15516,15588,15595,15688,15700,15732,15747,15884,15925,15948,15960,15990,16160,16200,16230,16240,16249,16304,16320,16404,16425,16560,16624,16670,16732,16850,16900,16900,16975,17000,17020,17230,17230,17238,17295,17480,17600,17688,17748,17865,17900,17926,18000,18165,18200,18345,18375,18420,18432,18460,18590,18624,18710,18720,18800,18920,18930,19030,19130,19240,19300,19300,19510,19528,19545,19670,19700,19760,19900,19960,20100,21700],\"y\":[2786.834401654204,3331.422380699199,3422.4579831664223,3428.9605261997954,3459.034787729146,3556.572933229742,3621.598363563473,3633.7906317510474,4015.815034961716,4050.766203766096,4292.985931759244,4355.572908455459,4421.411156668361,4421.411156668361,4421.411156668361,4447.421328801854,4499.441673068839,4572.595282194286,4626.241262219613,4638.433530407188,4679.887242244941,4701.8333249825755,4702.646142861748,4708.335868015949,4710.774321653464,4800.997106241515,4838.38672868341,4865.209718696075,4866.835354454417,4900.973705379625,4948.1171423715805,4977.3785860217595,4987.13240057182,5001.763122396909,5035.901473322117,5035.901473322117,5035.901473322117,5035.901473322117,5043.216834234662,5099.301267897505,5117.183261239281,5127.7498936685115,5141.56779761443,5162.701062472892,5226.100857048279,5230.97776432331,5247.234121906742,5247.234121906742,5255.362300698458,5255.362300698458,5255.362300698458,5255.362300698458,5274.869929798579,5284.623744348637,5302.505737690413,5304.131373448758,5331.767181340592,5422.802783807816,5466.6949492830845,5467.507767162255,5474.8231280748005,5474.8231280748005,5497.582028691606,5556.104915991964,5559.356187508651,5590.243266917172,5590.243266917172,5590.243266917172,5590.243266917172,5596.745809950546,5598.371445708888,5629.258525117411,5633.3226145132685,5640.637975425814,5665.022511800962,5669.899419075993,5716.230038188776,5770.688836093275,5779.629832764163,5799.950279743454,5799.950279743454,5832.46299491032,5895.862789485707,5901.552514639909,5931.626776169258,5931.626776169258,5931.626776169258,5931.626776169258,5939.754954960976,6021.8495607573095,6060.052001078377,6060.052001078377,6102.318530795303,6125.077431412108,6149.461967787256,6183.600318712466,6203.920765691757,6206.359219329272,6206.359219329272,6215.30021600016,6255.128292079569,6255.128292079569,6279.512828454719,6286.015371488091,6287.641007246435,6287.641007246435,6287.641007246435,6360.7946163718825,6368.9227951635985,6401.435510330464,6409.56368912218,6409.56368912218,6409.56368912218,6409.56368912218,6409.56368912218,6409.56368912218,6409.56368912218,6409.56368912218,6409.56368912218,6409.56368912218,6409.56368912218,6409.56368912218,6409.56368912218,6409.56368912218,6447.766129443247,6450.204583080762,6464.835304905851,6477.840390972597,6518.481284931178,6531.486370997925,6568.87599343982,6580.255443748223,6610.329705277574,6612.768158915089,6617.645066190118,6617.645066190118,6617.645066190118,6645.280874081955,6659.098778027872,6669.665410457103,6687.547403798879,6694.049946832252,6694.049946832252,6694.049946832252,6709.493486536514,6718.4344832074,6734.690840790834,6764.765102320185,6772.080463232729,6775.331734749416,6786.7111850578185,6815.9726287079975,6832.2289862914295,6856.613522666579,6879.372423283385,6897.254416625161,6906.195413296049,6911.88513845025,6973.659297267295,6976.91056878398,6976.91056878398,7054.941085184459,7061.44362821783,7061.44362821783,7084.202528834638,7087.453800351323,7108.587065209786,7108.587065209786,7109.399883088958,7116.715244001502,7128.094694309904,7128.094694309904,7133.784419464106,7142.725416134994,7157.356137960083,7211.002117985412,7222.381568293815,7222.381568293815,7228.884111327188,7230.509747085531,7230.509747085531,7263.0224622523965,7286.594180748374,7303.663356210978,7308.5402634860075,7308.5402634860075,7335.363253498672,7343.491432290388,7343.491432290388,7343.491432290388,7344.30425016956,7368.68878654471,7369.50160442388,7425.586038086723,7425.586038086723,7425.586038086723,7425.586038086723,7441.842395670155,7449.970574461873,7461.350024770276,7461.350024770276,7461.350024770276,7461.350024770276,7461.350024770276,7466.226932045305,7469.478203561992,7474.355110837021,7474.355110837021,7482.483289628737,7498.739647212171,7513.37036903726,7523.124183587319,7539.380541170753,7547.508719962469,7547.508719962469,7567.016349062587,7567.8291669417595,7583.272706646021,7588.14961392105,7608.470060900341,7628.790507879632,7648.298136979751,7653.175044254782,7682.436487904961,7688.9390309383325,7691.377484575847,7734.456832171945,7750.713189755377,7784.8515406805855,7815.738620089109,7819.802709484966,7831.994977672541,7831.994977672541,7852.315424651832,7856.3795140476905,7900.271679522959,7913.276765589704,7913.276765589704,7913.276765589704,7923.030580139764,7944.163844998226,8018.943089882017,8035.199447465449,8035.199447465449,8035.199447465449,8057.958348082255,8070.963434149002,8108.353056590897,8116.481235382613,8116.481235382613,8132.737592966045,8137.614500241076,8138.427318120246,8139.240135999418,8175.816940562143,8181.506665716344,8184.757937233031,8214.019380883208,8238.403917258358,8254.66027484179,8264.41408939185,8270.916632425224,8270.916632425224,8270.916632425224,8272.542268183566,8279.04481121694,8319.685705175521,8325.375430329723,8335.942062758953,8359.513781254931,8360.326599134103,8360.326599134103,8360.326599134103,8364.390688529962,8371.706049442506,8392.839314300969,8396.090585817656,8400.967493092685,8400.967493092685,8447.298112205468,8447.298112205468,8478.998009493162,8482.249281009848,8482.249281009848,8522.89017496843,8531.018353760146,8563.531068927012,8563.531068927012,8571.659247718728,8604.171962885594,8620.428320469027,8644.812856844175,8713.089558694594,8726.094644761339,8726.094644761339,8732.597187794712,8742.351002344772,8748.853545378144,8766.73553871992,8771.61244599495,8778.114989028323,8787.868803578383,8799.248253886786,8807.376432678502,8823.632790261936,8848.017326637084,8852.894233912113,8864.273684220518,8882.155677562292,8888.658220595666,8888.658220595666,8888.658220595666,8929.299114554247,8961.811829721113,8969.940008512829,8969.940008512829,9023.585988538158,9051.221796429993,9082.108875838516,9086.172965234373,9091.862690388574,9098.365233421948,9122.749769797098,9124.37540555544,9132.503584347156,9132.503584347156,9152.824031326447,9173.144478305738,9196.716196801715,9201.593104076745,9205.657193472603,9205.657193472603,9205.657193472603,9213.78537226432,9262.554445014617,9291.815888664796,9295.067160181483,9295.067160181483,9295.067160181483,9358.46695475687,9371.472040823617,9376.348948098646,9390.166852044564,9392.605305682078,9400.733484473796,9425.118020848944,9457.63073601581,9457.63073601581,9482.01527239096,9486.079361786817,9518.592076953682,9530.784345141257,9559.232970912264,9563.297060308123,9571.425239099839,9584.430325166584,9594.184139716644,9599.873864870846,9608.002043662562,9620.194311850137,9620.194311850137,9634.825033675226,9648.642937621144,9668.963384600434,9677.09156339215,9701.4760997673,9707.978642800674,9738.052904330023,9748.619536759255,9774.629708892748,9782.757887684464,9782.757887684464,9799.014245267896,9831.526960434761,9852.660225293224,9864.039675601627,9864.039675601627,9904.680569560209,9904.680569560209,9920.93692714364,9945.32146351879,9945.32146351879,9953.449642310507,9998.154625664947,10002.218715060804,10022.539162040095,10026.603251435954,10026.603251435954,10034.73143022767,10034.73143022767,10042.859609019386,10059.11596660282,10083.500502977968,10099.756860561401,10107.885039353117,10124.14139693655,10132.269575728267,10138.772118761639,10166.407926653475,10172.910469686849,10172.910469686849,10181.038648478565,10189.166827270281,10189.166827270281,10189.166827270281,10200.546277578684,10203.79754909537,10213.55136364543,10254.192257604012,10262.320436395728,10286.704972770876,10335.474045521176,10341.976588554548,10343.602224312892,10351.730403104608,10361.484217654668,10374.489303721413,10376.927757358928,10392.37129706319,10415.130197679995,10416.75583343834,10433.012191021771,10433.012191021771,10441.140369813487,10449.268548605203,10473.653084980353,10501.28889287219,10514.293978938935,10514.293978938935,10522.42215773065,10553.309237139174,10559.811780172546,10563.063051689232,10587.447588064382,10595.575766856098,10595.575766856098,10605.329581406158,10610.206488681188,10611.83212443953,10636.21666081468,10636.21666081468,10644.344839606396,10668.729375981546,10676.857554773262,10676.857554773262,10712.621541456814,10717.498448731843,10717.498448731843,10724.813809644389,10759.76497844877,10766.267521482141,10827.228862420014,10839.421130607589,10858.928759707707,10871.933845774454,10892.254292753745,10953.215633691618,10977.600170066768,10985.728348858484,11001.984706441915,11021.492335542034,11034.497421608781,11040.187146762983,11040.187146762983,11067.010136775647,11076.763951325705,11123.90738831766,11140.163745901094,11224.696805334943,11229.573712609974,11245.830070193406,11245.830070193406,11262.08642777684,11262.08642777684,11310.855500527137,11314.106772043824,11327.11185811057,11327.11185811057,11375.880930860867,11383.196291773413,11392.1372884443,11392.1372884443,11408.393646027733,11432.778182402883,11449.034539986314,11481.54725515318,11509.995880924187,11530.316327903478,11530.316327903478,11570.95722186206,11611.598115820641,11611.598115820641,11644.110830987507,11652.239009779223,11652.239009779223,11668.495367362657,11676.623546154373,11753.841244675677,11757.905334071536,11829.43330743864,11835.935850472013,11847.315300780416,11847.315300780416,11855.443479572132,11857.069115330476,11887.956194738998,11900.961280805745,11905.838188080774,11912.340731114147,11922.094545664206,11961.109803864445,11961.109803864445,11980.617432964564,11993.62251903131,11997.686608427168,12009.878876614743,12034.263412989892,12035.889048748235,12058.64794936504,12058.64794936504,12058.64794936504,12091.160664531906,12133.427194248832,12139.929737282204,12139.929737282204,12286.236955533099,12335.006028283397,12343.134207075112,12383.775101033694,12383.775101033694,12383.775101033694,12383.775101033694,12404.095548012985,12432.544173783992,12440.67235257571,12519.515686855359,12566.659123847312,12619.492285993469,12627.620464785185,12627.620464785185,12635.748643576902,12643.876822368618,12656.069090556193,12725.158610285782,12741.414967869214,12749.54314666093,12757.671325452648,12790.184040619512,12871.465828536675,12879.594007328393,12912.106722495257,13034.029404371002,13042.15758316272,13115.311192288165,13155.952086246747,13196.592980205329,13196.592980205329,13269.746589330776,13277.874768122492,13307.136211772671,13432.310165165103,13433.935800923447,13440.43834395682,13479.453602157058,13502.212502773864,13562.361025832564,13570.489204624282,13664.77607860819,13697.288793775057,13755.811681075415,13761.501406229616,13837.093468992578,13846.847283542636,13872.857455676129,13885.049723863704,13996.405773310218,14029.731306356254,14048.426117577203,14058.179932127263,14082.56446850241,14220.74350796159,14253.256223128456,14277.640759503603,14285.76893829532,14293.084299207865,14337.789282562304,14350.794368629051,14419.071070479467,14436.140245942073,14545.870659630244,14597.891003897228,14635.280626339123,14685.675334847765,14781.587844590018,14822.2287385486,14822.2287385486,14883.190079486472,14903.510526465763,14919.766884049195,15090.458638675238,15090.458638675238,15096.961181708612,15143.291800821395,15293.663108468147,15391.201253968744,15462.729227335847,15511.498300086145,15606.597991949226,15635.046617720234,15656.179882578695,15716.328405637398,15850.443355700716,15878.891981471725,15996.750573951611,16021.13511032676,16057.711914889484,16067.465729439544,16090.22463005635,16195.890954348662,16223.526762240497,16293.429099849258,16301.557278640974,16366.582708974705,16464.120854475303,16472.249033267017,16553.53082118418,16634.812609101344,16724.222575810225,16772.991648560524,16772.991648560524,16943.683403186566,16958.314125011657,16972.132028957574,17073.73426385403,17098.11880022918,17146.887872979474,17260.682376063505,17309.4514488138,17423.245951897832,18723.754558572447],\"type\":\"scatter\",\"xaxis\":\"x\",\"yaxis\":\"y\"}],                        {\"template\":{\"data\":{\"histogram2dcontour\":[{\"type\":\"histogram2dcontour\",\"colorbar\":{\"outlinewidth\":0,\"ticks\":\"\"},\"colorscale\":[[0.0,\"#0d0887\"],[0.1111111111111111,\"#46039f\"],[0.2222222222222222,\"#7201a8\"],[0.3333333333333333,\"#9c179e\"],[0.4444444444444444,\"#bd3786\"],[0.5555555555555556,\"#d8576b\"],[0.6666666666666666,\"#ed7953\"],[0.7777777777777778,\"#fb9f3a\"],[0.8888888888888888,\"#fdca26\"],[1.0,\"#f0f921\"]]}],\"choropleth\":[{\"type\":\"choropleth\",\"colorbar\":{\"outlinewidth\":0,\"ticks\":\"\"}}],\"histogram2d\":[{\"type\":\"histogram2d\",\"colorbar\":{\"outlinewidth\":0,\"ticks\":\"\"},\"colorscale\":[[0.0,\"#0d0887\"],[0.1111111111111111,\"#46039f\"],[0.2222222222222222,\"#7201a8\"],[0.3333333333333333,\"#9c179e\"],[0.4444444444444444,\"#bd3786\"],[0.5555555555555556,\"#d8576b\"],[0.6666666666666666,\"#ed7953\"],[0.7777777777777778,\"#fb9f3a\"],[0.8888888888888888,\"#fdca26\"],[1.0,\"#f0f921\"]]}],\"heatmap\":[{\"type\":\"heatmap\",\"colorbar\":{\"outlinewidth\":0,\"ticks\":\"\"},\"colorscale\":[[0.0,\"#0d0887\"],[0.1111111111111111,\"#46039f\"],[0.2222222222222222,\"#7201a8\"],[0.3333333333333333,\"#9c179e\"],[0.4444444444444444,\"#bd3786\"],[0.5555555555555556,\"#d8576b\"],[0.6666666666666666,\"#ed7953\"],[0.7777777777777778,\"#fb9f3a\"],[0.8888888888888888,\"#fdca26\"],[1.0,\"#f0f921\"]]}],\"heatmapgl\":[{\"type\":\"heatmapgl\",\"colorbar\":{\"outlinewidth\":0,\"ticks\":\"\"},\"colorscale\":[[0.0,\"#0d0887\"],[0.1111111111111111,\"#46039f\"],[0.2222222222222222,\"#7201a8\"],[0.3333333333333333,\"#9c179e\"],[0.4444444444444444,\"#bd3786\"],[0.5555555555555556,\"#d8576b\"],[0.6666666666666666,\"#ed7953\"],[0.7777777777777778,\"#fb9f3a\"],[0.8888888888888888,\"#fdca26\"],[1.0,\"#f0f921\"]]}],\"contourcarpet\":[{\"type\":\"contourcarpet\",\"colorbar\":{\"outlinewidth\":0,\"ticks\":\"\"}}],\"contour\":[{\"type\":\"contour\",\"colorbar\":{\"outlinewidth\":0,\"ticks\":\"\"},\"colorscale\":[[0.0,\"#0d0887\"],[0.1111111111111111,\"#46039f\"],[0.2222222222222222,\"#7201a8\"],[0.3333333333333333,\"#9c179e\"],[0.4444444444444444,\"#bd3786\"],[0.5555555555555556,\"#d8576b\"],[0.6666666666666666,\"#ed7953\"],[0.7777777777777778,\"#fb9f3a\"],[0.8888888888888888,\"#fdca26\"],[1.0,\"#f0f921\"]]}],\"surface\":[{\"type\":\"surface\",\"colorbar\":{\"outlinewidth\":0,\"ticks\":\"\"},\"colorscale\":[[0.0,\"#0d0887\"],[0.1111111111111111,\"#46039f\"],[0.2222222222222222,\"#7201a8\"],[0.3333333333333333,\"#9c179e\"],[0.4444444444444444,\"#bd3786\"],[0.5555555555555556,\"#d8576b\"],[0.6666666666666666,\"#ed7953\"],[0.7777777777777778,\"#fb9f3a\"],[0.8888888888888888,\"#fdca26\"],[1.0,\"#f0f921\"]]}],\"mesh3d\":[{\"type\":\"mesh3d\",\"colorbar\":{\"outlinewidth\":0,\"ticks\":\"\"}}],\"scatter\":[{\"fillpattern\":{\"fillmode\":\"overlay\",\"size\":10,\"solidity\":0.2},\"type\":\"scatter\"}],\"parcoords\":[{\"type\":\"parcoords\",\"line\":{\"colorbar\":{\"outlinewidth\":0,\"ticks\":\"\"}}}],\"scatterpolargl\":[{\"type\":\"scatterpolargl\",\"marker\":{\"colorbar\":{\"outlinewidth\":0,\"ticks\":\"\"}}}],\"bar\":[{\"error_x\":{\"color\":\"#2a3f5f\"},\"error_y\":{\"color\":\"#2a3f5f\"},\"marker\":{\"line\":{\"color\":\"#E5ECF6\",\"width\":0.5},\"pattern\":{\"fillmode\":\"overlay\",\"size\":10,\"solidity\":0.2}},\"type\":\"bar\"}],\"scattergeo\":[{\"type\":\"scattergeo\",\"marker\":{\"colorbar\":{\"outlinewidth\":0,\"ticks\":\"\"}}}],\"scatterpolar\":[{\"type\":\"scatterpolar\",\"marker\":{\"colorbar\":{\"outlinewidth\":0,\"ticks\":\"\"}}}],\"histogram\":[{\"marker\":{\"pattern\":{\"fillmode\":\"overlay\",\"size\":10,\"solidity\":0.2}},\"type\":\"histogram\"}],\"scattergl\":[{\"type\":\"scattergl\",\"marker\":{\"colorbar\":{\"outlinewidth\":0,\"ticks\":\"\"}}}],\"scatter3d\":[{\"type\":\"scatter3d\",\"line\":{\"colorbar\":{\"outlinewidth\":0,\"ticks\":\"\"}},\"marker\":{\"colorbar\":{\"outlinewidth\":0,\"ticks\":\"\"}}}],\"scattermapbox\":[{\"type\":\"scattermapbox\",\"marker\":{\"colorbar\":{\"outlinewidth\":0,\"ticks\":\"\"}}}],\"scatterternary\":[{\"type\":\"scatterternary\",\"marker\":{\"colorbar\":{\"outlinewidth\":0,\"ticks\":\"\"}}}],\"scattercarpet\":[{\"type\":\"scattercarpet\",\"marker\":{\"colorbar\":{\"outlinewidth\":0,\"ticks\":\"\"}}}],\"carpet\":[{\"aaxis\":{\"endlinecolor\":\"#2a3f5f\",\"gridcolor\":\"white\",\"linecolor\":\"white\",\"minorgridcolor\":\"white\",\"startlinecolor\":\"#2a3f5f\"},\"baxis\":{\"endlinecolor\":\"#2a3f5f\",\"gridcolor\":\"white\",\"linecolor\":\"white\",\"minorgridcolor\":\"white\",\"startlinecolor\":\"#2a3f5f\"},\"type\":\"carpet\"}],\"table\":[{\"cells\":{\"fill\":{\"color\":\"#EBF0F8\"},\"line\":{\"color\":\"white\"}},\"header\":{\"fill\":{\"color\":\"#C8D4E3\"},\"line\":{\"color\":\"white\"}},\"type\":\"table\"}],\"barpolar\":[{\"marker\":{\"line\":{\"color\":\"#E5ECF6\",\"width\":0.5},\"pattern\":{\"fillmode\":\"overlay\",\"size\":10,\"solidity\":0.2}},\"type\":\"barpolar\"}],\"pie\":[{\"automargin\":true,\"type\":\"pie\"}]},\"layout\":{\"autotypenumbers\":\"strict\",\"colorway\":[\"#636efa\",\"#EF553B\",\"#00cc96\",\"#ab63fa\",\"#FFA15A\",\"#19d3f3\",\"#FF6692\",\"#B6E880\",\"#FF97FF\",\"#FECB52\"],\"font\":{\"color\":\"#2a3f5f\"},\"hovermode\":\"closest\",\"hoverlabel\":{\"align\":\"left\"},\"paper_bgcolor\":\"white\",\"plot_bgcolor\":\"#E5ECF6\",\"polar\":{\"bgcolor\":\"#E5ECF6\",\"angularaxis\":{\"gridcolor\":\"white\",\"linecolor\":\"white\",\"ticks\":\"\"},\"radialaxis\":{\"gridcolor\":\"white\",\"linecolor\":\"white\",\"ticks\":\"\"}},\"ternary\":{\"bgcolor\":\"#E5ECF6\",\"aaxis\":{\"gridcolor\":\"white\",\"linecolor\":\"white\",\"ticks\":\"\"},\"baxis\":{\"gridcolor\":\"white\",\"linecolor\":\"white\",\"ticks\":\"\"},\"caxis\":{\"gridcolor\":\"white\",\"linecolor\":\"white\",\"ticks\":\"\"}},\"coloraxis\":{\"colorbar\":{\"outlinewidth\":0,\"ticks\":\"\"}},\"colorscale\":{\"sequential\":[[0.0,\"#0d0887\"],[0.1111111111111111,\"#46039f\"],[0.2222222222222222,\"#7201a8\"],[0.3333333333333333,\"#9c179e\"],[0.4444444444444444,\"#bd3786\"],[0.5555555555555556,\"#d8576b\"],[0.6666666666666666,\"#ed7953\"],[0.7777777777777778,\"#fb9f3a\"],[0.8888888888888888,\"#fdca26\"],[1.0,\"#f0f921\"]],\"sequentialminus\":[[0.0,\"#0d0887\"],[0.1111111111111111,\"#46039f\"],[0.2222222222222222,\"#7201a8\"],[0.3333333333333333,\"#9c179e\"],[0.4444444444444444,\"#bd3786\"],[0.5555555555555556,\"#d8576b\"],[0.6666666666666666,\"#ed7953\"],[0.7777777777777778,\"#fb9f3a\"],[0.8888888888888888,\"#fdca26\"],[1.0,\"#f0f921\"]],\"diverging\":[[0,\"#8e0152\"],[0.1,\"#c51b7d\"],[0.2,\"#de77ae\"],[0.3,\"#f1b6da\"],[0.4,\"#fde0ef\"],[0.5,\"#f7f7f7\"],[0.6,\"#e6f5d0\"],[0.7,\"#b8e186\"],[0.8,\"#7fbc41\"],[0.9,\"#4d9221\"],[1,\"#276419\"]]},\"xaxis\":{\"gridcolor\":\"white\",\"linecolor\":\"white\",\"ticks\":\"\",\"title\":{\"standoff\":15},\"zerolinecolor\":\"white\",\"automargin\":true,\"zerolinewidth\":2},\"yaxis\":{\"gridcolor\":\"white\",\"linecolor\":\"white\",\"ticks\":\"\",\"title\":{\"standoff\":15},\"zerolinecolor\":\"white\",\"automargin\":true,\"zerolinewidth\":2},\"scene\":{\"xaxis\":{\"backgroundcolor\":\"#E5ECF6\",\"gridcolor\":\"white\",\"linecolor\":\"white\",\"showbackground\":true,\"ticks\":\"\",\"zerolinecolor\":\"white\",\"gridwidth\":2},\"yaxis\":{\"backgroundcolor\":\"#E5ECF6\",\"gridcolor\":\"white\",\"linecolor\":\"white\",\"showbackground\":true,\"ticks\":\"\",\"zerolinecolor\":\"white\",\"gridwidth\":2},\"zaxis\":{\"backgroundcolor\":\"#E5ECF6\",\"gridcolor\":\"white\",\"linecolor\":\"white\",\"showbackground\":true,\"ticks\":\"\",\"zerolinecolor\":\"white\",\"gridwidth\":2}},\"shapedefaults\":{\"line\":{\"color\":\"#2a3f5f\"}},\"annotationdefaults\":{\"arrowcolor\":\"#2a3f5f\",\"arrowhead\":0,\"arrowwidth\":1},\"geo\":{\"bgcolor\":\"white\",\"landcolor\":\"#E5ECF6\",\"subunitcolor\":\"white\",\"showland\":true,\"showlakes\":true,\"lakecolor\":\"white\"},\"title\":{\"x\":0.05},\"mapbox\":{\"style\":\"light\"}}},\"xaxis\":{\"anchor\":\"y\",\"domain\":[0.0,1.0],\"title\":{\"text\":\"OutStateTuition\"}},\"yaxis\":{\"anchor\":\"x\",\"domain\":[0.0,1.0],\"title\":{\"text\":\"Expenditure\"}},\"legend\":{\"title\":{\"text\":\"Type\"},\"tracegroupgap\":0},\"margin\":{\"t\":60},\"height\":700,\"width\":800},                        {\"responsive\": true}                    ).then(function(){\n",
       "                            \n",
       "var gd = document.getElementById('155c63e9-08d7-401b-a500-3e16ffa6f46a');\n",
       "var x = new MutationObserver(function (mutations, observer) {{\n",
       "        var display = window.getComputedStyle(gd).display;\n",
       "        if (!display || display === 'none') {{\n",
       "            console.log([gd, 'removed!']);\n",
       "            Plotly.purge(gd);\n",
       "            observer.disconnect();\n",
       "        }}\n",
       "}});\n",
       "\n",
       "// Listen for the removal of the full notebook cells\n",
       "var notebookContainer = gd.closest('#notebook-container');\n",
       "if (notebookContainer) {{\n",
       "    x.observe(notebookContainer, {childList: true});\n",
       "}}\n",
       "\n",
       "// Listen for the clearing of the current output cell\n",
       "var outputEl = gd.closest('.output');\n",
       "if (outputEl) {{\n",
       "    x.observe(outputEl, {childList: true});\n",
       "}}\n",
       "\n",
       "                        })                };                });            </script>        </div>"
      ]
     },
     "metadata": {},
     "output_type": "display_data"
    }
   ],
   "source": [
    "fig = px.scatter(data, x = \"OutStateTuition\", y = \"Expenditure\", color=\"Type\",\n",
    "                 trendline=\"ols\", trendline_scope=\"overall\", trendline_color_override=\"black\",\n",
    "                 width=800, height=700)\n",
    "fig.show()"
   ]
  },
  {
   "cell_type": "markdown",
   "id": "148c7844-9790-40b7-a663-f9e72fef7e74",
   "metadata": {},
   "source": [
    "Here we fit a linear regresssion to these variables, and we are able to obtain the regression statistics from it as well. They are shown below."
   ]
  },
  {
   "cell_type": "code",
   "execution_count": 36,
   "id": "8aa75e9f-673d-463b-afd2-3a9384015c5f",
   "metadata": {},
   "outputs": [
    {
     "data": {
      "text/html": [
       "<table class=\"simpletable\">\n",
       "<caption>OLS Regression Results</caption>\n",
       "<tr>\n",
       "  <th>Dep. Variable:</th>            <td>y</td>        <th>  R-squared:         </th> <td>   0.439</td> \n",
       "</tr>\n",
       "<tr>\n",
       "  <th>Model:</th>                   <td>OLS</td>       <th>  Adj. R-squared:    </th> <td>   0.438</td> \n",
       "</tr>\n",
       "<tr>\n",
       "  <th>Method:</th>             <td>Least Squares</td>  <th>  F-statistic:       </th> <td>   499.4</td> \n",
       "</tr>\n",
       "<tr>\n",
       "  <th>Date:</th>             <td>Fri, 21 Oct 2022</td> <th>  Prob (F-statistic):</th> <td>3.81e-82</td> \n",
       "</tr>\n",
       "<tr>\n",
       "  <th>Time:</th>                 <td>20:51:12</td>     <th>  Log-Likelihood:    </th> <td> -6143.1</td> \n",
       "</tr>\n",
       "<tr>\n",
       "  <th>No. Observations:</th>      <td>   640</td>      <th>  AIC:               </th> <td>1.229e+04</td>\n",
       "</tr>\n",
       "<tr>\n",
       "  <th>Df Residuals:</th>          <td>   638</td>      <th>  BIC:               </th> <td>1.230e+04</td>\n",
       "</tr>\n",
       "<tr>\n",
       "  <th>Df Model:</th>              <td>     1</td>      <th>                     </th>     <td> </td>    \n",
       "</tr>\n",
       "<tr>\n",
       "  <th>Covariance Type:</th>      <td>nonrobust</td>    <th>                     </th>     <td> </td>    \n",
       "</tr>\n",
       "</table>\n",
       "<table class=\"simpletable\">\n",
       "<tr>\n",
       "    <td></td>       <th>coef</th>     <th>std err</th>      <th>t</th>      <th>P>|t|</th>  <th>[0.025</th>    <th>0.975]</th>  \n",
       "</tr>\n",
       "<tr>\n",
       "  <th>const</th> <td> 1085.6066</td> <td>  397.469</td> <td>    2.731</td> <td> 0.006</td> <td>  305.102</td> <td> 1866.112</td>\n",
       "</tr>\n",
       "<tr>\n",
       "  <th>x1</th>    <td>    0.8128</td> <td>    0.036</td> <td>   22.347</td> <td> 0.000</td> <td>    0.741</td> <td>    0.884</td>\n",
       "</tr>\n",
       "</table>\n",
       "<table class=\"simpletable\">\n",
       "<tr>\n",
       "  <th>Omnibus:</th>       <td>626.574</td> <th>  Durbin-Watson:     </th> <td>   1.770</td> \n",
       "</tr>\n",
       "<tr>\n",
       "  <th>Prob(Omnibus):</th> <td> 0.000</td>  <th>  Jarque-Bera (JB):  </th> <td>32959.100</td>\n",
       "</tr>\n",
       "<tr>\n",
       "  <th>Skew:</th>          <td> 4.311</td>  <th>  Prob(JB):          </th> <td>    0.00</td> \n",
       "</tr>\n",
       "<tr>\n",
       "  <th>Kurtosis:</th>      <td>37.083</td>  <th>  Cond. No.          </th> <td>3.08e+04</td> \n",
       "</tr>\n",
       "</table><br/><br/>Notes:<br/>[1] Standard Errors assume that the covariance matrix of the errors is correctly specified.<br/>[2] The condition number is large, 3.08e+04. This might indicate that there are<br/>strong multicollinearity or other numerical problems."
      ],
      "text/plain": [
       "<class 'statsmodels.iolib.summary.Summary'>\n",
       "\"\"\"\n",
       "                            OLS Regression Results                            \n",
       "==============================================================================\n",
       "Dep. Variable:                      y   R-squared:                       0.439\n",
       "Model:                            OLS   Adj. R-squared:                  0.438\n",
       "Method:                 Least Squares   F-statistic:                     499.4\n",
       "Date:                Fri, 21 Oct 2022   Prob (F-statistic):           3.81e-82\n",
       "Time:                        20:51:12   Log-Likelihood:                -6143.1\n",
       "No. Observations:                 640   AIC:                         1.229e+04\n",
       "Df Residuals:                     638   BIC:                         1.230e+04\n",
       "Df Model:                           1                                         \n",
       "Covariance Type:            nonrobust                                         \n",
       "==============================================================================\n",
       "                 coef    std err          t      P>|t|      [0.025      0.975]\n",
       "------------------------------------------------------------------------------\n",
       "const       1085.6066    397.469      2.731      0.006     305.102    1866.112\n",
       "x1             0.8128      0.036     22.347      0.000       0.741       0.884\n",
       "==============================================================================\n",
       "Omnibus:                      626.574   Durbin-Watson:                   1.770\n",
       "Prob(Omnibus):                  0.000   Jarque-Bera (JB):            32959.100\n",
       "Skew:                           4.311   Prob(JB):                         0.00\n",
       "Kurtosis:                      37.083   Cond. No.                     3.08e+04\n",
       "==============================================================================\n",
       "\n",
       "Notes:\n",
       "[1] Standard Errors assume that the covariance matrix of the errors is correctly specified.\n",
       "[2] The condition number is large, 3.08e+04. This might indicate that there are\n",
       "strong multicollinearity or other numerical problems.\n",
       "\"\"\""
      ]
     },
     "execution_count": 36,
     "metadata": {},
     "output_type": "execute_result"
    }
   ],
   "source": [
    "results = px.get_trendline_results(fig)\n",
    "results.px_fit_results.iloc[0].summary()"
   ]
  },
  {
   "cell_type": "markdown",
   "id": "322d3f93-45ae-4b0f-9e88-e2bc19ca7954",
   "metadata": {},
   "source": [
    "The R-squared is not very high at only 0.439, but both coefficients have p-values way below 5% which indicates the linear relationship is statistically significant."
   ]
  },
  {
   "cell_type": "code",
   "execution_count": 58,
   "id": "3386c355-fda8-4b3b-9e7e-f8346915d632",
   "metadata": {},
   "outputs": [
    {
     "data": {
      "application/vnd.plotly.v1+json": {
       "config": {
        "plotlyServerURL": "https://plot.ly"
       },
       "data": [
        {
         "alignmentgroup": "True",
         "hovertemplate": "State=%{x}<br>counts=%{y}<extra></extra>",
         "legendgroup": "NY",
         "marker": {
          "color": "#636efa",
          "pattern": {
           "shape": ""
          }
         },
         "name": "NY",
         "offsetgroup": "NY",
         "orientation": "v",
         "showlegend": true,
         "textposition": "auto",
         "type": "bar",
         "x": [
          "NY"
         ],
         "xaxis": "x",
         "y": [
          57
         ],
         "yaxis": "y"
        },
        {
         "alignmentgroup": "True",
         "hovertemplate": "State=%{x}<br>counts=%{y}<extra></extra>",
         "legendgroup": "PA",
         "marker": {
          "color": "#EF553B",
          "pattern": {
           "shape": ""
          }
         },
         "name": "PA",
         "offsetgroup": "PA",
         "orientation": "v",
         "showlegend": true,
         "textposition": "auto",
         "type": "bar",
         "x": [
          "PA"
         ],
         "xaxis": "x",
         "y": [
          51
         ],
         "yaxis": "y"
        },
        {
         "alignmentgroup": "True",
         "hovertemplate": "State=%{x}<br>counts=%{y}<extra></extra>",
         "legendgroup": "CA",
         "marker": {
          "color": "#00cc96",
          "pattern": {
           "shape": ""
          }
         },
         "name": "CA",
         "offsetgroup": "CA",
         "orientation": "v",
         "showlegend": true,
         "textposition": "auto",
         "type": "bar",
         "x": [
          "CA"
         ],
         "xaxis": "x",
         "y": [
          45
         ],
         "yaxis": "y"
        },
        {
         "alignmentgroup": "True",
         "hovertemplate": "State=%{x}<br>counts=%{y}<extra></extra>",
         "legendgroup": "TX",
         "marker": {
          "color": "#ab63fa",
          "pattern": {
           "shape": ""
          }
         },
         "name": "TX",
         "offsetgroup": "TX",
         "orientation": "v",
         "showlegend": true,
         "textposition": "auto",
         "type": "bar",
         "x": [
          "TX"
         ],
         "xaxis": "x",
         "y": [
          37
         ],
         "yaxis": "y"
        },
        {
         "alignmentgroup": "True",
         "hovertemplate": "State=%{x}<br>counts=%{y}<extra></extra>",
         "legendgroup": "NC",
         "marker": {
          "color": "#FFA15A",
          "pattern": {
           "shape": ""
          }
         },
         "name": "NC",
         "offsetgroup": "NC",
         "orientation": "v",
         "showlegend": true,
         "textposition": "auto",
         "type": "bar",
         "x": [
          "NC"
         ],
         "xaxis": "x",
         "y": [
          33
         ],
         "yaxis": "y"
        },
        {
         "alignmentgroup": "True",
         "hovertemplate": "State=%{x}<br>counts=%{y}<extra></extra>",
         "legendgroup": "MA",
         "marker": {
          "color": "#19d3f3",
          "pattern": {
           "shape": ""
          }
         },
         "name": "MA",
         "offsetgroup": "MA",
         "orientation": "v",
         "showlegend": true,
         "textposition": "auto",
         "type": "bar",
         "x": [
          "MA"
         ],
         "xaxis": "x",
         "y": [
          30
         ],
         "yaxis": "y"
        },
        {
         "alignmentgroup": "True",
         "hovertemplate": "State=%{x}<br>counts=%{y}<extra></extra>",
         "legendgroup": "OH",
         "marker": {
          "color": "#FF6692",
          "pattern": {
           "shape": ""
          }
         },
         "name": "OH",
         "offsetgroup": "OH",
         "orientation": "v",
         "showlegend": true,
         "textposition": "auto",
         "type": "bar",
         "x": [
          "OH"
         ],
         "xaxis": "x",
         "y": [
          29
         ],
         "yaxis": "y"
        },
        {
         "alignmentgroup": "True",
         "hovertemplate": "State=%{x}<br>counts=%{y}<extra></extra>",
         "legendgroup": "NJ",
         "marker": {
          "color": "#B6E880",
          "pattern": {
           "shape": ""
          }
         },
         "name": "NJ",
         "offsetgroup": "NJ",
         "orientation": "v",
         "showlegend": true,
         "textposition": "auto",
         "type": "bar",
         "x": [
          "NJ"
         ],
         "xaxis": "x",
         "y": [
          24
         ],
         "yaxis": "y"
        },
        {
         "alignmentgroup": "True",
         "hovertemplate": "State=%{x}<br>counts=%{y}<extra></extra>",
         "legendgroup": "VA",
         "marker": {
          "color": "#FF97FF",
          "pattern": {
           "shape": ""
          }
         },
         "name": "VA",
         "offsetgroup": "VA",
         "orientation": "v",
         "showlegend": true,
         "textposition": "auto",
         "type": "bar",
         "x": [
          "VA"
         ],
         "xaxis": "x",
         "y": [
          24
         ],
         "yaxis": "y"
        },
        {
         "alignmentgroup": "True",
         "hovertemplate": "State=%{x}<br>counts=%{y}<extra></extra>",
         "legendgroup": "IN",
         "marker": {
          "color": "#FECB52",
          "pattern": {
           "shape": ""
          }
         },
         "name": "IN",
         "offsetgroup": "IN",
         "orientation": "v",
         "showlegend": true,
         "textposition": "auto",
         "type": "bar",
         "x": [
          "IN"
         ],
         "xaxis": "x",
         "y": [
          24
         ],
         "yaxis": "y"
        },
        {
         "alignmentgroup": "True",
         "hovertemplate": "State=%{x}<br>counts=%{y}<extra></extra>",
         "legendgroup": "GA",
         "marker": {
          "color": "#636efa",
          "pattern": {
           "shape": ""
          }
         },
         "name": "GA",
         "offsetgroup": "GA",
         "orientation": "v",
         "showlegend": true,
         "textposition": "auto",
         "type": "bar",
         "x": [
          "GA"
         ],
         "xaxis": "x",
         "y": [
          21
         ],
         "yaxis": "y"
        },
        {
         "alignmentgroup": "True",
         "hovertemplate": "State=%{x}<br>counts=%{y}<extra></extra>",
         "legendgroup": "MD",
         "marker": {
          "color": "#EF553B",
          "pattern": {
           "shape": ""
          }
         },
         "name": "MD",
         "offsetgroup": "MD",
         "orientation": "v",
         "showlegend": true,
         "textposition": "auto",
         "type": "bar",
         "x": [
          "MD"
         ],
         "xaxis": "x",
         "y": [
          18
         ],
         "yaxis": "y"
        },
        {
         "alignmentgroup": "True",
         "hovertemplate": "State=%{x}<br>counts=%{y}<extra></extra>",
         "legendgroup": "FL",
         "marker": {
          "color": "#00cc96",
          "pattern": {
           "shape": ""
          }
         },
         "name": "FL",
         "offsetgroup": "FL",
         "orientation": "v",
         "showlegend": true,
         "textposition": "auto",
         "type": "bar",
         "x": [
          "FL"
         ],
         "xaxis": "x",
         "y": [
          18
         ],
         "yaxis": "y"
        },
        {
         "alignmentgroup": "True",
         "hovertemplate": "State=%{x}<br>counts=%{y}<extra></extra>",
         "legendgroup": "SC",
         "marker": {
          "color": "#ab63fa",
          "pattern": {
           "shape": ""
          }
         },
         "name": "SC",
         "offsetgroup": "SC",
         "orientation": "v",
         "showlegend": true,
         "textposition": "auto",
         "type": "bar",
         "x": [
          "SC"
         ],
         "xaxis": "x",
         "y": [
          17
         ],
         "yaxis": "y"
        },
        {
         "alignmentgroup": "True",
         "hovertemplate": "State=%{x}<br>counts=%{y}<extra></extra>",
         "legendgroup": "IL",
         "marker": {
          "color": "#FFA15A",
          "pattern": {
           "shape": ""
          }
         },
         "name": "IL",
         "offsetgroup": "IL",
         "orientation": "v",
         "showlegend": true,
         "textposition": "auto",
         "type": "bar",
         "x": [
          "IL"
         ],
         "xaxis": "x",
         "y": [
          15
         ],
         "yaxis": "y"
        },
        {
         "alignmentgroup": "True",
         "hovertemplate": "State=%{x}<br>counts=%{y}<extra></extra>",
         "legendgroup": "TN",
         "marker": {
          "color": "#19d3f3",
          "pattern": {
           "shape": ""
          }
         },
         "name": "TN",
         "offsetgroup": "TN",
         "orientation": "v",
         "showlegend": true,
         "textposition": "auto",
         "type": "bar",
         "x": [
          "TN"
         ],
         "xaxis": "x",
         "y": [
          13
         ],
         "yaxis": "y"
        },
        {
         "alignmentgroup": "True",
         "hovertemplate": "State=%{x}<br>counts=%{y}<extra></extra>",
         "legendgroup": "MN",
         "marker": {
          "color": "#FF6692",
          "pattern": {
           "shape": ""
          }
         },
         "name": "MN",
         "offsetgroup": "MN",
         "orientation": "v",
         "showlegend": true,
         "textposition": "auto",
         "type": "bar",
         "x": [
          "MN"
         ],
         "xaxis": "x",
         "y": [
          12
         ],
         "yaxis": "y"
        },
        {
         "alignmentgroup": "True",
         "hovertemplate": "State=%{x}<br>counts=%{y}<extra></extra>",
         "legendgroup": "MO",
         "marker": {
          "color": "#B6E880",
          "pattern": {
           "shape": ""
          }
         },
         "name": "MO",
         "offsetgroup": "MO",
         "orientation": "v",
         "showlegend": true,
         "textposition": "auto",
         "type": "bar",
         "x": [
          "MO"
         ],
         "xaxis": "x",
         "y": [
          11
         ],
         "yaxis": "y"
        },
        {
         "alignmentgroup": "True",
         "hovertemplate": "State=%{x}<br>counts=%{y}<extra></extra>",
         "legendgroup": "OR",
         "marker": {
          "color": "#FF97FF",
          "pattern": {
           "shape": ""
          }
         },
         "name": "OR",
         "offsetgroup": "OR",
         "orientation": "v",
         "showlegend": true,
         "textposition": "auto",
         "type": "bar",
         "x": [
          "OR"
         ],
         "xaxis": "x",
         "y": [
          11
         ],
         "yaxis": "y"
        },
        {
         "alignmentgroup": "True",
         "hovertemplate": "State=%{x}<br>counts=%{y}<extra></extra>",
         "legendgroup": "WA",
         "marker": {
          "color": "#FECB52",
          "pattern": {
           "shape": ""
          }
         },
         "name": "WA",
         "offsetgroup": "WA",
         "orientation": "v",
         "showlegend": true,
         "textposition": "auto",
         "type": "bar",
         "x": [
          "WA"
         ],
         "xaxis": "x",
         "y": [
          11
         ],
         "yaxis": "y"
        },
        {
         "alignmentgroup": "True",
         "hovertemplate": "State=%{x}<br>counts=%{y}<extra></extra>",
         "legendgroup": "IA",
         "marker": {
          "color": "#636efa",
          "pattern": {
           "shape": ""
          }
         },
         "name": "IA",
         "offsetgroup": "IA",
         "orientation": "v",
         "showlegend": true,
         "textposition": "auto",
         "type": "bar",
         "x": [
          "IA"
         ],
         "xaxis": "x",
         "y": [
          10
         ],
         "yaxis": "y"
        },
        {
         "alignmentgroup": "True",
         "hovertemplate": "State=%{x}<br>counts=%{y}<extra></extra>",
         "legendgroup": "CT",
         "marker": {
          "color": "#EF553B",
          "pattern": {
           "shape": ""
          }
         },
         "name": "CT",
         "offsetgroup": "CT",
         "orientation": "v",
         "showlegend": true,
         "textposition": "auto",
         "type": "bar",
         "x": [
          "CT"
         ],
         "xaxis": "x",
         "y": [
          10
         ],
         "yaxis": "y"
        },
        {
         "alignmentgroup": "True",
         "hovertemplate": "State=%{x}<br>counts=%{y}<extra></extra>",
         "legendgroup": "ME",
         "marker": {
          "color": "#00cc96",
          "pattern": {
           "shape": ""
          }
         },
         "name": "ME",
         "offsetgroup": "ME",
         "orientation": "v",
         "showlegend": true,
         "textposition": "auto",
         "type": "bar",
         "x": [
          "ME"
         ],
         "xaxis": "x",
         "y": [
          10
         ],
         "yaxis": "y"
        },
        {
         "alignmentgroup": "True",
         "hovertemplate": "State=%{x}<br>counts=%{y}<extra></extra>",
         "legendgroup": "MI",
         "marker": {
          "color": "#ab63fa",
          "pattern": {
           "shape": ""
          }
         },
         "name": "MI",
         "offsetgroup": "MI",
         "orientation": "v",
         "showlegend": true,
         "textposition": "auto",
         "type": "bar",
         "x": [
          "MI"
         ],
         "xaxis": "x",
         "y": [
          9
         ],
         "yaxis": "y"
        },
        {
         "alignmentgroup": "True",
         "hovertemplate": "State=%{x}<br>counts=%{y}<extra></extra>",
         "legendgroup": "VT",
         "marker": {
          "color": "#FFA15A",
          "pattern": {
           "shape": ""
          }
         },
         "name": "VT",
         "offsetgroup": "VT",
         "orientation": "v",
         "showlegend": true,
         "textposition": "auto",
         "type": "bar",
         "x": [
          "VT"
         ],
         "xaxis": "x",
         "y": [
          9
         ],
         "yaxis": "y"
        },
        {
         "alignmentgroup": "True",
         "hovertemplate": "State=%{x}<br>counts=%{y}<extra></extra>",
         "legendgroup": "WI",
         "marker": {
          "color": "#19d3f3",
          "pattern": {
           "shape": ""
          }
         },
         "name": "WI",
         "offsetgroup": "WI",
         "orientation": "v",
         "showlegend": true,
         "textposition": "auto",
         "type": "bar",
         "x": [
          "WI"
         ],
         "xaxis": "x",
         "y": [
          8
         ],
         "yaxis": "y"
        },
        {
         "alignmentgroup": "True",
         "hovertemplate": "State=%{x}<br>counts=%{y}<extra></extra>",
         "legendgroup": "NH",
         "marker": {
          "color": "#FF6692",
          "pattern": {
           "shape": ""
          }
         },
         "name": "NH",
         "offsetgroup": "NH",
         "orientation": "v",
         "showlegend": true,
         "textposition": "auto",
         "type": "bar",
         "x": [
          "NH"
         ],
         "xaxis": "x",
         "y": [
          8
         ],
         "yaxis": "y"
        },
        {
         "alignmentgroup": "True",
         "hovertemplate": "State=%{x}<br>counts=%{y}<extra></extra>",
         "legendgroup": "WV",
         "marker": {
          "color": "#B6E880",
          "pattern": {
           "shape": ""
          }
         },
         "name": "WV",
         "offsetgroup": "WV",
         "orientation": "v",
         "showlegend": true,
         "textposition": "auto",
         "type": "bar",
         "x": [
          "WV"
         ],
         "xaxis": "x",
         "y": [
          8
         ],
         "yaxis": "y"
        },
        {
         "alignmentgroup": "True",
         "hovertemplate": "State=%{x}<br>counts=%{y}<extra></extra>",
         "legendgroup": "KY",
         "marker": {
          "color": "#FF97FF",
          "pattern": {
           "shape": ""
          }
         },
         "name": "KY",
         "offsetgroup": "KY",
         "orientation": "v",
         "showlegend": true,
         "textposition": "auto",
         "type": "bar",
         "x": [
          "KY"
         ],
         "xaxis": "x",
         "y": [
          7
         ],
         "yaxis": "y"
        },
        {
         "alignmentgroup": "True",
         "hovertemplate": "State=%{x}<br>counts=%{y}<extra></extra>",
         "legendgroup": "AL",
         "marker": {
          "color": "#FECB52",
          "pattern": {
           "shape": ""
          }
         },
         "name": "AL",
         "offsetgroup": "AL",
         "orientation": "v",
         "showlegend": true,
         "textposition": "auto",
         "type": "bar",
         "x": [
          "AL"
         ],
         "xaxis": "x",
         "y": [
          6
         ],
         "yaxis": "y"
        },
        {
         "alignmentgroup": "True",
         "hovertemplate": "State=%{x}<br>counts=%{y}<extra></extra>",
         "legendgroup": "RI",
         "marker": {
          "color": "#636efa",
          "pattern": {
           "shape": ""
          }
         },
         "name": "RI",
         "offsetgroup": "RI",
         "orientation": "v",
         "showlegend": true,
         "textposition": "auto",
         "type": "bar",
         "x": [
          "RI"
         ],
         "xaxis": "x",
         "y": [
          6
         ],
         "yaxis": "y"
        },
        {
         "alignmentgroup": "True",
         "hovertemplate": "State=%{x}<br>counts=%{y}<extra></extra>",
         "legendgroup": "CO",
         "marker": {
          "color": "#EF553B",
          "pattern": {
           "shape": ""
          }
         },
         "name": "CO",
         "offsetgroup": "CO",
         "orientation": "v",
         "showlegend": true,
         "textposition": "auto",
         "type": "bar",
         "x": [
          "CO"
         ],
         "xaxis": "x",
         "y": [
          6
         ],
         "yaxis": "y"
        },
        {
         "alignmentgroup": "True",
         "hovertemplate": "State=%{x}<br>counts=%{y}<extra></extra>",
         "legendgroup": "MT",
         "marker": {
          "color": "#00cc96",
          "pattern": {
           "shape": ""
          }
         },
         "name": "MT",
         "offsetgroup": "MT",
         "orientation": "v",
         "showlegend": true,
         "textposition": "auto",
         "type": "bar",
         "x": [
          "MT"
         ],
         "xaxis": "x",
         "y": [
          5
         ],
         "yaxis": "y"
        },
        {
         "alignmentgroup": "True",
         "hovertemplate": "State=%{x}<br>counts=%{y}<extra></extra>",
         "legendgroup": "LA",
         "marker": {
          "color": "#ab63fa",
          "pattern": {
           "shape": ""
          }
         },
         "name": "LA",
         "offsetgroup": "LA",
         "orientation": "v",
         "showlegend": true,
         "textposition": "auto",
         "type": "bar",
         "x": [
          "LA"
         ],
         "xaxis": "x",
         "y": [
          5
         ],
         "yaxis": "y"
        },
        {
         "alignmentgroup": "True",
         "hovertemplate": "State=%{x}<br>counts=%{y}<extra></extra>",
         "legendgroup": "OK",
         "marker": {
          "color": "#FFA15A",
          "pattern": {
           "shape": ""
          }
         },
         "name": "OK",
         "offsetgroup": "OK",
         "orientation": "v",
         "showlegend": true,
         "textposition": "auto",
         "type": "bar",
         "x": [
          "OK"
         ],
         "xaxis": "x",
         "y": [
          5
         ],
         "yaxis": "y"
        },
        {
         "alignmentgroup": "True",
         "hovertemplate": "State=%{x}<br>counts=%{y}<extra></extra>",
         "legendgroup": "AZ",
         "marker": {
          "color": "#19d3f3",
          "pattern": {
           "shape": ""
          }
         },
         "name": "AZ",
         "offsetgroup": "AZ",
         "orientation": "v",
         "showlegend": true,
         "textposition": "auto",
         "type": "bar",
         "x": [
          "AZ"
         ],
         "xaxis": "x",
         "y": [
          4
         ],
         "yaxis": "y"
        },
        {
         "alignmentgroup": "True",
         "hovertemplate": "State=%{x}<br>counts=%{y}<extra></extra>",
         "legendgroup": "ID",
         "marker": {
          "color": "#FF6692",
          "pattern": {
           "shape": ""
          }
         },
         "name": "ID",
         "offsetgroup": "ID",
         "orientation": "v",
         "showlegend": true,
         "textposition": "auto",
         "type": "bar",
         "x": [
          "ID"
         ],
         "xaxis": "x",
         "y": [
          4
         ],
         "yaxis": "y"
        },
        {
         "alignmentgroup": "True",
         "hovertemplate": "State=%{x}<br>counts=%{y}<extra></extra>",
         "legendgroup": "AR",
         "marker": {
          "color": "#B6E880",
          "pattern": {
           "shape": ""
          }
         },
         "name": "AR",
         "offsetgroup": "AR",
         "orientation": "v",
         "showlegend": true,
         "textposition": "auto",
         "type": "bar",
         "x": [
          "AR"
         ],
         "xaxis": "x",
         "y": [
          3
         ],
         "yaxis": "y"
        },
        {
         "alignmentgroup": "True",
         "hovertemplate": "State=%{x}<br>counts=%{y}<extra></extra>",
         "legendgroup": "DC",
         "marker": {
          "color": "#FF97FF",
          "pattern": {
           "shape": ""
          }
         },
         "name": "DC",
         "offsetgroup": "DC",
         "orientation": "v",
         "showlegend": true,
         "textposition": "auto",
         "type": "bar",
         "x": [
          "DC"
         ],
         "xaxis": "x",
         "y": [
          2
         ],
         "yaxis": "y"
        },
        {
         "alignmentgroup": "True",
         "hovertemplate": "State=%{x}<br>counts=%{y}<extra></extra>",
         "legendgroup": "MS",
         "marker": {
          "color": "#FECB52",
          "pattern": {
           "shape": ""
          }
         },
         "name": "MS",
         "offsetgroup": "MS",
         "orientation": "v",
         "showlegend": true,
         "textposition": "auto",
         "type": "bar",
         "x": [
          "MS"
         ],
         "xaxis": "x",
         "y": [
          2
         ],
         "yaxis": "y"
        },
        {
         "alignmentgroup": "True",
         "hovertemplate": "State=%{x}<br>counts=%{y}<extra></extra>",
         "legendgroup": "NM",
         "marker": {
          "color": "#636efa",
          "pattern": {
           "shape": ""
          }
         },
         "name": "NM",
         "offsetgroup": "NM",
         "orientation": "v",
         "showlegend": true,
         "textposition": "auto",
         "type": "bar",
         "x": [
          "NM"
         ],
         "xaxis": "x",
         "y": [
          2
         ],
         "yaxis": "y"
        },
        {
         "alignmentgroup": "True",
         "hovertemplate": "State=%{x}<br>counts=%{y}<extra></extra>",
         "legendgroup": "HI",
         "marker": {
          "color": "#EF553B",
          "pattern": {
           "shape": ""
          }
         },
         "name": "HI",
         "offsetgroup": "HI",
         "orientation": "v",
         "showlegend": true,
         "textposition": "auto",
         "type": "bar",
         "x": [
          "HI"
         ],
         "xaxis": "x",
         "y": [
          2
         ],
         "yaxis": "y"
        },
        {
         "alignmentgroup": "True",
         "hovertemplate": "State=%{x}<br>counts=%{y}<extra></extra>",
         "legendgroup": "DE",
         "marker": {
          "color": "#00cc96",
          "pattern": {
           "shape": ""
          }
         },
         "name": "DE",
         "offsetgroup": "DE",
         "orientation": "v",
         "showlegend": true,
         "textposition": "auto",
         "type": "bar",
         "x": [
          "DE"
         ],
         "xaxis": "x",
         "y": [
          2
         ],
         "yaxis": "y"
        },
        {
         "alignmentgroup": "True",
         "hovertemplate": "State=%{x}<br>counts=%{y}<extra></extra>",
         "legendgroup": "ND",
         "marker": {
          "color": "#ab63fa",
          "pattern": {
           "shape": ""
          }
         },
         "name": "ND",
         "offsetgroup": "ND",
         "orientation": "v",
         "showlegend": true,
         "textposition": "auto",
         "type": "bar",
         "x": [
          "ND"
         ],
         "xaxis": "x",
         "y": [
          1
         ],
         "yaxis": "y"
        },
        {
         "alignmentgroup": "True",
         "hovertemplate": "State=%{x}<br>counts=%{y}<extra></extra>",
         "legendgroup": "KS",
         "marker": {
          "color": "#FFA15A",
          "pattern": {
           "shape": ""
          }
         },
         "name": "KS",
         "offsetgroup": "KS",
         "orientation": "v",
         "showlegend": true,
         "textposition": "auto",
         "type": "bar",
         "x": [
          "KS"
         ],
         "xaxis": "x",
         "y": [
          1
         ],
         "yaxis": "y"
        },
        {
         "alignmentgroup": "True",
         "hovertemplate": "State=%{x}<br>counts=%{y}<extra></extra>",
         "legendgroup": "UT",
         "marker": {
          "color": "#19d3f3",
          "pattern": {
           "shape": ""
          }
         },
         "name": "UT",
         "offsetgroup": "UT",
         "orientation": "v",
         "showlegend": true,
         "textposition": "auto",
         "type": "bar",
         "x": [
          "UT"
         ],
         "xaxis": "x",
         "y": [
          1
         ],
         "yaxis": "y"
        },
        {
         "alignmentgroup": "True",
         "hovertemplate": "State=%{x}<br>counts=%{y}<extra></extra>",
         "legendgroup": "NE",
         "marker": {
          "color": "#FF6692",
          "pattern": {
           "shape": ""
          }
         },
         "name": "NE",
         "offsetgroup": "NE",
         "orientation": "v",
         "showlegend": true,
         "textposition": "auto",
         "type": "bar",
         "x": [
          "NE"
         ],
         "xaxis": "x",
         "y": [
          1
         ],
         "yaxis": "y"
        },
        {
         "alignmentgroup": "True",
         "hovertemplate": "State=%{x}<br>counts=%{y}<extra></extra>",
         "legendgroup": "NV",
         "marker": {
          "color": "#B6E880",
          "pattern": {
           "shape": ""
          }
         },
         "name": "NV",
         "offsetgroup": "NV",
         "orientation": "v",
         "showlegend": true,
         "textposition": "auto",
         "type": "bar",
         "x": [
          "NV"
         ],
         "xaxis": "x",
         "y": [
          1
         ],
         "yaxis": "y"
        },
        {
         "alignmentgroup": "True",
         "hovertemplate": "State=%{x}<br>counts=%{y}<extra></extra>",
         "legendgroup": "AK",
         "marker": {
          "color": "#FF97FF",
          "pattern": {
           "shape": ""
          }
         },
         "name": "AK",
         "offsetgroup": "AK",
         "orientation": "v",
         "showlegend": true,
         "textposition": "auto",
         "type": "bar",
         "x": [
          "AK"
         ],
         "xaxis": "x",
         "y": [
          1
         ],
         "yaxis": "y"
        }
       ],
       "layout": {
        "barmode": "relative",
        "height": 800,
        "legend": {
         "title": {
          "text": "State"
         },
         "tracegroupgap": 0
        },
        "showlegend": false,
        "template": {
         "data": {
          "bar": [
           {
            "error_x": {
             "color": "#2a3f5f"
            },
            "error_y": {
             "color": "#2a3f5f"
            },
            "marker": {
             "line": {
              "color": "#E5ECF6",
              "width": 0.5
             },
             "pattern": {
              "fillmode": "overlay",
              "size": 10,
              "solidity": 0.2
             }
            },
            "type": "bar"
           }
          ],
          "barpolar": [
           {
            "marker": {
             "line": {
              "color": "#E5ECF6",
              "width": 0.5
             },
             "pattern": {
              "fillmode": "overlay",
              "size": 10,
              "solidity": 0.2
             }
            },
            "type": "barpolar"
           }
          ],
          "carpet": [
           {
            "aaxis": {
             "endlinecolor": "#2a3f5f",
             "gridcolor": "white",
             "linecolor": "white",
             "minorgridcolor": "white",
             "startlinecolor": "#2a3f5f"
            },
            "baxis": {
             "endlinecolor": "#2a3f5f",
             "gridcolor": "white",
             "linecolor": "white",
             "minorgridcolor": "white",
             "startlinecolor": "#2a3f5f"
            },
            "type": "carpet"
           }
          ],
          "choropleth": [
           {
            "colorbar": {
             "outlinewidth": 0,
             "ticks": ""
            },
            "type": "choropleth"
           }
          ],
          "contour": [
           {
            "colorbar": {
             "outlinewidth": 0,
             "ticks": ""
            },
            "colorscale": [
             [
              0,
              "#0d0887"
             ],
             [
              0.1111111111111111,
              "#46039f"
             ],
             [
              0.2222222222222222,
              "#7201a8"
             ],
             [
              0.3333333333333333,
              "#9c179e"
             ],
             [
              0.4444444444444444,
              "#bd3786"
             ],
             [
              0.5555555555555556,
              "#d8576b"
             ],
             [
              0.6666666666666666,
              "#ed7953"
             ],
             [
              0.7777777777777778,
              "#fb9f3a"
             ],
             [
              0.8888888888888888,
              "#fdca26"
             ],
             [
              1,
              "#f0f921"
             ]
            ],
            "type": "contour"
           }
          ],
          "contourcarpet": [
           {
            "colorbar": {
             "outlinewidth": 0,
             "ticks": ""
            },
            "type": "contourcarpet"
           }
          ],
          "heatmap": [
           {
            "colorbar": {
             "outlinewidth": 0,
             "ticks": ""
            },
            "colorscale": [
             [
              0,
              "#0d0887"
             ],
             [
              0.1111111111111111,
              "#46039f"
             ],
             [
              0.2222222222222222,
              "#7201a8"
             ],
             [
              0.3333333333333333,
              "#9c179e"
             ],
             [
              0.4444444444444444,
              "#bd3786"
             ],
             [
              0.5555555555555556,
              "#d8576b"
             ],
             [
              0.6666666666666666,
              "#ed7953"
             ],
             [
              0.7777777777777778,
              "#fb9f3a"
             ],
             [
              0.8888888888888888,
              "#fdca26"
             ],
             [
              1,
              "#f0f921"
             ]
            ],
            "type": "heatmap"
           }
          ],
          "heatmapgl": [
           {
            "colorbar": {
             "outlinewidth": 0,
             "ticks": ""
            },
            "colorscale": [
             [
              0,
              "#0d0887"
             ],
             [
              0.1111111111111111,
              "#46039f"
             ],
             [
              0.2222222222222222,
              "#7201a8"
             ],
             [
              0.3333333333333333,
              "#9c179e"
             ],
             [
              0.4444444444444444,
              "#bd3786"
             ],
             [
              0.5555555555555556,
              "#d8576b"
             ],
             [
              0.6666666666666666,
              "#ed7953"
             ],
             [
              0.7777777777777778,
              "#fb9f3a"
             ],
             [
              0.8888888888888888,
              "#fdca26"
             ],
             [
              1,
              "#f0f921"
             ]
            ],
            "type": "heatmapgl"
           }
          ],
          "histogram": [
           {
            "marker": {
             "pattern": {
              "fillmode": "overlay",
              "size": 10,
              "solidity": 0.2
             }
            },
            "type": "histogram"
           }
          ],
          "histogram2d": [
           {
            "colorbar": {
             "outlinewidth": 0,
             "ticks": ""
            },
            "colorscale": [
             [
              0,
              "#0d0887"
             ],
             [
              0.1111111111111111,
              "#46039f"
             ],
             [
              0.2222222222222222,
              "#7201a8"
             ],
             [
              0.3333333333333333,
              "#9c179e"
             ],
             [
              0.4444444444444444,
              "#bd3786"
             ],
             [
              0.5555555555555556,
              "#d8576b"
             ],
             [
              0.6666666666666666,
              "#ed7953"
             ],
             [
              0.7777777777777778,
              "#fb9f3a"
             ],
             [
              0.8888888888888888,
              "#fdca26"
             ],
             [
              1,
              "#f0f921"
             ]
            ],
            "type": "histogram2d"
           }
          ],
          "histogram2dcontour": [
           {
            "colorbar": {
             "outlinewidth": 0,
             "ticks": ""
            },
            "colorscale": [
             [
              0,
              "#0d0887"
             ],
             [
              0.1111111111111111,
              "#46039f"
             ],
             [
              0.2222222222222222,
              "#7201a8"
             ],
             [
              0.3333333333333333,
              "#9c179e"
             ],
             [
              0.4444444444444444,
              "#bd3786"
             ],
             [
              0.5555555555555556,
              "#d8576b"
             ],
             [
              0.6666666666666666,
              "#ed7953"
             ],
             [
              0.7777777777777778,
              "#fb9f3a"
             ],
             [
              0.8888888888888888,
              "#fdca26"
             ],
             [
              1,
              "#f0f921"
             ]
            ],
            "type": "histogram2dcontour"
           }
          ],
          "mesh3d": [
           {
            "colorbar": {
             "outlinewidth": 0,
             "ticks": ""
            },
            "type": "mesh3d"
           }
          ],
          "parcoords": [
           {
            "line": {
             "colorbar": {
              "outlinewidth": 0,
              "ticks": ""
             }
            },
            "type": "parcoords"
           }
          ],
          "pie": [
           {
            "automargin": true,
            "type": "pie"
           }
          ],
          "scatter": [
           {
            "fillpattern": {
             "fillmode": "overlay",
             "size": 10,
             "solidity": 0.2
            },
            "type": "scatter"
           }
          ],
          "scatter3d": [
           {
            "line": {
             "colorbar": {
              "outlinewidth": 0,
              "ticks": ""
             }
            },
            "marker": {
             "colorbar": {
              "outlinewidth": 0,
              "ticks": ""
             }
            },
            "type": "scatter3d"
           }
          ],
          "scattercarpet": [
           {
            "marker": {
             "colorbar": {
              "outlinewidth": 0,
              "ticks": ""
             }
            },
            "type": "scattercarpet"
           }
          ],
          "scattergeo": [
           {
            "marker": {
             "colorbar": {
              "outlinewidth": 0,
              "ticks": ""
             }
            },
            "type": "scattergeo"
           }
          ],
          "scattergl": [
           {
            "marker": {
             "colorbar": {
              "outlinewidth": 0,
              "ticks": ""
             }
            },
            "type": "scattergl"
           }
          ],
          "scattermapbox": [
           {
            "marker": {
             "colorbar": {
              "outlinewidth": 0,
              "ticks": ""
             }
            },
            "type": "scattermapbox"
           }
          ],
          "scatterpolar": [
           {
            "marker": {
             "colorbar": {
              "outlinewidth": 0,
              "ticks": ""
             }
            },
            "type": "scatterpolar"
           }
          ],
          "scatterpolargl": [
           {
            "marker": {
             "colorbar": {
              "outlinewidth": 0,
              "ticks": ""
             }
            },
            "type": "scatterpolargl"
           }
          ],
          "scatterternary": [
           {
            "marker": {
             "colorbar": {
              "outlinewidth": 0,
              "ticks": ""
             }
            },
            "type": "scatterternary"
           }
          ],
          "surface": [
           {
            "colorbar": {
             "outlinewidth": 0,
             "ticks": ""
            },
            "colorscale": [
             [
              0,
              "#0d0887"
             ],
             [
              0.1111111111111111,
              "#46039f"
             ],
             [
              0.2222222222222222,
              "#7201a8"
             ],
             [
              0.3333333333333333,
              "#9c179e"
             ],
             [
              0.4444444444444444,
              "#bd3786"
             ],
             [
              0.5555555555555556,
              "#d8576b"
             ],
             [
              0.6666666666666666,
              "#ed7953"
             ],
             [
              0.7777777777777778,
              "#fb9f3a"
             ],
             [
              0.8888888888888888,
              "#fdca26"
             ],
             [
              1,
              "#f0f921"
             ]
            ],
            "type": "surface"
           }
          ],
          "table": [
           {
            "cells": {
             "fill": {
              "color": "#EBF0F8"
             },
             "line": {
              "color": "white"
             }
            },
            "header": {
             "fill": {
              "color": "#C8D4E3"
             },
             "line": {
              "color": "white"
             }
            },
            "type": "table"
           }
          ]
         },
         "layout": {
          "annotationdefaults": {
           "arrowcolor": "#2a3f5f",
           "arrowhead": 0,
           "arrowwidth": 1
          },
          "autotypenumbers": "strict",
          "coloraxis": {
           "colorbar": {
            "outlinewidth": 0,
            "ticks": ""
           }
          },
          "colorscale": {
           "diverging": [
            [
             0,
             "#8e0152"
            ],
            [
             0.1,
             "#c51b7d"
            ],
            [
             0.2,
             "#de77ae"
            ],
            [
             0.3,
             "#f1b6da"
            ],
            [
             0.4,
             "#fde0ef"
            ],
            [
             0.5,
             "#f7f7f7"
            ],
            [
             0.6,
             "#e6f5d0"
            ],
            [
             0.7,
             "#b8e186"
            ],
            [
             0.8,
             "#7fbc41"
            ],
            [
             0.9,
             "#4d9221"
            ],
            [
             1,
             "#276419"
            ]
           ],
           "sequential": [
            [
             0,
             "#0d0887"
            ],
            [
             0.1111111111111111,
             "#46039f"
            ],
            [
             0.2222222222222222,
             "#7201a8"
            ],
            [
             0.3333333333333333,
             "#9c179e"
            ],
            [
             0.4444444444444444,
             "#bd3786"
            ],
            [
             0.5555555555555556,
             "#d8576b"
            ],
            [
             0.6666666666666666,
             "#ed7953"
            ],
            [
             0.7777777777777778,
             "#fb9f3a"
            ],
            [
             0.8888888888888888,
             "#fdca26"
            ],
            [
             1,
             "#f0f921"
            ]
           ],
           "sequentialminus": [
            [
             0,
             "#0d0887"
            ],
            [
             0.1111111111111111,
             "#46039f"
            ],
            [
             0.2222222222222222,
             "#7201a8"
            ],
            [
             0.3333333333333333,
             "#9c179e"
            ],
            [
             0.4444444444444444,
             "#bd3786"
            ],
            [
             0.5555555555555556,
             "#d8576b"
            ],
            [
             0.6666666666666666,
             "#ed7953"
            ],
            [
             0.7777777777777778,
             "#fb9f3a"
            ],
            [
             0.8888888888888888,
             "#fdca26"
            ],
            [
             1,
             "#f0f921"
            ]
           ]
          },
          "colorway": [
           "#636efa",
           "#EF553B",
           "#00cc96",
           "#ab63fa",
           "#FFA15A",
           "#19d3f3",
           "#FF6692",
           "#B6E880",
           "#FF97FF",
           "#FECB52"
          ],
          "font": {
           "color": "#2a3f5f"
          },
          "geo": {
           "bgcolor": "white",
           "lakecolor": "white",
           "landcolor": "#E5ECF6",
           "showlakes": true,
           "showland": true,
           "subunitcolor": "white"
          },
          "hoverlabel": {
           "align": "left"
          },
          "hovermode": "closest",
          "mapbox": {
           "style": "light"
          },
          "paper_bgcolor": "white",
          "plot_bgcolor": "#E5ECF6",
          "polar": {
           "angularaxis": {
            "gridcolor": "white",
            "linecolor": "white",
            "ticks": ""
           },
           "bgcolor": "#E5ECF6",
           "radialaxis": {
            "gridcolor": "white",
            "linecolor": "white",
            "ticks": ""
           }
          },
          "scene": {
           "xaxis": {
            "backgroundcolor": "#E5ECF6",
            "gridcolor": "white",
            "gridwidth": 2,
            "linecolor": "white",
            "showbackground": true,
            "ticks": "",
            "zerolinecolor": "white"
           },
           "yaxis": {
            "backgroundcolor": "#E5ECF6",
            "gridcolor": "white",
            "gridwidth": 2,
            "linecolor": "white",
            "showbackground": true,
            "ticks": "",
            "zerolinecolor": "white"
           },
           "zaxis": {
            "backgroundcolor": "#E5ECF6",
            "gridcolor": "white",
            "gridwidth": 2,
            "linecolor": "white",
            "showbackground": true,
            "ticks": "",
            "zerolinecolor": "white"
           }
          },
          "shapedefaults": {
           "line": {
            "color": "#2a3f5f"
           }
          },
          "ternary": {
           "aaxis": {
            "gridcolor": "white",
            "linecolor": "white",
            "ticks": ""
           },
           "baxis": {
            "gridcolor": "white",
            "linecolor": "white",
            "ticks": ""
           },
           "bgcolor": "#E5ECF6",
           "caxis": {
            "gridcolor": "white",
            "linecolor": "white",
            "ticks": ""
           }
          },
          "title": {
           "x": 0.05
          },
          "xaxis": {
           "automargin": true,
           "gridcolor": "white",
           "linecolor": "white",
           "ticks": "",
           "title": {
            "standoff": 15
           },
           "zerolinecolor": "white",
           "zerolinewidth": 2
          },
          "yaxis": {
           "automargin": true,
           "gridcolor": "white",
           "linecolor": "white",
           "ticks": "",
           "title": {
            "standoff": 15
           },
           "zerolinecolor": "white",
           "zerolinewidth": 2
          }
         }
        },
        "title": {
         "text": "Number of universities per State"
        },
        "width": 900,
        "xaxis": {
         "anchor": "y",
         "autorange": true,
         "categoryarray": [
          "NY",
          "PA",
          "CA",
          "TX",
          "NC",
          "MA",
          "OH",
          "NJ",
          "VA",
          "IN",
          "GA",
          "MD",
          "FL",
          "SC",
          "IL",
          "TN",
          "MN",
          "MO",
          "OR",
          "WA",
          "IA",
          "CT",
          "ME",
          "MI",
          "VT",
          "WI",
          "NH",
          "WV",
          "KY",
          "AL",
          "RI",
          "CO",
          "MT",
          "LA",
          "OK",
          "AZ",
          "ID",
          "AR",
          "DC",
          "MS",
          "NM",
          "HI",
          "DE",
          "ND",
          "KS",
          "UT",
          "NE",
          "NV",
          "AK"
         ],
         "categoryorder": "array",
         "domain": [
          0,
          1
         ],
         "range": [
          -0.5,
          48.5
         ],
         "title": {
          "text": "State"
         },
         "type": "category"
        },
        "yaxis": {
         "anchor": "x",
         "autorange": true,
         "domain": [
          0,
          1
         ],
         "range": [
          0,
          60
         ],
         "title": {
          "text": "counts"
         },
         "type": "linear"
        }
       }
      },
      "image/png": "[encoded data removed]",
      "text/html": [
       "<div>                            <div id=\"28fd7b6e-9088-46cd-9e9e-434df78370e4\" class=\"plotly-graph-div\" style=\"height:800px; width:900px;\"></div>            <script type=\"text/javascript\">                require([\"plotly\"], function(Plotly) {                    window.PLOTLYENV=window.PLOTLYENV || {};                                    if (document.getElementById(\"28fd7b6e-9088-46cd-9e9e-434df78370e4\")) {                    Plotly.newPlot(                        \"28fd7b6e-9088-46cd-9e9e-434df78370e4\",                        [{\"alignmentgroup\":\"True\",\"hovertemplate\":\"State=%{x}<br>counts=%{y}<extra></extra>\",\"legendgroup\":\"NY\",\"marker\":{\"color\":\"#636efa\",\"pattern\":{\"shape\":\"\"}},\"name\":\"NY\",\"offsetgroup\":\"NY\",\"orientation\":\"v\",\"showlegend\":true,\"textposition\":\"auto\",\"x\":[\"NY\"],\"xaxis\":\"x\",\"y\":[57],\"yaxis\":\"y\",\"type\":\"bar\"},{\"alignmentgroup\":\"True\",\"hovertemplate\":\"State=%{x}<br>counts=%{y}<extra></extra>\",\"legendgroup\":\"PA\",\"marker\":{\"color\":\"#EF553B\",\"pattern\":{\"shape\":\"\"}},\"name\":\"PA\",\"offsetgroup\":\"PA\",\"orientation\":\"v\",\"showlegend\":true,\"textposition\":\"auto\",\"x\":[\"PA\"],\"xaxis\":\"x\",\"y\":[51],\"yaxis\":\"y\",\"type\":\"bar\"},{\"alignmentgroup\":\"True\",\"hovertemplate\":\"State=%{x}<br>counts=%{y}<extra></extra>\",\"legendgroup\":\"CA\",\"marker\":{\"color\":\"#00cc96\",\"pattern\":{\"shape\":\"\"}},\"name\":\"CA\",\"offsetgroup\":\"CA\",\"orientation\":\"v\",\"showlegend\":true,\"textposition\":\"auto\",\"x\":[\"CA\"],\"xaxis\":\"x\",\"y\":[45],\"yaxis\":\"y\",\"type\":\"bar\"},{\"alignmentgroup\":\"True\",\"hovertemplate\":\"State=%{x}<br>counts=%{y}<extra></extra>\",\"legendgroup\":\"TX\",\"marker\":{\"color\":\"#ab63fa\",\"pattern\":{\"shape\":\"\"}},\"name\":\"TX\",\"offsetgroup\":\"TX\",\"orientation\":\"v\",\"showlegend\":true,\"textposition\":\"auto\",\"x\":[\"TX\"],\"xaxis\":\"x\",\"y\":[37],\"yaxis\":\"y\",\"type\":\"bar\"},{\"alignmentgroup\":\"True\",\"hovertemplate\":\"State=%{x}<br>counts=%{y}<extra></extra>\",\"legendgroup\":\"NC\",\"marker\":{\"color\":\"#FFA15A\",\"pattern\":{\"shape\":\"\"}},\"name\":\"NC\",\"offsetgroup\":\"NC\",\"orientation\":\"v\",\"showlegend\":true,\"textposition\":\"auto\",\"x\":[\"NC\"],\"xaxis\":\"x\",\"y\":[33],\"yaxis\":\"y\",\"type\":\"bar\"},{\"alignmentgroup\":\"True\",\"hovertemplate\":\"State=%{x}<br>counts=%{y}<extra></extra>\",\"legendgroup\":\"MA\",\"marker\":{\"color\":\"#19d3f3\",\"pattern\":{\"shape\":\"\"}},\"name\":\"MA\",\"offsetgroup\":\"MA\",\"orientation\":\"v\",\"showlegend\":true,\"textposition\":\"auto\",\"x\":[\"MA\"],\"xaxis\":\"x\",\"y\":[30],\"yaxis\":\"y\",\"type\":\"bar\"},{\"alignmentgroup\":\"True\",\"hovertemplate\":\"State=%{x}<br>counts=%{y}<extra></extra>\",\"legendgroup\":\"OH\",\"marker\":{\"color\":\"#FF6692\",\"pattern\":{\"shape\":\"\"}},\"name\":\"OH\",\"offsetgroup\":\"OH\",\"orientation\":\"v\",\"showlegend\":true,\"textposition\":\"auto\",\"x\":[\"OH\"],\"xaxis\":\"x\",\"y\":[29],\"yaxis\":\"y\",\"type\":\"bar\"},{\"alignmentgroup\":\"True\",\"hovertemplate\":\"State=%{x}<br>counts=%{y}<extra></extra>\",\"legendgroup\":\"NJ\",\"marker\":{\"color\":\"#B6E880\",\"pattern\":{\"shape\":\"\"}},\"name\":\"NJ\",\"offsetgroup\":\"NJ\",\"orientation\":\"v\",\"showlegend\":true,\"textposition\":\"auto\",\"x\":[\"NJ\"],\"xaxis\":\"x\",\"y\":[24],\"yaxis\":\"y\",\"type\":\"bar\"},{\"alignmentgroup\":\"True\",\"hovertemplate\":\"State=%{x}<br>counts=%{y}<extra></extra>\",\"legendgroup\":\"VA\",\"marker\":{\"color\":\"#FF97FF\",\"pattern\":{\"shape\":\"\"}},\"name\":\"VA\",\"offsetgroup\":\"VA\",\"orientation\":\"v\",\"showlegend\":true,\"textposition\":\"auto\",\"x\":[\"VA\"],\"xaxis\":\"x\",\"y\":[24],\"yaxis\":\"y\",\"type\":\"bar\"},{\"alignmentgroup\":\"True\",\"hovertemplate\":\"State=%{x}<br>counts=%{y}<extra></extra>\",\"legendgroup\":\"IN\",\"marker\":{\"color\":\"#FECB52\",\"pattern\":{\"shape\":\"\"}},\"name\":\"IN\",\"offsetgroup\":\"IN\",\"orientation\":\"v\",\"showlegend\":true,\"textposition\":\"auto\",\"x\":[\"IN\"],\"xaxis\":\"x\",\"y\":[24],\"yaxis\":\"y\",\"type\":\"bar\"},{\"alignmentgroup\":\"True\",\"hovertemplate\":\"State=%{x}<br>counts=%{y}<extra></extra>\",\"legendgroup\":\"GA\",\"marker\":{\"color\":\"#636efa\",\"pattern\":{\"shape\":\"\"}},\"name\":\"GA\",\"offsetgroup\":\"GA\",\"orientation\":\"v\",\"showlegend\":true,\"textposition\":\"auto\",\"x\":[\"GA\"],\"xaxis\":\"x\",\"y\":[21],\"yaxis\":\"y\",\"type\":\"bar\"},{\"alignmentgroup\":\"True\",\"hovertemplate\":\"State=%{x}<br>counts=%{y}<extra></extra>\",\"legendgroup\":\"MD\",\"marker\":{\"color\":\"#EF553B\",\"pattern\":{\"shape\":\"\"}},\"name\":\"MD\",\"offsetgroup\":\"MD\",\"orientation\":\"v\",\"showlegend\":true,\"textposition\":\"auto\",\"x\":[\"MD\"],\"xaxis\":\"x\",\"y\":[18],\"yaxis\":\"y\",\"type\":\"bar\"},{\"alignmentgroup\":\"True\",\"hovertemplate\":\"State=%{x}<br>counts=%{y}<extra></extra>\",\"legendgroup\":\"FL\",\"marker\":{\"color\":\"#00cc96\",\"pattern\":{\"shape\":\"\"}},\"name\":\"FL\",\"offsetgroup\":\"FL\",\"orientation\":\"v\",\"showlegend\":true,\"textposition\":\"auto\",\"x\":[\"FL\"],\"xaxis\":\"x\",\"y\":[18],\"yaxis\":\"y\",\"type\":\"bar\"},{\"alignmentgroup\":\"True\",\"hovertemplate\":\"State=%{x}<br>counts=%{y}<extra></extra>\",\"legendgroup\":\"SC\",\"marker\":{\"color\":\"#ab63fa\",\"pattern\":{\"shape\":\"\"}},\"name\":\"SC\",\"offsetgroup\":\"SC\",\"orientation\":\"v\",\"showlegend\":true,\"textposition\":\"auto\",\"x\":[\"SC\"],\"xaxis\":\"x\",\"y\":[17],\"yaxis\":\"y\",\"type\":\"bar\"},{\"alignmentgroup\":\"True\",\"hovertemplate\":\"State=%{x}<br>counts=%{y}<extra></extra>\",\"legendgroup\":\"IL\",\"marker\":{\"color\":\"#FFA15A\",\"pattern\":{\"shape\":\"\"}},\"name\":\"IL\",\"offsetgroup\":\"IL\",\"orientation\":\"v\",\"showlegend\":true,\"textposition\":\"auto\",\"x\":[\"IL\"],\"xaxis\":\"x\",\"y\":[15],\"yaxis\":\"y\",\"type\":\"bar\"},{\"alignmentgroup\":\"True\",\"hovertemplate\":\"State=%{x}<br>counts=%{y}<extra></extra>\",\"legendgroup\":\"TN\",\"marker\":{\"color\":\"#19d3f3\",\"pattern\":{\"shape\":\"\"}},\"name\":\"TN\",\"offsetgroup\":\"TN\",\"orientation\":\"v\",\"showlegend\":true,\"textposition\":\"auto\",\"x\":[\"TN\"],\"xaxis\":\"x\",\"y\":[13],\"yaxis\":\"y\",\"type\":\"bar\"},{\"alignmentgroup\":\"True\",\"hovertemplate\":\"State=%{x}<br>counts=%{y}<extra></extra>\",\"legendgroup\":\"MN\",\"marker\":{\"color\":\"#FF6692\",\"pattern\":{\"shape\":\"\"}},\"name\":\"MN\",\"offsetgroup\":\"MN\",\"orientation\":\"v\",\"showlegend\":true,\"textposition\":\"auto\",\"x\":[\"MN\"],\"xaxis\":\"x\",\"y\":[12],\"yaxis\":\"y\",\"type\":\"bar\"},{\"alignmentgroup\":\"True\",\"hovertemplate\":\"State=%{x}<br>counts=%{y}<extra></extra>\",\"legendgroup\":\"MO\",\"marker\":{\"color\":\"#B6E880\",\"pattern\":{\"shape\":\"\"}},\"name\":\"MO\",\"offsetgroup\":\"MO\",\"orientation\":\"v\",\"showlegend\":true,\"textposition\":\"auto\",\"x\":[\"MO\"],\"xaxis\":\"x\",\"y\":[11],\"yaxis\":\"y\",\"type\":\"bar\"},{\"alignmentgroup\":\"True\",\"hovertemplate\":\"State=%{x}<br>counts=%{y}<extra></extra>\",\"legendgroup\":\"OR\",\"marker\":{\"color\":\"#FF97FF\",\"pattern\":{\"shape\":\"\"}},\"name\":\"OR\",\"offsetgroup\":\"OR\",\"orientation\":\"v\",\"showlegend\":true,\"textposition\":\"auto\",\"x\":[\"OR\"],\"xaxis\":\"x\",\"y\":[11],\"yaxis\":\"y\",\"type\":\"bar\"},{\"alignmentgroup\":\"True\",\"hovertemplate\":\"State=%{x}<br>counts=%{y}<extra></extra>\",\"legendgroup\":\"WA\",\"marker\":{\"color\":\"#FECB52\",\"pattern\":{\"shape\":\"\"}},\"name\":\"WA\",\"offsetgroup\":\"WA\",\"orientation\":\"v\",\"showlegend\":true,\"textposition\":\"auto\",\"x\":[\"WA\"],\"xaxis\":\"x\",\"y\":[11],\"yaxis\":\"y\",\"type\":\"bar\"},{\"alignmentgroup\":\"True\",\"hovertemplate\":\"State=%{x}<br>counts=%{y}<extra></extra>\",\"legendgroup\":\"IA\",\"marker\":{\"color\":\"#636efa\",\"pattern\":{\"shape\":\"\"}},\"name\":\"IA\",\"offsetgroup\":\"IA\",\"orientation\":\"v\",\"showlegend\":true,\"textposition\":\"auto\",\"x\":[\"IA\"],\"xaxis\":\"x\",\"y\":[10],\"yaxis\":\"y\",\"type\":\"bar\"},{\"alignmentgroup\":\"True\",\"hovertemplate\":\"State=%{x}<br>counts=%{y}<extra></extra>\",\"legendgroup\":\"CT\",\"marker\":{\"color\":\"#EF553B\",\"pattern\":{\"shape\":\"\"}},\"name\":\"CT\",\"offsetgroup\":\"CT\",\"orientation\":\"v\",\"showlegend\":true,\"textposition\":\"auto\",\"x\":[\"CT\"],\"xaxis\":\"x\",\"y\":[10],\"yaxis\":\"y\",\"type\":\"bar\"},{\"alignmentgroup\":\"True\",\"hovertemplate\":\"State=%{x}<br>counts=%{y}<extra></extra>\",\"legendgroup\":\"ME\",\"marker\":{\"color\":\"#00cc96\",\"pattern\":{\"shape\":\"\"}},\"name\":\"ME\",\"offsetgroup\":\"ME\",\"orientation\":\"v\",\"showlegend\":true,\"textposition\":\"auto\",\"x\":[\"ME\"],\"xaxis\":\"x\",\"y\":[10],\"yaxis\":\"y\",\"type\":\"bar\"},{\"alignmentgroup\":\"True\",\"hovertemplate\":\"State=%{x}<br>counts=%{y}<extra></extra>\",\"legendgroup\":\"MI\",\"marker\":{\"color\":\"#ab63fa\",\"pattern\":{\"shape\":\"\"}},\"name\":\"MI\",\"offsetgroup\":\"MI\",\"orientation\":\"v\",\"showlegend\":true,\"textposition\":\"auto\",\"x\":[\"MI\"],\"xaxis\":\"x\",\"y\":[9],\"yaxis\":\"y\",\"type\":\"bar\"},{\"alignmentgroup\":\"True\",\"hovertemplate\":\"State=%{x}<br>counts=%{y}<extra></extra>\",\"legendgroup\":\"VT\",\"marker\":{\"color\":\"#FFA15A\",\"pattern\":{\"shape\":\"\"}},\"name\":\"VT\",\"offsetgroup\":\"VT\",\"orientation\":\"v\",\"showlegend\":true,\"textposition\":\"auto\",\"x\":[\"VT\"],\"xaxis\":\"x\",\"y\":[9],\"yaxis\":\"y\",\"type\":\"bar\"},{\"alignmentgroup\":\"True\",\"hovertemplate\":\"State=%{x}<br>counts=%{y}<extra></extra>\",\"legendgroup\":\"WI\",\"marker\":{\"color\":\"#19d3f3\",\"pattern\":{\"shape\":\"\"}},\"name\":\"WI\",\"offsetgroup\":\"WI\",\"orientation\":\"v\",\"showlegend\":true,\"textposition\":\"auto\",\"x\":[\"WI\"],\"xaxis\":\"x\",\"y\":[8],\"yaxis\":\"y\",\"type\":\"bar\"},{\"alignmentgroup\":\"True\",\"hovertemplate\":\"State=%{x}<br>counts=%{y}<extra></extra>\",\"legendgroup\":\"NH\",\"marker\":{\"color\":\"#FF6692\",\"pattern\":{\"shape\":\"\"}},\"name\":\"NH\",\"offsetgroup\":\"NH\",\"orientation\":\"v\",\"showlegend\":true,\"textposition\":\"auto\",\"x\":[\"NH\"],\"xaxis\":\"x\",\"y\":[8],\"yaxis\":\"y\",\"type\":\"bar\"},{\"alignmentgroup\":\"True\",\"hovertemplate\":\"State=%{x}<br>counts=%{y}<extra></extra>\",\"legendgroup\":\"WV\",\"marker\":{\"color\":\"#B6E880\",\"pattern\":{\"shape\":\"\"}},\"name\":\"WV\",\"offsetgroup\":\"WV\",\"orientation\":\"v\",\"showlegend\":true,\"textposition\":\"auto\",\"x\":[\"WV\"],\"xaxis\":\"x\",\"y\":[8],\"yaxis\":\"y\",\"type\":\"bar\"},{\"alignmentgroup\":\"True\",\"hovertemplate\":\"State=%{x}<br>counts=%{y}<extra></extra>\",\"legendgroup\":\"KY\",\"marker\":{\"color\":\"#FF97FF\",\"pattern\":{\"shape\":\"\"}},\"name\":\"KY\",\"offsetgroup\":\"KY\",\"orientation\":\"v\",\"showlegend\":true,\"textposition\":\"auto\",\"x\":[\"KY\"],\"xaxis\":\"x\",\"y\":[7],\"yaxis\":\"y\",\"type\":\"bar\"},{\"alignmentgroup\":\"True\",\"hovertemplate\":\"State=%{x}<br>counts=%{y}<extra></extra>\",\"legendgroup\":\"AL\",\"marker\":{\"color\":\"#FECB52\",\"pattern\":{\"shape\":\"\"}},\"name\":\"AL\",\"offsetgroup\":\"AL\",\"orientation\":\"v\",\"showlegend\":true,\"textposition\":\"auto\",\"x\":[\"AL\"],\"xaxis\":\"x\",\"y\":[6],\"yaxis\":\"y\",\"type\":\"bar\"},{\"alignmentgroup\":\"True\",\"hovertemplate\":\"State=%{x}<br>counts=%{y}<extra></extra>\",\"legendgroup\":\"RI\",\"marker\":{\"color\":\"#636efa\",\"pattern\":{\"shape\":\"\"}},\"name\":\"RI\",\"offsetgroup\":\"RI\",\"orientation\":\"v\",\"showlegend\":true,\"textposition\":\"auto\",\"x\":[\"RI\"],\"xaxis\":\"x\",\"y\":[6],\"yaxis\":\"y\",\"type\":\"bar\"},{\"alignmentgroup\":\"True\",\"hovertemplate\":\"State=%{x}<br>counts=%{y}<extra></extra>\",\"legendgroup\":\"CO\",\"marker\":{\"color\":\"#EF553B\",\"pattern\":{\"shape\":\"\"}},\"name\":\"CO\",\"offsetgroup\":\"CO\",\"orientation\":\"v\",\"showlegend\":true,\"textposition\":\"auto\",\"x\":[\"CO\"],\"xaxis\":\"x\",\"y\":[6],\"yaxis\":\"y\",\"type\":\"bar\"},{\"alignmentgroup\":\"True\",\"hovertemplate\":\"State=%{x}<br>counts=%{y}<extra></extra>\",\"legendgroup\":\"MT\",\"marker\":{\"color\":\"#00cc96\",\"pattern\":{\"shape\":\"\"}},\"name\":\"MT\",\"offsetgroup\":\"MT\",\"orientation\":\"v\",\"showlegend\":true,\"textposition\":\"auto\",\"x\":[\"MT\"],\"xaxis\":\"x\",\"y\":[5],\"yaxis\":\"y\",\"type\":\"bar\"},{\"alignmentgroup\":\"True\",\"hovertemplate\":\"State=%{x}<br>counts=%{y}<extra></extra>\",\"legendgroup\":\"LA\",\"marker\":{\"color\":\"#ab63fa\",\"pattern\":{\"shape\":\"\"}},\"name\":\"LA\",\"offsetgroup\":\"LA\",\"orientation\":\"v\",\"showlegend\":true,\"textposition\":\"auto\",\"x\":[\"LA\"],\"xaxis\":\"x\",\"y\":[5],\"yaxis\":\"y\",\"type\":\"bar\"},{\"alignmentgroup\":\"True\",\"hovertemplate\":\"State=%{x}<br>counts=%{y}<extra></extra>\",\"legendgroup\":\"OK\",\"marker\":{\"color\":\"#FFA15A\",\"pattern\":{\"shape\":\"\"}},\"name\":\"OK\",\"offsetgroup\":\"OK\",\"orientation\":\"v\",\"showlegend\":true,\"textposition\":\"auto\",\"x\":[\"OK\"],\"xaxis\":\"x\",\"y\":[5],\"yaxis\":\"y\",\"type\":\"bar\"},{\"alignmentgroup\":\"True\",\"hovertemplate\":\"State=%{x}<br>counts=%{y}<extra></extra>\",\"legendgroup\":\"AZ\",\"marker\":{\"color\":\"#19d3f3\",\"pattern\":{\"shape\":\"\"}},\"name\":\"AZ\",\"offsetgroup\":\"AZ\",\"orientation\":\"v\",\"showlegend\":true,\"textposition\":\"auto\",\"x\":[\"AZ\"],\"xaxis\":\"x\",\"y\":[4],\"yaxis\":\"y\",\"type\":\"bar\"},{\"alignmentgroup\":\"True\",\"hovertemplate\":\"State=%{x}<br>counts=%{y}<extra></extra>\",\"legendgroup\":\"ID\",\"marker\":{\"color\":\"#FF6692\",\"pattern\":{\"shape\":\"\"}},\"name\":\"ID\",\"offsetgroup\":\"ID\",\"orientation\":\"v\",\"showlegend\":true,\"textposition\":\"auto\",\"x\":[\"ID\"],\"xaxis\":\"x\",\"y\":[4],\"yaxis\":\"y\",\"type\":\"bar\"},{\"alignmentgroup\":\"True\",\"hovertemplate\":\"State=%{x}<br>counts=%{y}<extra></extra>\",\"legendgroup\":\"AR\",\"marker\":{\"color\":\"#B6E880\",\"pattern\":{\"shape\":\"\"}},\"name\":\"AR\",\"offsetgroup\":\"AR\",\"orientation\":\"v\",\"showlegend\":true,\"textposition\":\"auto\",\"x\":[\"AR\"],\"xaxis\":\"x\",\"y\":[3],\"yaxis\":\"y\",\"type\":\"bar\"},{\"alignmentgroup\":\"True\",\"hovertemplate\":\"State=%{x}<br>counts=%{y}<extra></extra>\",\"legendgroup\":\"DC\",\"marker\":{\"color\":\"#FF97FF\",\"pattern\":{\"shape\":\"\"}},\"name\":\"DC\",\"offsetgroup\":\"DC\",\"orientation\":\"v\",\"showlegend\":true,\"textposition\":\"auto\",\"x\":[\"DC\"],\"xaxis\":\"x\",\"y\":[2],\"yaxis\":\"y\",\"type\":\"bar\"},{\"alignmentgroup\":\"True\",\"hovertemplate\":\"State=%{x}<br>counts=%{y}<extra></extra>\",\"legendgroup\":\"MS\",\"marker\":{\"color\":\"#FECB52\",\"pattern\":{\"shape\":\"\"}},\"name\":\"MS\",\"offsetgroup\":\"MS\",\"orientation\":\"v\",\"showlegend\":true,\"textposition\":\"auto\",\"x\":[\"MS\"],\"xaxis\":\"x\",\"y\":[2],\"yaxis\":\"y\",\"type\":\"bar\"},{\"alignmentgroup\":\"True\",\"hovertemplate\":\"State=%{x}<br>counts=%{y}<extra></extra>\",\"legendgroup\":\"NM\",\"marker\":{\"color\":\"#636efa\",\"pattern\":{\"shape\":\"\"}},\"name\":\"NM\",\"offsetgroup\":\"NM\",\"orientation\":\"v\",\"showlegend\":true,\"textposition\":\"auto\",\"x\":[\"NM\"],\"xaxis\":\"x\",\"y\":[2],\"yaxis\":\"y\",\"type\":\"bar\"},{\"alignmentgroup\":\"True\",\"hovertemplate\":\"State=%{x}<br>counts=%{y}<extra></extra>\",\"legendgroup\":\"HI\",\"marker\":{\"color\":\"#EF553B\",\"pattern\":{\"shape\":\"\"}},\"name\":\"HI\",\"offsetgroup\":\"HI\",\"orientation\":\"v\",\"showlegend\":true,\"textposition\":\"auto\",\"x\":[\"HI\"],\"xaxis\":\"x\",\"y\":[2],\"yaxis\":\"y\",\"type\":\"bar\"},{\"alignmentgroup\":\"True\",\"hovertemplate\":\"State=%{x}<br>counts=%{y}<extra></extra>\",\"legendgroup\":\"DE\",\"marker\":{\"color\":\"#00cc96\",\"pattern\":{\"shape\":\"\"}},\"name\":\"DE\",\"offsetgroup\":\"DE\",\"orientation\":\"v\",\"showlegend\":true,\"textposition\":\"auto\",\"x\":[\"DE\"],\"xaxis\":\"x\",\"y\":[2],\"yaxis\":\"y\",\"type\":\"bar\"},{\"alignmentgroup\":\"True\",\"hovertemplate\":\"State=%{x}<br>counts=%{y}<extra></extra>\",\"legendgroup\":\"ND\",\"marker\":{\"color\":\"#ab63fa\",\"pattern\":{\"shape\":\"\"}},\"name\":\"ND\",\"offsetgroup\":\"ND\",\"orientation\":\"v\",\"showlegend\":true,\"textposition\":\"auto\",\"x\":[\"ND\"],\"xaxis\":\"x\",\"y\":[1],\"yaxis\":\"y\",\"type\":\"bar\"},{\"alignmentgroup\":\"True\",\"hovertemplate\":\"State=%{x}<br>counts=%{y}<extra></extra>\",\"legendgroup\":\"KS\",\"marker\":{\"color\":\"#FFA15A\",\"pattern\":{\"shape\":\"\"}},\"name\":\"KS\",\"offsetgroup\":\"KS\",\"orientation\":\"v\",\"showlegend\":true,\"textposition\":\"auto\",\"x\":[\"KS\"],\"xaxis\":\"x\",\"y\":[1],\"yaxis\":\"y\",\"type\":\"bar\"},{\"alignmentgroup\":\"True\",\"hovertemplate\":\"State=%{x}<br>counts=%{y}<extra></extra>\",\"legendgroup\":\"UT\",\"marker\":{\"color\":\"#19d3f3\",\"pattern\":{\"shape\":\"\"}},\"name\":\"UT\",\"offsetgroup\":\"UT\",\"orientation\":\"v\",\"showlegend\":true,\"textposition\":\"auto\",\"x\":[\"UT\"],\"xaxis\":\"x\",\"y\":[1],\"yaxis\":\"y\",\"type\":\"bar\"},{\"alignmentgroup\":\"True\",\"hovertemplate\":\"State=%{x}<br>counts=%{y}<extra></extra>\",\"legendgroup\":\"NE\",\"marker\":{\"color\":\"#FF6692\",\"pattern\":{\"shape\":\"\"}},\"name\":\"NE\",\"offsetgroup\":\"NE\",\"orientation\":\"v\",\"showlegend\":true,\"textposition\":\"auto\",\"x\":[\"NE\"],\"xaxis\":\"x\",\"y\":[1],\"yaxis\":\"y\",\"type\":\"bar\"},{\"alignmentgroup\":\"True\",\"hovertemplate\":\"State=%{x}<br>counts=%{y}<extra></extra>\",\"legendgroup\":\"NV\",\"marker\":{\"color\":\"#B6E880\",\"pattern\":{\"shape\":\"\"}},\"name\":\"NV\",\"offsetgroup\":\"NV\",\"orientation\":\"v\",\"showlegend\":true,\"textposition\":\"auto\",\"x\":[\"NV\"],\"xaxis\":\"x\",\"y\":[1],\"yaxis\":\"y\",\"type\":\"bar\"},{\"alignmentgroup\":\"True\",\"hovertemplate\":\"State=%{x}<br>counts=%{y}<extra></extra>\",\"legendgroup\":\"AK\",\"marker\":{\"color\":\"#FF97FF\",\"pattern\":{\"shape\":\"\"}},\"name\":\"AK\",\"offsetgroup\":\"AK\",\"orientation\":\"v\",\"showlegend\":true,\"textposition\":\"auto\",\"x\":[\"AK\"],\"xaxis\":\"x\",\"y\":[1],\"yaxis\":\"y\",\"type\":\"bar\"}],                        {\"template\":{\"data\":{\"histogram2dcontour\":[{\"type\":\"histogram2dcontour\",\"colorbar\":{\"outlinewidth\":0,\"ticks\":\"\"},\"colorscale\":[[0.0,\"#0d0887\"],[0.1111111111111111,\"#46039f\"],[0.2222222222222222,\"#7201a8\"],[0.3333333333333333,\"#9c179e\"],[0.4444444444444444,\"#bd3786\"],[0.5555555555555556,\"#d8576b\"],[0.6666666666666666,\"#ed7953\"],[0.7777777777777778,\"#fb9f3a\"],[0.8888888888888888,\"#fdca26\"],[1.0,\"#f0f921\"]]}],\"choropleth\":[{\"type\":\"choropleth\",\"colorbar\":{\"outlinewidth\":0,\"ticks\":\"\"}}],\"histogram2d\":[{\"type\":\"histogram2d\",\"colorbar\":{\"outlinewidth\":0,\"ticks\":\"\"},\"colorscale\":[[0.0,\"#0d0887\"],[0.1111111111111111,\"#46039f\"],[0.2222222222222222,\"#7201a8\"],[0.3333333333333333,\"#9c179e\"],[0.4444444444444444,\"#bd3786\"],[0.5555555555555556,\"#d8576b\"],[0.6666666666666666,\"#ed7953\"],[0.7777777777777778,\"#fb9f3a\"],[0.8888888888888888,\"#fdca26\"],[1.0,\"#f0f921\"]]}],\"heatmap\":[{\"type\":\"heatmap\",\"colorbar\":{\"outlinewidth\":0,\"ticks\":\"\"},\"colorscale\":[[0.0,\"#0d0887\"],[0.1111111111111111,\"#46039f\"],[0.2222222222222222,\"#7201a8\"],[0.3333333333333333,\"#9c179e\"],[0.4444444444444444,\"#bd3786\"],[0.5555555555555556,\"#d8576b\"],[0.6666666666666666,\"#ed7953\"],[0.7777777777777778,\"#fb9f3a\"],[0.8888888888888888,\"#fdca26\"],[1.0,\"#f0f921\"]]}],\"heatmapgl\":[{\"type\":\"heatmapgl\",\"colorbar\":{\"outlinewidth\":0,\"ticks\":\"\"},\"colorscale\":[[0.0,\"#0d0887\"],[0.1111111111111111,\"#46039f\"],[0.2222222222222222,\"#7201a8\"],[0.3333333333333333,\"#9c179e\"],[0.4444444444444444,\"#bd3786\"],[0.5555555555555556,\"#d8576b\"],[0.6666666666666666,\"#ed7953\"],[0.7777777777777778,\"#fb9f3a\"],[0.8888888888888888,\"#fdca26\"],[1.0,\"#f0f921\"]]}],\"contourcarpet\":[{\"type\":\"contourcarpet\",\"colorbar\":{\"outlinewidth\":0,\"ticks\":\"\"}}],\"contour\":[{\"type\":\"contour\",\"colorbar\":{\"outlinewidth\":0,\"ticks\":\"\"},\"colorscale\":[[0.0,\"#0d0887\"],[0.1111111111111111,\"#46039f\"],[0.2222222222222222,\"#7201a8\"],[0.3333333333333333,\"#9c179e\"],[0.4444444444444444,\"#bd3786\"],[0.5555555555555556,\"#d8576b\"],[0.6666666666666666,\"#ed7953\"],[0.7777777777777778,\"#fb9f3a\"],[0.8888888888888888,\"#fdca26\"],[1.0,\"#f0f921\"]]}],\"surface\":[{\"type\":\"surface\",\"colorbar\":{\"outlinewidth\":0,\"ticks\":\"\"},\"colorscale\":[[0.0,\"#0d0887\"],[0.1111111111111111,\"#46039f\"],[0.2222222222222222,\"#7201a8\"],[0.3333333333333333,\"#9c179e\"],[0.4444444444444444,\"#bd3786\"],[0.5555555555555556,\"#d8576b\"],[0.6666666666666666,\"#ed7953\"],[0.7777777777777778,\"#fb9f3a\"],[0.8888888888888888,\"#fdca26\"],[1.0,\"#f0f921\"]]}],\"mesh3d\":[{\"type\":\"mesh3d\",\"colorbar\":{\"outlinewidth\":0,\"ticks\":\"\"}}],\"scatter\":[{\"fillpattern\":{\"fillmode\":\"overlay\",\"size\":10,\"solidity\":0.2},\"type\":\"scatter\"}],\"parcoords\":[{\"type\":\"parcoords\",\"line\":{\"colorbar\":{\"outlinewidth\":0,\"ticks\":\"\"}}}],\"scatterpolargl\":[{\"type\":\"scatterpolargl\",\"marker\":{\"colorbar\":{\"outlinewidth\":0,\"ticks\":\"\"}}}],\"bar\":[{\"error_x\":{\"color\":\"#2a3f5f\"},\"error_y\":{\"color\":\"#2a3f5f\"},\"marker\":{\"line\":{\"color\":\"#E5ECF6\",\"width\":0.5},\"pattern\":{\"fillmode\":\"overlay\",\"size\":10,\"solidity\":0.2}},\"type\":\"bar\"}],\"scattergeo\":[{\"type\":\"scattergeo\",\"marker\":{\"colorbar\":{\"outlinewidth\":0,\"ticks\":\"\"}}}],\"scatterpolar\":[{\"type\":\"scatterpolar\",\"marker\":{\"colorbar\":{\"outlinewidth\":0,\"ticks\":\"\"}}}],\"histogram\":[{\"marker\":{\"pattern\":{\"fillmode\":\"overlay\",\"size\":10,\"solidity\":0.2}},\"type\":\"histogram\"}],\"scattergl\":[{\"type\":\"scattergl\",\"marker\":{\"colorbar\":{\"outlinewidth\":0,\"ticks\":\"\"}}}],\"scatter3d\":[{\"type\":\"scatter3d\",\"line\":{\"colorbar\":{\"outlinewidth\":0,\"ticks\":\"\"}},\"marker\":{\"colorbar\":{\"outlinewidth\":0,\"ticks\":\"\"}}}],\"scattermapbox\":[{\"type\":\"scattermapbox\",\"marker\":{\"colorbar\":{\"outlinewidth\":0,\"ticks\":\"\"}}}],\"scatterternary\":[{\"type\":\"scatterternary\",\"marker\":{\"colorbar\":{\"outlinewidth\":0,\"ticks\":\"\"}}}],\"scattercarpet\":[{\"type\":\"scattercarpet\",\"marker\":{\"colorbar\":{\"outlinewidth\":0,\"ticks\":\"\"}}}],\"carpet\":[{\"aaxis\":{\"endlinecolor\":\"#2a3f5f\",\"gridcolor\":\"white\",\"linecolor\":\"white\",\"minorgridcolor\":\"white\",\"startlinecolor\":\"#2a3f5f\"},\"baxis\":{\"endlinecolor\":\"#2a3f5f\",\"gridcolor\":\"white\",\"linecolor\":\"white\",\"minorgridcolor\":\"white\",\"startlinecolor\":\"#2a3f5f\"},\"type\":\"carpet\"}],\"table\":[{\"cells\":{\"fill\":{\"color\":\"#EBF0F8\"},\"line\":{\"color\":\"white\"}},\"header\":{\"fill\":{\"color\":\"#C8D4E3\"},\"line\":{\"color\":\"white\"}},\"type\":\"table\"}],\"barpolar\":[{\"marker\":{\"line\":{\"color\":\"#E5ECF6\",\"width\":0.5},\"pattern\":{\"fillmode\":\"overlay\",\"size\":10,\"solidity\":0.2}},\"type\":\"barpolar\"}],\"pie\":[{\"automargin\":true,\"type\":\"pie\"}]},\"layout\":{\"autotypenumbers\":\"strict\",\"colorway\":[\"#636efa\",\"#EF553B\",\"#00cc96\",\"#ab63fa\",\"#FFA15A\",\"#19d3f3\",\"#FF6692\",\"#B6E880\",\"#FF97FF\",\"#FECB52\"],\"font\":{\"color\":\"#2a3f5f\"},\"hovermode\":\"closest\",\"hoverlabel\":{\"align\":\"left\"},\"paper_bgcolor\":\"white\",\"plot_bgcolor\":\"#E5ECF6\",\"polar\":{\"bgcolor\":\"#E5ECF6\",\"angularaxis\":{\"gridcolor\":\"white\",\"linecolor\":\"white\",\"ticks\":\"\"},\"radialaxis\":{\"gridcolor\":\"white\",\"linecolor\":\"white\",\"ticks\":\"\"}},\"ternary\":{\"bgcolor\":\"#E5ECF6\",\"aaxis\":{\"gridcolor\":\"white\",\"linecolor\":\"white\",\"ticks\":\"\"},\"baxis\":{\"gridcolor\":\"white\",\"linecolor\":\"white\",\"ticks\":\"\"},\"caxis\":{\"gridcolor\":\"white\",\"linecolor\":\"white\",\"ticks\":\"\"}},\"coloraxis\":{\"colorbar\":{\"outlinewidth\":0,\"ticks\":\"\"}},\"colorscale\":{\"sequential\":[[0.0,\"#0d0887\"],[0.1111111111111111,\"#46039f\"],[0.2222222222222222,\"#7201a8\"],[0.3333333333333333,\"#9c179e\"],[0.4444444444444444,\"#bd3786\"],[0.5555555555555556,\"#d8576b\"],[0.6666666666666666,\"#ed7953\"],[0.7777777777777778,\"#fb9f3a\"],[0.8888888888888888,\"#fdca26\"],[1.0,\"#f0f921\"]],\"sequentialminus\":[[0.0,\"#0d0887\"],[0.1111111111111111,\"#46039f\"],[0.2222222222222222,\"#7201a8\"],[0.3333333333333333,\"#9c179e\"],[0.4444444444444444,\"#bd3786\"],[0.5555555555555556,\"#d8576b\"],[0.6666666666666666,\"#ed7953\"],[0.7777777777777778,\"#fb9f3a\"],[0.8888888888888888,\"#fdca26\"],[1.0,\"#f0f921\"]],\"diverging\":[[0,\"#8e0152\"],[0.1,\"#c51b7d\"],[0.2,\"#de77ae\"],[0.3,\"#f1b6da\"],[0.4,\"#fde0ef\"],[0.5,\"#f7f7f7\"],[0.6,\"#e6f5d0\"],[0.7,\"#b8e186\"],[0.8,\"#7fbc41\"],[0.9,\"#4d9221\"],[1,\"#276419\"]]},\"xaxis\":{\"gridcolor\":\"white\",\"linecolor\":\"white\",\"ticks\":\"\",\"title\":{\"standoff\":15},\"zerolinecolor\":\"white\",\"automargin\":true,\"zerolinewidth\":2},\"yaxis\":{\"gridcolor\":\"white\",\"linecolor\":\"white\",\"ticks\":\"\",\"title\":{\"standoff\":15},\"zerolinecolor\":\"white\",\"automargin\":true,\"zerolinewidth\":2},\"scene\":{\"xaxis\":{\"backgroundcolor\":\"#E5ECF6\",\"gridcolor\":\"white\",\"linecolor\":\"white\",\"showbackground\":true,\"ticks\":\"\",\"zerolinecolor\":\"white\",\"gridwidth\":2},\"yaxis\":{\"backgroundcolor\":\"#E5ECF6\",\"gridcolor\":\"white\",\"linecolor\":\"white\",\"showbackground\":true,\"ticks\":\"\",\"zerolinecolor\":\"white\",\"gridwidth\":2},\"zaxis\":{\"backgroundcolor\":\"#E5ECF6\",\"gridcolor\":\"white\",\"linecolor\":\"white\",\"showbackground\":true,\"ticks\":\"\",\"zerolinecolor\":\"white\",\"gridwidth\":2}},\"shapedefaults\":{\"line\":{\"color\":\"#2a3f5f\"}},\"annotationdefaults\":{\"arrowcolor\":\"#2a3f5f\",\"arrowhead\":0,\"arrowwidth\":1},\"geo\":{\"bgcolor\":\"white\",\"landcolor\":\"#E5ECF6\",\"subunitcolor\":\"white\",\"showland\":true,\"showlakes\":true,\"lakecolor\":\"white\"},\"title\":{\"x\":0.05},\"mapbox\":{\"style\":\"light\"}}},\"xaxis\":{\"anchor\":\"y\",\"domain\":[0.0,1.0],\"title\":{\"text\":\"State\"},\"categoryorder\":\"array\",\"categoryarray\":[\"NY\",\"PA\",\"CA\",\"TX\",\"NC\",\"MA\",\"OH\",\"NJ\",\"VA\",\"IN\",\"GA\",\"MD\",\"FL\",\"SC\",\"IL\",\"TN\",\"MN\",\"MO\",\"OR\",\"WA\",\"IA\",\"CT\",\"ME\",\"MI\",\"VT\",\"WI\",\"NH\",\"WV\",\"KY\",\"AL\",\"RI\",\"CO\",\"MT\",\"LA\",\"OK\",\"AZ\",\"ID\",\"AR\",\"DC\",\"MS\",\"NM\",\"HI\",\"DE\",\"ND\",\"KS\",\"UT\",\"NE\",\"NV\",\"AK\"]},\"yaxis\":{\"anchor\":\"x\",\"domain\":[0.0,1.0],\"title\":{\"text\":\"counts\"}},\"legend\":{\"title\":{\"text\":\"State\"},\"tracegroupgap\":0},\"title\":{\"text\":\"Number of universities per State\"},\"barmode\":\"relative\",\"height\":800,\"width\":900,\"showlegend\":false},                        {\"responsive\": true}                    ).then(function(){\n",
       "                            \n",
       "var gd = document.getElementById('28fd7b6e-9088-46cd-9e9e-434df78370e4');\n",
       "var x = new MutationObserver(function (mutations, observer) {{\n",
       "        var display = window.getComputedStyle(gd).display;\n",
       "        if (!display || display === 'none') {{\n",
       "            console.log([gd, 'removed!']);\n",
       "            Plotly.purge(gd);\n",
       "            observer.disconnect();\n",
       "        }}\n",
       "}});\n",
       "\n",
       "// Listen for the removal of the full notebook cells\n",
       "var notebookContainer = gd.closest('#notebook-container');\n",
       "if (notebookContainer) {{\n",
       "    x.observe(notebookContainer, {childList: true});\n",
       "}}\n",
       "\n",
       "// Listen for the clearing of the current output cell\n",
       "var outputEl = gd.closest('.output');\n",
       "if (outputEl) {{\n",
       "    x.observe(outputEl, {childList: true});\n",
       "}}\n",
       "\n",
       "                        })                };                });            </script>        </div>"
      ]
     },
     "metadata": {},
     "output_type": "display_data"
    }
   ],
   "source": [
    "schoolsPerState = data.groupby(\"State\").size().reset_index(name='counts').sort_values(\"counts\",ascending=False)\n",
    "\n",
    "fig = px.bar(schoolsPerState, y='counts', x='State', color=\"State\",\n",
    "             title='Number of universities per State',\n",
    "             width=900, height=800).update_layout(showlegend=False)\n",
    "fig.show()"
   ]
  },
  {
   "cell_type": "markdown",
   "id": "dfa08c5b-5f6b-4dd7-897c-4cc61e1ea980",
   "metadata": {},
   "source": [
    "Here is a pretty chart displaying the number of colleges in each state."
   ]
  }
 ],
 "metadata": {
  "kernelspec": {
   "display_name": "Python 3 (ipykernel)",
   "language": "python",
   "name": "python3"
  },
  "language_info": {
   "codemirror_mode": {
    "name": "ipython",
    "version": 3
   },
   "file_extension": ".py",
   "mimetype": "text/x-python",
   "name": "python",
   "nbconvert_exporter": "python",
   "pygments_lexer": "ipython3",
   "version": "3.9.13"
  }
 },
 "nbformat": 4,
 "nbformat_minor": 5
}
